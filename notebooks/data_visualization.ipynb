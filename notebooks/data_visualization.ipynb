{
 "cells": [
  {
   "cell_type": "code",
   "execution_count": 42,
   "id": "3894e796-ecab-4433-8d29-4e3a7774e58c",
   "metadata": {},
   "outputs": [],
   "source": [
    "import numpy as np\n",
    "import pandas as pd\n",
    "import dask.dataframe as dd\n",
    "from dask.delayed import delayed\n",
    "from zipfile import ZipFile\n",
    "import hvplot.pandas\n",
    "import hvplot.dask\n",
    "import random\n",
    "from datetime import date, datetime, timedelta, time\n",
    "from tqdm import tqdm"
   ]
  },
  {
   "cell_type": "code",
   "execution_count": 2,
   "id": "1ffd634e",
   "metadata": {},
   "outputs": [],
   "source": [
    "def load_zipped_csv(file_path):\n",
    "    zipped_file = [delayed(pd.read_csv)(file_path)]\n",
    "    return dd.from_delayed(zipped_file)"
   ]
  },
  {
   "cell_type": "code",
   "execution_count": 3,
   "id": "9c81c1b2",
   "metadata": {},
   "outputs": [],
   "source": [
    "def add_total_number_of_days(df):\n",
    "    df_to_join = df.groupby(\"user_id\").days_since_prior_order.sum().reset_index().rename(columns={\"days_since_prior_order\":\"total_days_on_platform\"})\n",
    "    df_to_join['user_id'] = df_to_join['user_id'].astype(int)\n",
    "    df = pd.merge(df, df_to_join, on=[\"user_id\"])\n",
    "    return df"
   ]
  },
  {
   "cell_type": "code",
   "execution_count": 4,
   "id": "8953c7bf",
   "metadata": {},
   "outputs": [],
   "source": [
    "def add_initial_date(df):\n",
    "    pass"
   ]
  },
  {
   "cell_type": "markdown",
   "id": "83405884-f03d-4d3e-8aa2-fc8008d9bdd4",
   "metadata": {},
   "source": [
    "## Load the data"
   ]
  },
  {
   "cell_type": "code",
   "execution_count": 5,
   "id": "9c116bcd-b4a4-4782-936d-db93a23c18c3",
   "metadata": {},
   "outputs": [],
   "source": [
    "df_order_products = load_zipped_csv(\"../data/order_products__prior.csv.zip\")\n",
    "df_orders = load_zipped_csv(\"../data/orders.csv.zip\")\n",
    "df_products = load_zipped_csv(\"../data/products.csv.zip\")\n",
    "df_aisles = load_zipped_csv(\"../data/aisles.csv.zip\")\n",
    "df_departments = load_zipped_csv(\"../data/departments.csv.zip\")"
   ]
  },
  {
   "cell_type": "code",
   "execution_count": 6,
   "id": "eeeec703",
   "metadata": {},
   "outputs": [
    {
     "name": "stderr",
     "output_type": "stream",
     "text": [
      "<ipython-input-6-c4d96f22324e>:6: UserWarning: `meta` is not specified, inferred from partial data. Please provide `meta` if the result is unexpected.\n",
      "  Before: .apply(func)\n",
      "  After:  .apply(func, meta={'x': 'f8', 'y': 'f8'}) for dataframe result\n",
      "  or:     .apply(func, meta=('x', 'f8'))            for series result\n",
      "  df_order_products = df_order_products.groupby(\"order_id\")[\"product_id\"].apply(list).compute().to_frame().reset_index()\n"
     ]
    }
   ],
   "source": [
    "df_orders = df_orders[df_orders[\"eval_set\"] == \"prior\"]\n",
    "# df_orders = df_orders[df_orders[\"user_id\"].isin([4, 5, 6, 7])]\n",
    "df_orders['order_id'] = df_orders['order_id'].astype(int)\n",
    "\n",
    "\n",
    "df_order_products = df_order_products.groupby(\"order_id\")[\"product_id\"].apply(list).compute().to_frame().reset_index()\n",
    "df_order_products['order_id'] = df_order_products['order_id'].astype(int)"
   ]
  },
  {
   "cell_type": "code",
   "execution_count": 7,
   "id": "4f90c66d-9c12-4dcc-86be-d6b79ccd69dd",
   "metadata": {},
   "outputs": [],
   "source": [
    "df = df_orders.merge(df_order_products, on=[\"order_id\"]).compute()\n",
    "\n",
    "# df = df.join(df_products, on='product_id', rsuffix=\"_\")\n",
    "# df = df.join(df_aisles, on='aisle_id', rsuffix=\"_\")\n",
    "# df = df.join(df_departments, on='department_id', rsuffix=\"_\")"
   ]
  },
  {
   "cell_type": "code",
   "execution_count": 8,
   "id": "38f118a6",
   "metadata": {},
   "outputs": [],
   "source": [
    "df = add_total_number_of_days(df)"
   ]
  },
  {
   "cell_type": "markdown",
   "id": "1248e946",
   "metadata": {},
   "source": [
    "## Joined dataset metadata"
   ]
  },
  {
   "cell_type": "code",
   "execution_count": 9,
   "id": "7374126f",
   "metadata": {},
   "outputs": [
    {
     "data": {
      "text/html": [
       "<div>\n",
       "<style scoped>\n",
       "    .dataframe tbody tr th:only-of-type {\n",
       "        vertical-align: middle;\n",
       "    }\n",
       "\n",
       "    .dataframe tbody tr th {\n",
       "        vertical-align: top;\n",
       "    }\n",
       "\n",
       "    .dataframe thead th {\n",
       "        text-align: right;\n",
       "    }\n",
       "</style>\n",
       "<table border=\"1\" class=\"dataframe\">\n",
       "  <thead>\n",
       "    <tr style=\"text-align: right;\">\n",
       "      <th></th>\n",
       "      <th>order_id</th>\n",
       "      <th>user_id</th>\n",
       "      <th>eval_set</th>\n",
       "      <th>order_number</th>\n",
       "      <th>order_dow</th>\n",
       "      <th>order_hour_of_day</th>\n",
       "      <th>days_since_prior_order</th>\n",
       "      <th>product_id</th>\n",
       "      <th>total_days_on_platform</th>\n",
       "    </tr>\n",
       "  </thead>\n",
       "  <tbody>\n",
       "    <tr>\n",
       "      <th>0</th>\n",
       "      <td>2539329</td>\n",
       "      <td>1</td>\n",
       "      <td>prior</td>\n",
       "      <td>1</td>\n",
       "      <td>2</td>\n",
       "      <td>8</td>\n",
       "      <td>NaN</td>\n",
       "      <td>[196, 14084, 12427, 26088, 26405]</td>\n",
       "      <td>176.0</td>\n",
       "    </tr>\n",
       "    <tr>\n",
       "      <th>1</th>\n",
       "      <td>2398795</td>\n",
       "      <td>1</td>\n",
       "      <td>prior</td>\n",
       "      <td>2</td>\n",
       "      <td>3</td>\n",
       "      <td>7</td>\n",
       "      <td>15.0</td>\n",
       "      <td>[196, 10258, 12427, 13176, 26088, 13032]</td>\n",
       "      <td>176.0</td>\n",
       "    </tr>\n",
       "    <tr>\n",
       "      <th>2</th>\n",
       "      <td>473747</td>\n",
       "      <td>1</td>\n",
       "      <td>prior</td>\n",
       "      <td>3</td>\n",
       "      <td>3</td>\n",
       "      <td>12</td>\n",
       "      <td>21.0</td>\n",
       "      <td>[196, 12427, 10258, 25133, 30450]</td>\n",
       "      <td>176.0</td>\n",
       "    </tr>\n",
       "    <tr>\n",
       "      <th>3</th>\n",
       "      <td>2254736</td>\n",
       "      <td>1</td>\n",
       "      <td>prior</td>\n",
       "      <td>4</td>\n",
       "      <td>4</td>\n",
       "      <td>7</td>\n",
       "      <td>29.0</td>\n",
       "      <td>[196, 12427, 10258, 25133, 26405]</td>\n",
       "      <td>176.0</td>\n",
       "    </tr>\n",
       "    <tr>\n",
       "      <th>4</th>\n",
       "      <td>431534</td>\n",
       "      <td>1</td>\n",
       "      <td>prior</td>\n",
       "      <td>5</td>\n",
       "      <td>4</td>\n",
       "      <td>15</td>\n",
       "      <td>28.0</td>\n",
       "      <td>[196, 12427, 10258, 25133, 10326, 17122, 41787...</td>\n",
       "      <td>176.0</td>\n",
       "    </tr>\n",
       "  </tbody>\n",
       "</table>\n",
       "</div>"
      ],
      "text/plain": [
       "   order_id  user_id eval_set  order_number  order_dow  order_hour_of_day  \\\n",
       "0   2539329        1    prior             1          2                  8   \n",
       "1   2398795        1    prior             2          3                  7   \n",
       "2    473747        1    prior             3          3                 12   \n",
       "3   2254736        1    prior             4          4                  7   \n",
       "4    431534        1    prior             5          4                 15   \n",
       "\n",
       "   days_since_prior_order                                         product_id  \\\n",
       "0                     NaN                  [196, 14084, 12427, 26088, 26405]   \n",
       "1                    15.0           [196, 10258, 12427, 13176, 26088, 13032]   \n",
       "2                    21.0                  [196, 12427, 10258, 25133, 30450]   \n",
       "3                    29.0                  [196, 12427, 10258, 25133, 26405]   \n",
       "4                    28.0  [196, 12427, 10258, 25133, 10326, 17122, 41787...   \n",
       "\n",
       "   total_days_on_platform  \n",
       "0                   176.0  \n",
       "1                   176.0  \n",
       "2                   176.0  \n",
       "3                   176.0  \n",
       "4                   176.0  "
      ]
     },
     "execution_count": 9,
     "metadata": {},
     "output_type": "execute_result"
    }
   ],
   "source": [
    "df.head(5)"
   ]
  },
  {
   "cell_type": "code",
   "execution_count": 10,
   "id": "9fc17bbc",
   "metadata": {},
   "outputs": [
    {
     "data": {
      "text/plain": [
       "3214874"
      ]
     },
     "execution_count": 10,
     "metadata": {},
     "output_type": "execute_result"
    }
   ],
   "source": [
    "n_rows = len(df)\n",
    "n_rows"
   ]
  },
  {
   "cell_type": "code",
   "execution_count": 11,
   "id": "7760f6f7",
   "metadata": {},
   "outputs": [
    {
     "name": "stdout",
     "output_type": "stream",
     "text": [
      "order_id 3214874\n",
      "user_id 206209\n",
      "eval_set 1\n",
      "order_number 99\n",
      "order_dow 7\n",
      "order_hour_of_day 24\n",
      "days_since_prior_order 32\n",
      "total_days_on_platform 366\n"
     ]
    }
   ],
   "source": [
    "for col in df:\n",
    "    try:\n",
    "        print(col, len(df[col].unique()))\n",
    "    except:\n",
    "        pass"
   ]
  },
  {
   "cell_type": "markdown",
   "id": "1cfdd0dd-e816-4a3f-93ff-29956561aad0",
   "metadata": {},
   "source": [
    "## Plots on orders"
   ]
  },
  {
   "cell_type": "code",
   "execution_count": 12,
   "id": "51b62173",
   "metadata": {},
   "outputs": [
    {
     "data": {},
     "metadata": {},
     "output_type": "display_data"
    },
    {
     "data": {
      "application/vnd.holoviews_exec.v0+json": "",
      "text/html": [
       "<div id='1002'>\n",
       "  <div class=\"bk-root\" id=\"86bd95a1-e7a0-412f-929e-d06a23c9e43c\" data-root-id=\"1002\"></div>\n",
       "</div>\n",
       "<script type=\"application/javascript\">(function(root) {\n",
       "  function embed_document(root) {\n",
       "    var docs_json = {\"07760271-c728-4442-b9a5-d811d627fa38\":{\"defs\":[{\"extends\":null,\"module\":null,\"name\":\"ReactiveHTML1\",\"overrides\":[],\"properties\":[]},{\"extends\":null,\"module\":null,\"name\":\"FlexBox1\",\"overrides\":[],\"properties\":[{\"default\":\"flex-start\",\"kind\":null,\"name\":\"align_content\"},{\"default\":\"flex-start\",\"kind\":null,\"name\":\"align_items\"},{\"default\":\"row\",\"kind\":null,\"name\":\"flex_direction\"},{\"default\":\"wrap\",\"kind\":null,\"name\":\"flex_wrap\"},{\"default\":\"flex-start\",\"kind\":null,\"name\":\"justify_content\"}]},{\"extends\":null,\"module\":null,\"name\":\"GridStack1\",\"overrides\":[],\"properties\":[{\"default\":\"warn\",\"kind\":null,\"name\":\"mode\"},{\"default\":null,\"kind\":null,\"name\":\"ncols\"},{\"default\":null,\"kind\":null,\"name\":\"nrows\"},{\"default\":true,\"kind\":null,\"name\":\"allow_resize\"},{\"default\":true,\"kind\":null,\"name\":\"allow_drag\"},{\"default\":[],\"kind\":null,\"name\":\"state\"}]},{\"extends\":null,\"module\":null,\"name\":\"click1\",\"overrides\":[],\"properties\":[{\"default\":\"\",\"kind\":null,\"name\":\"terminal_output\"},{\"default\":\"\",\"kind\":null,\"name\":\"debug_name\"},{\"default\":0,\"kind\":null,\"name\":\"clears\"}]},{\"extends\":null,\"module\":null,\"name\":\"NotificationAreaBase1\",\"overrides\":[],\"properties\":[{\"default\":\"bottom-right\",\"kind\":null,\"name\":\"position\"},{\"default\":0,\"kind\":null,\"name\":\"_clear\"}]},{\"extends\":null,\"module\":null,\"name\":\"NotificationArea1\",\"overrides\":[],\"properties\":[{\"default\":[],\"kind\":null,\"name\":\"notifications\"},{\"default\":\"bottom-right\",\"kind\":null,\"name\":\"position\"},{\"default\":0,\"kind\":null,\"name\":\"_clear\"},{\"default\":[{\"background\":\"#ffc107\",\"icon\":{\"className\":\"fas fa-exclamation-triangle\",\"color\":\"white\",\"tagName\":\"i\"},\"type\":\"warning\"},{\"background\":\"#007bff\",\"icon\":{\"className\":\"fas fa-info-circle\",\"color\":\"white\",\"tagName\":\"i\"},\"type\":\"info\"}],\"kind\":null,\"name\":\"types\"}]},{\"extends\":null,\"module\":null,\"name\":\"Notification\",\"overrides\":[],\"properties\":[{\"default\":null,\"kind\":null,\"name\":\"background\"},{\"default\":3000,\"kind\":null,\"name\":\"duration\"},{\"default\":null,\"kind\":null,\"name\":\"icon\"},{\"default\":\"\",\"kind\":null,\"name\":\"message\"},{\"default\":null,\"kind\":null,\"name\":\"notification_type\"},{\"default\":false,\"kind\":null,\"name\":\"_destroyed\"}]},{\"extends\":null,\"module\":null,\"name\":\"TemplateActions1\",\"overrides\":[],\"properties\":[{\"default\":0,\"kind\":null,\"name\":\"open_modal\"},{\"default\":0,\"kind\":null,\"name\":\"close_modal\"}]},{\"extends\":null,\"module\":null,\"name\":\"MaterialTemplateActions1\",\"overrides\":[],\"properties\":[{\"default\":0,\"kind\":null,\"name\":\"open_modal\"},{\"default\":0,\"kind\":null,\"name\":\"close_modal\"}]}],\"roots\":{\"references\":[{\"attributes\":{},\"id\":\"1016\",\"type\":\"LinearScale\"},{\"attributes\":{},\"id\":\"1018\",\"type\":\"CategoricalTicker\"},{\"attributes\":{\"coordinates\":null,\"group\":null,\"text\":\"Percentage of orders per hour\",\"text_color\":\"black\",\"text_font_size\":\"12pt\"},\"id\":\"1009\",\"type\":\"Title\"},{\"attributes\":{\"below\":[{\"id\":\"1017\"}],\"center\":[{\"id\":\"1019\"},{\"id\":\"1023\"}],\"height\":300,\"left\":[{\"id\":\"1020\"}],\"margin\":[5,5,5,5],\"min_border_bottom\":10,\"min_border_left\":10,\"min_border_right\":10,\"min_border_top\":10,\"output_backend\":\"webgl\",\"renderers\":[{\"id\":\"1043\"}],\"sizing_mode\":\"fixed\",\"title\":{\"id\":\"1009\"},\"toolbar\":{\"id\":\"1030\"},\"width\":700,\"x_range\":{\"id\":\"1003\"},\"x_scale\":{\"id\":\"1015\"},\"y_range\":{\"id\":\"1004\"},\"y_scale\":{\"id\":\"1016\"}},\"id\":\"1008\",\"subtype\":\"Figure\",\"type\":\"Plot\"},{\"attributes\":{},\"id\":\"1015\",\"type\":\"CategoricalScale\"},{\"attributes\":{\"axis\":{\"id\":\"1017\"},\"coordinates\":null,\"grid_line_color\":null,\"group\":null,\"ticker\":null},\"id\":\"1019\",\"type\":\"Grid\"},{\"attributes\":{\"axis_label\":\"order_hour_of_day\",\"coordinates\":null,\"formatter\":{\"id\":\"1047\"},\"group\":null,\"major_label_policy\":{\"id\":\"1048\"},\"ticker\":{\"id\":\"1018\"}},\"id\":\"1017\",\"type\":\"CategoricalAxis\"},{\"attributes\":{},\"id\":\"1024\",\"type\":\"SaveTool\"},{\"attributes\":{},\"id\":\"1038\",\"type\":\"Selection\"},{\"attributes\":{\"axis_label\":\"percentage of orders\",\"coordinates\":null,\"formatter\":{\"id\":\"1050\"},\"group\":null,\"major_label_policy\":{\"id\":\"1051\"},\"ticker\":{\"id\":\"1021\"}},\"id\":\"1020\",\"type\":\"LinearAxis\"},{\"attributes\":{\"axis\":{\"id\":\"1020\"},\"coordinates\":null,\"dimension\":1,\"grid_line_color\":null,\"group\":null,\"ticker\":null},\"id\":\"1023\",\"type\":\"Grid\"},{\"attributes\":{},\"id\":\"1021\",\"type\":\"BasicTicker\"},{\"attributes\":{},\"id\":\"1063\",\"type\":\"UnionRenderers\"},{\"attributes\":{},\"id\":\"1048\",\"type\":\"AllLabels\"},{\"attributes\":{\"source\":{\"id\":\"1037\"}},\"id\":\"1044\",\"type\":\"CDSView\"},{\"attributes\":{\"data\":{\"order_hour_of_day\":[\"0\",\"1\",\"2\",\"3\",\"4\",\"5\",\"6\",\"7\",\"8\",\"9\",\"10\",\"11\",\"12\",\"13\",\"14\",\"15\",\"16\",\"17\",\"18\",\"19\",\"20\",\"21\",\"22\",\"23\"],\"percentage_of_orders\":{\"__ndarray__\":\"jsrVosY6ez+v/nrxZIxtPz5GUk/1A2I/Ea0pctYXWj+tn+P/l19aP4kdbZev3GY/ATJZynRXgj95rykLBJqbP6oxOL+Hzqo/fO4e37ljsz9qVn9dcaa1P4T4bFNeV7U/UYiAktJmtD9FbTixGMy0P7909rJsJbU/521DoCoxtT8madhilWG0P1K6FdoSDLE/lx1oQaw7qz/wSiZeNvakP+LX6pvnP58/u1XdPwtklz/g5Q9Q3lOSP9vua5cA9oc/\",\"dtype\":\"float64\",\"order\":\"little\",\"shape\":[24]}},\"selected\":{\"id\":\"1038\"},\"selection_policy\":{\"id\":\"1063\"}},\"id\":\"1037\",\"type\":\"ColumnDataSource\"},{\"attributes\":{\"bottom_units\":\"screen\",\"coordinates\":null,\"fill_alpha\":0.5,\"fill_color\":\"lightgrey\",\"group\":null,\"left_units\":\"screen\",\"level\":\"overlay\",\"line_alpha\":1.0,\"line_color\":\"black\",\"line_dash\":[4,4],\"line_width\":2,\"right_units\":\"screen\",\"syncable\":false,\"top_units\":\"screen\"},\"id\":\"1029\",\"type\":\"BoxAnnotation\"},{\"attributes\":{\"bottom\":{\"value\":0},\"fill_alpha\":{\"value\":1.0},\"fill_color\":{\"value\":\"#30a2da\"},\"hatch_alpha\":{\"value\":1.0},\"hatch_color\":{\"value\":\"#30a2da\"},\"hatch_scale\":{\"value\":12.0},\"hatch_weight\":{\"value\":1.0},\"line_alpha\":{\"value\":1.0},\"line_cap\":{\"value\":\"butt\"},\"line_color\":{\"value\":\"black\"},\"line_dash\":{\"value\":[]},\"line_dash_offset\":{\"value\":0},\"line_join\":{\"value\":\"bevel\"},\"line_width\":{\"value\":1},\"tags\":[\"apply_ranges\"],\"top\":{\"field\":\"percentage_of_orders\"},\"width\":{\"value\":0.8},\"x\":{\"field\":\"order_hour_of_day\"}},\"id\":\"1045\",\"type\":\"VBar\"},{\"attributes\":{},\"id\":\"1025\",\"type\":\"PanTool\"},{\"attributes\":{\"factors\":[\"0\",\"1\",\"2\",\"3\",\"4\",\"5\",\"6\",\"7\",\"8\",\"9\",\"10\",\"11\",\"12\",\"13\",\"14\",\"15\",\"16\",\"17\",\"18\",\"19\",\"20\",\"21\",\"22\",\"23\"],\"tags\":[[[\"order_hour_of_day\",\"order_hour_of_day\",null]],[]]},\"id\":\"1003\",\"type\":\"FactorRange\"},{\"attributes\":{},\"id\":\"1026\",\"type\":\"WheelZoomTool\"},{\"attributes\":{},\"id\":\"1050\",\"type\":\"BasicTickFormatter\"},{\"attributes\":{\"overlay\":{\"id\":\"1029\"}},\"id\":\"1027\",\"type\":\"BoxZoomTool\"},{\"attributes\":{},\"id\":\"1028\",\"type\":\"ResetTool\"},{\"attributes\":{\"active_drag\":{\"id\":\"1025\"},\"active_scroll\":{\"id\":\"1026\"},\"tools\":[{\"id\":\"1007\"},{\"id\":\"1024\"},{\"id\":\"1025\"},{\"id\":\"1026\"},{\"id\":\"1027\"},{\"id\":\"1028\"}]},\"id\":\"1030\",\"type\":\"Toolbar\"},{\"attributes\":{\"coordinates\":null,\"data_source\":{\"id\":\"1037\"},\"glyph\":{\"id\":\"1040\"},\"group\":null,\"hover_glyph\":null,\"muted_glyph\":{\"id\":\"1042\"},\"nonselection_glyph\":{\"id\":\"1041\"},\"selection_glyph\":{\"id\":\"1045\"},\"view\":{\"id\":\"1044\"}},\"id\":\"1043\",\"type\":\"GlyphRenderer\"},{\"attributes\":{},\"id\":\"1047\",\"type\":\"CategoricalTickFormatter\"},{\"attributes\":{\"fill_color\":{\"value\":\"#30a2da\"},\"hatch_color\":{\"value\":\"#30a2da\"},\"tags\":[\"apply_ranges\"],\"top\":{\"field\":\"percentage_of_orders\"},\"width\":{\"value\":0.8},\"x\":{\"field\":\"order_hour_of_day\"}},\"id\":\"1040\",\"type\":\"VBar\"},{\"attributes\":{},\"id\":\"1051\",\"type\":\"AllLabels\"},{\"attributes\":{\"children\":[{\"id\":\"1008\"}],\"height\":300,\"margin\":[0,0,0,0],\"name\":\"Row00861\",\"sizing_mode\":\"fixed\",\"tags\":[\"embedded\"],\"width\":700},\"id\":\"1002\",\"type\":\"Row\"},{\"attributes\":{\"fill_alpha\":{\"value\":0.1},\"fill_color\":{\"value\":\"#30a2da\"},\"hatch_alpha\":{\"value\":0.1},\"hatch_color\":{\"value\":\"#30a2da\"},\"line_alpha\":{\"value\":0.1},\"tags\":[\"apply_ranges\"],\"top\":{\"field\":\"percentage_of_orders\"},\"width\":{\"value\":0.8},\"x\":{\"field\":\"order_hour_of_day\"}},\"id\":\"1041\",\"type\":\"VBar\"},{\"attributes\":{\"end\":0.09286880294530983,\"reset_end\":0.09286880294530983,\"reset_start\":0.0,\"tags\":[[[\"percentage of orders\",\"percentage of orders\",null]],{\"autorange\":false,\"invert_yaxis\":false}]},\"id\":\"1004\",\"type\":\"Range1d\"},{\"attributes\":{\"fill_alpha\":{\"value\":0.2},\"fill_color\":{\"value\":\"#30a2da\"},\"hatch_alpha\":{\"value\":0.2},\"hatch_color\":{\"value\":\"#30a2da\"},\"line_alpha\":{\"value\":0.2},\"tags\":[\"apply_ranges\"],\"top\":{\"field\":\"percentage_of_orders\"},\"width\":{\"value\":0.8},\"x\":{\"field\":\"order_hour_of_day\"}},\"id\":\"1042\",\"type\":\"VBar\"},{\"attributes\":{\"callback\":null,\"renderers\":[{\"id\":\"1043\"}],\"tags\":[\"hv_created\"],\"tooltips\":[[\"order_hour_of_day\",\"@{order_hour_of_day}\"],[\"percentage of orders\",\"@{percentage_of_orders}\"]]},\"id\":\"1007\",\"type\":\"HoverTool\"}],\"root_ids\":[\"1002\"]},\"title\":\"Bokeh Application\",\"version\":\"2.4.3\"}};\n",
       "    var render_items = [{\"docid\":\"07760271-c728-4442-b9a5-d811d627fa38\",\"root_ids\":[\"1002\"],\"roots\":{\"1002\":\"86bd95a1-e7a0-412f-929e-d06a23c9e43c\"}}];\n",
       "    root.Bokeh.embed.embed_items_notebook(docs_json, render_items);\n",
       "    for (const render_item of render_items) {\n",
       "      for (const root_id of render_item.root_ids) {\n",
       "\tconst id_el = document.getElementById(root_id)\n",
       "\tif (id_el.children.length && (id_el.children[0].className === 'bk-root')) {\n",
       "\t  const root_el = id_el.children[0]\n",
       "\t  root_el.id = root_el.id + '-rendered'\n",
       "\t}\n",
       "      }\n",
       "    }\n",
       "  }\n",
       "  if (root.Bokeh !== undefined && root.Bokeh.Panel !== undefined) {\n",
       "    embed_document(root);\n",
       "  } else {\n",
       "    var attempts = 0;\n",
       "    var timer = setInterval(function(root) {\n",
       "      if (root.Bokeh !== undefined && root.Bokeh.Panel !== undefined) {\n",
       "        clearInterval(timer);\n",
       "        embed_document(root);\n",
       "      } else if (document.readyState == \"complete\") {\n",
       "        attempts++;\n",
       "        if (attempts > 200) {\n",
       "          clearInterval(timer);\n",
       "          console.log(\"Bokeh: ERROR: Unable to run BokehJS code because BokehJS library is missing\");\n",
       "        }\n",
       "      }\n",
       "    }, 25, root)\n",
       "  }\n",
       "})(window);</script>"
      ],
      "text/plain": [
       ":Bars   [order_hour_of_day]   (percentage of orders)"
      ]
     },
     "execution_count": 12,
     "metadata": {
      "application/vnd.holoviews_exec.v0+json": {
       "id": "1002"
      }
     },
     "output_type": "execute_result"
    }
   ],
   "source": [
    "df_order_hour = df.groupby(\"order_hour_of_day\").order_id.count().reset_index()\n",
    "df_order_hour['percentage of orders'] = df_order_hour['order_id']/n_rows\n",
    "df_order_hour.hvplot.bar(x=\"order_hour_of_day\", y=\"percentage of orders\", title=\"Percentage of orders per hour\")"
   ]
  },
  {
   "cell_type": "code",
   "execution_count": 13,
   "id": "24f750e3",
   "metadata": {},
   "outputs": [
    {
     "data": {},
     "metadata": {},
     "output_type": "display_data"
    },
    {
     "data": {
      "application/vnd.holoviews_exec.v0+json": "",
      "text/html": [
       "<div id='1117'>\n",
       "  <div class=\"bk-root\" id=\"5364b3bc-d5e3-4ff0-b3fb-f57c5874468b\" data-root-id=\"1117\"></div>\n",
       "</div>\n",
       "<script type=\"application/javascript\">(function(root) {\n",
       "  function embed_document(root) {\n",
       "    var docs_json = {\"81959152-9df1-4113-8fc9-02c7b3a5d9fe\":{\"defs\":[{\"extends\":null,\"module\":null,\"name\":\"ReactiveHTML1\",\"overrides\":[],\"properties\":[]},{\"extends\":null,\"module\":null,\"name\":\"FlexBox1\",\"overrides\":[],\"properties\":[{\"default\":\"flex-start\",\"kind\":null,\"name\":\"align_content\"},{\"default\":\"flex-start\",\"kind\":null,\"name\":\"align_items\"},{\"default\":\"row\",\"kind\":null,\"name\":\"flex_direction\"},{\"default\":\"wrap\",\"kind\":null,\"name\":\"flex_wrap\"},{\"default\":\"flex-start\",\"kind\":null,\"name\":\"justify_content\"}]},{\"extends\":null,\"module\":null,\"name\":\"GridStack1\",\"overrides\":[],\"properties\":[{\"default\":\"warn\",\"kind\":null,\"name\":\"mode\"},{\"default\":null,\"kind\":null,\"name\":\"ncols\"},{\"default\":null,\"kind\":null,\"name\":\"nrows\"},{\"default\":true,\"kind\":null,\"name\":\"allow_resize\"},{\"default\":true,\"kind\":null,\"name\":\"allow_drag\"},{\"default\":[],\"kind\":null,\"name\":\"state\"}]},{\"extends\":null,\"module\":null,\"name\":\"click1\",\"overrides\":[],\"properties\":[{\"default\":\"\",\"kind\":null,\"name\":\"terminal_output\"},{\"default\":\"\",\"kind\":null,\"name\":\"debug_name\"},{\"default\":0,\"kind\":null,\"name\":\"clears\"}]},{\"extends\":null,\"module\":null,\"name\":\"NotificationAreaBase1\",\"overrides\":[],\"properties\":[{\"default\":\"bottom-right\",\"kind\":null,\"name\":\"position\"},{\"default\":0,\"kind\":null,\"name\":\"_clear\"}]},{\"extends\":null,\"module\":null,\"name\":\"NotificationArea1\",\"overrides\":[],\"properties\":[{\"default\":[],\"kind\":null,\"name\":\"notifications\"},{\"default\":\"bottom-right\",\"kind\":null,\"name\":\"position\"},{\"default\":0,\"kind\":null,\"name\":\"_clear\"},{\"default\":[{\"background\":\"#ffc107\",\"icon\":{\"className\":\"fas fa-exclamation-triangle\",\"color\":\"white\",\"tagName\":\"i\"},\"type\":\"warning\"},{\"background\":\"#007bff\",\"icon\":{\"className\":\"fas fa-info-circle\",\"color\":\"white\",\"tagName\":\"i\"},\"type\":\"info\"}],\"kind\":null,\"name\":\"types\"}]},{\"extends\":null,\"module\":null,\"name\":\"Notification\",\"overrides\":[],\"properties\":[{\"default\":null,\"kind\":null,\"name\":\"background\"},{\"default\":3000,\"kind\":null,\"name\":\"duration\"},{\"default\":null,\"kind\":null,\"name\":\"icon\"},{\"default\":\"\",\"kind\":null,\"name\":\"message\"},{\"default\":null,\"kind\":null,\"name\":\"notification_type\"},{\"default\":false,\"kind\":null,\"name\":\"_destroyed\"}]},{\"extends\":null,\"module\":null,\"name\":\"TemplateActions1\",\"overrides\":[],\"properties\":[{\"default\":0,\"kind\":null,\"name\":\"open_modal\"},{\"default\":0,\"kind\":null,\"name\":\"close_modal\"}]},{\"extends\":null,\"module\":null,\"name\":\"MaterialTemplateActions1\",\"overrides\":[],\"properties\":[{\"default\":0,\"kind\":null,\"name\":\"open_modal\"},{\"default\":0,\"kind\":null,\"name\":\"close_modal\"}]}],\"roots\":{\"references\":[{\"attributes\":{\"coordinates\":null,\"data_source\":{\"id\":\"1153\"},\"glyph\":{\"id\":\"1156\"},\"group\":null,\"hover_glyph\":null,\"muted_glyph\":{\"id\":\"1158\"},\"nonselection_glyph\":{\"id\":\"1157\"},\"selection_glyph\":{\"id\":\"1161\"},\"view\":{\"id\":\"1160\"}},\"id\":\"1159\",\"type\":\"GlyphRenderer\"},{\"attributes\":{},\"id\":\"1131\",\"type\":\"LinearScale\"},{\"attributes\":{\"source\":{\"id\":\"1153\"}},\"id\":\"1160\",\"type\":\"CDSView\"},{\"attributes\":{\"bottom\":{\"value\":0},\"fill_color\":{\"value\":\"#30a2da\"},\"hatch_color\":{\"value\":\"#30a2da\"},\"left\":{\"field\":\"left\"},\"right\":{\"field\":\"right\"},\"tags\":[\"apply_ranges\"],\"top\":{\"field\":\"top\"}},\"id\":\"1156\",\"type\":\"Quad\"},{\"attributes\":{\"end\":16869.5,\"reset_end\":16869.5,\"reset_start\":0.0,\"tags\":[[[\"days_since_prior_order_count\",\"Count\",null]],{\"autorange\":false,\"invert_yaxis\":false}]},\"id\":\"1119\",\"type\":\"Range1d\"},{\"attributes\":{\"callback\":null,\"renderers\":[{\"id\":\"1159\"}],\"tags\":[\"hv_created\"],\"tooltips\":[[\"days_since_prior_order\",\"@{days_since_prior_order}\"],[\"Count\",\"@{days_since_prior_order_count}\"]]},\"id\":\"1122\",\"type\":\"HoverTool\"},{\"attributes\":{},\"id\":\"1164\",\"type\":\"AllLabels\"},{\"attributes\":{\"bottom\":{\"value\":0},\"fill_alpha\":{\"value\":0.1},\"fill_color\":{\"value\":\"#30a2da\"},\"hatch_alpha\":{\"value\":0.1},\"hatch_color\":{\"value\":\"#30a2da\"},\"left\":{\"field\":\"left\"},\"line_alpha\":{\"value\":0.1},\"right\":{\"field\":\"right\"},\"tags\":[\"apply_ranges\"],\"top\":{\"field\":\"top\"}},\"id\":\"1157\",\"type\":\"Quad\"},{\"attributes\":{\"bottom\":{\"value\":0},\"fill_alpha\":{\"value\":1.0},\"fill_color\":{\"value\":\"#30a2da\"},\"hatch_alpha\":{\"value\":1.0},\"hatch_color\":{\"value\":\"#30a2da\"},\"hatch_scale\":{\"value\":12.0},\"hatch_weight\":{\"value\":1.0},\"left\":{\"field\":\"left\"},\"line_alpha\":{\"value\":1.0},\"line_cap\":{\"value\":\"butt\"},\"line_color\":{\"value\":\"black\"},\"line_dash\":{\"value\":[]},\"line_dash_offset\":{\"value\":0},\"line_join\":{\"value\":\"bevel\"},\"line_width\":{\"value\":1},\"right\":{\"field\":\"right\"},\"tags\":[\"apply_ranges\"],\"top\":{\"field\":\"top\"}},\"id\":\"1161\",\"type\":\"Quad\"},{\"attributes\":{},\"id\":\"1133\",\"type\":\"BasicTicker\"},{\"attributes\":{},\"id\":\"1130\",\"type\":\"LinearScale\"},{\"attributes\":{},\"id\":\"1154\",\"type\":\"Selection\"},{\"attributes\":{\"coordinates\":null,\"group\":null,\"text\":\"Average number of days between orders\",\"text_color\":\"black\",\"text_font_size\":\"12pt\"},\"id\":\"1124\",\"type\":\"Title\"},{\"attributes\":{\"below\":[{\"id\":\"1132\"}],\"center\":[{\"id\":\"1135\"},{\"id\":\"1139\"}],\"height\":300,\"left\":[{\"id\":\"1136\"}],\"margin\":[5,5,5,5],\"min_border_bottom\":10,\"min_border_left\":10,\"min_border_right\":10,\"min_border_top\":10,\"output_backend\":\"webgl\",\"renderers\":[{\"id\":\"1159\"}],\"sizing_mode\":\"fixed\",\"title\":{\"id\":\"1124\"},\"toolbar\":{\"id\":\"1146\"},\"width\":700,\"x_range\":{\"id\":\"1118\"},\"x_scale\":{\"id\":\"1130\"},\"y_range\":{\"id\":\"1119\"},\"y_scale\":{\"id\":\"1131\"}},\"id\":\"1123\",\"subtype\":\"Figure\",\"type\":\"Plot\"},{\"attributes\":{},\"id\":\"1166\",\"type\":\"BasicTickFormatter\"},{\"attributes\":{\"axis\":{\"id\":\"1132\"},\"coordinates\":null,\"grid_line_color\":null,\"group\":null,\"ticker\":null},\"id\":\"1135\",\"type\":\"Grid\"},{\"attributes\":{\"axis_label\":\"days_since_prior_order\",\"coordinates\":null,\"formatter\":{\"id\":\"1163\"},\"group\":null,\"major_label_policy\":{\"id\":\"1164\"},\"ticker\":{\"id\":\"1133\"}},\"id\":\"1132\",\"type\":\"LinearAxis\"},{\"attributes\":{\"active_drag\":{\"id\":\"1141\"},\"active_scroll\":{\"id\":\"1142\"},\"tools\":[{\"id\":\"1122\"},{\"id\":\"1140\"},{\"id\":\"1141\"},{\"id\":\"1142\"},{\"id\":\"1143\"},{\"id\":\"1144\"}]},\"id\":\"1146\",\"type\":\"Toolbar\"},{\"attributes\":{\"axis_label\":\"\",\"coordinates\":null,\"formatter\":{\"id\":\"1166\"},\"group\":null,\"major_label_policy\":{\"id\":\"1167\"},\"ticker\":{\"id\":\"1137\"}},\"id\":\"1136\",\"type\":\"LinearAxis\"},{\"attributes\":{\"axis\":{\"id\":\"1136\"},\"coordinates\":null,\"dimension\":1,\"grid_line_color\":null,\"group\":null,\"ticker\":null},\"id\":\"1139\",\"type\":\"Grid\"},{\"attributes\":{},\"id\":\"1137\",\"type\":\"BasicTicker\"},{\"attributes\":{\"end\":31.285714285714285,\"reset_end\":31.285714285714285,\"reset_start\":-1.2857142857142858,\"start\":-1.2857142857142858,\"tags\":[[[\"days_since_prior_order\",\"days_since_prior_order\",null]],[]]},\"id\":\"1118\",\"type\":\"Range1d\"},{\"attributes\":{},\"id\":\"1142\",\"type\":\"WheelZoomTool\"},{\"attributes\":{},\"id\":\"1141\",\"type\":\"PanTool\"},{\"attributes\":{},\"id\":\"1140\",\"type\":\"SaveTool\"},{\"attributes\":{},\"id\":\"1167\",\"type\":\"AllLabels\"},{\"attributes\":{\"data\":{\"days_since_prior_order\":{\"__ndarray__\":\"AAAAAAAA6D8AAAAAAAACQAAAAAAAAA5AAAAAAAAAFUAAAAAAAAAbQAAAAAAAgCBAAAAAAACAI0AAAAAAAIAmQAAAAAAAgClAAAAAAACALEAAAAAAAIAvQAAAAAAAQDFAAAAAAADAMkAAAAAAAEA0QAAAAAAAwDVAAAAAAABAN0AAAAAAAMA4QAAAAAAAQDpAAAAAAADAO0AAAAAAAEA9QA==\",\"dtype\":\"float64\",\"order\":\"little\",\"shape\":[20]},\"days_since_prior_order_count\":[265,1643,5628,9404,14611,15280,15360,15093,15116,14555,14484,13420,13281,10996,10924,8204,7233,5243,3730,11739],\"left\":{\"__ndarray__\":\"AAAAAAAAAAAAAAAAAAD4PwAAAAAAAAhAAAAAAAAAEkAAAAAAAAAYQAAAAAAAAB5AAAAAAAAAIkAAAAAAAAAlQAAAAAAAAChAAAAAAAAAK0AAAAAAAAAuQAAAAAAAgDBAAAAAAAAAMkAAAAAAAIAzQAAAAAAAADVAAAAAAACANkAAAAAAAAA4QAAAAAAAgDlAAAAAAAAAO0AAAAAAAIA8QA==\",\"dtype\":\"float64\",\"order\":\"little\",\"shape\":[20]},\"right\":{\"__ndarray__\":\"AAAAAAAA+D8AAAAAAAAIQAAAAAAAABJAAAAAAAAAGEAAAAAAAAAeQAAAAAAAACJAAAAAAAAAJUAAAAAAAAAoQAAAAAAAACtAAAAAAAAALkAAAAAAAIAwQAAAAAAAADJAAAAAAACAM0AAAAAAAAA1QAAAAAAAgDZAAAAAAAAAOEAAAAAAAIA5QAAAAAAAADtAAAAAAACAPEAAAAAAAAA+QA==\",\"dtype\":\"float64\",\"order\":\"little\",\"shape\":[20]},\"top\":[265,1643,5628,9404,14611,15280,15360,15093,15116,14555,14484,13420,13281,10996,10924,8204,7233,5243,3730,11739]},\"selected\":{\"id\":\"1154\"},\"selection_policy\":{\"id\":\"1179\"}},\"id\":\"1153\",\"type\":\"ColumnDataSource\"},{\"attributes\":{\"children\":[{\"id\":\"1123\"}],\"height\":300,\"margin\":[0,0,0,0],\"name\":\"Row00965\",\"sizing_mode\":\"fixed\",\"tags\":[\"embedded\"],\"width\":700},\"id\":\"1117\",\"type\":\"Row\"},{\"attributes\":{\"overlay\":{\"id\":\"1145\"}},\"id\":\"1143\",\"type\":\"BoxZoomTool\"},{\"attributes\":{},\"id\":\"1179\",\"type\":\"UnionRenderers\"},{\"attributes\":{},\"id\":\"1144\",\"type\":\"ResetTool\"},{\"attributes\":{},\"id\":\"1163\",\"type\":\"BasicTickFormatter\"},{\"attributes\":{\"bottom_units\":\"screen\",\"coordinates\":null,\"fill_alpha\":0.5,\"fill_color\":\"lightgrey\",\"group\":null,\"left_units\":\"screen\",\"level\":\"overlay\",\"line_alpha\":1.0,\"line_color\":\"black\",\"line_dash\":[4,4],\"line_width\":2,\"right_units\":\"screen\",\"syncable\":false,\"top_units\":\"screen\"},\"id\":\"1145\",\"type\":\"BoxAnnotation\"},{\"attributes\":{\"bottom\":{\"value\":0},\"fill_alpha\":{\"value\":0.2},\"fill_color\":{\"value\":\"#30a2da\"},\"hatch_alpha\":{\"value\":0.2},\"hatch_color\":{\"value\":\"#30a2da\"},\"left\":{\"field\":\"left\"},\"line_alpha\":{\"value\":0.2},\"right\":{\"field\":\"right\"},\"tags\":[\"apply_ranges\"],\"top\":{\"field\":\"top\"}},\"id\":\"1158\",\"type\":\"Quad\"}],\"root_ids\":[\"1117\"]},\"title\":\"Bokeh Application\",\"version\":\"2.4.3\"}};\n",
       "    var render_items = [{\"docid\":\"81959152-9df1-4113-8fc9-02c7b3a5d9fe\",\"root_ids\":[\"1117\"],\"roots\":{\"1117\":\"5364b3bc-d5e3-4ff0-b3fb-f57c5874468b\"}}];\n",
       "    root.Bokeh.embed.embed_items_notebook(docs_json, render_items);\n",
       "    for (const render_item of render_items) {\n",
       "      for (const root_id of render_item.root_ids) {\n",
       "\tconst id_el = document.getElementById(root_id)\n",
       "\tif (id_el.children.length && (id_el.children[0].className === 'bk-root')) {\n",
       "\t  const root_el = id_el.children[0]\n",
       "\t  root_el.id = root_el.id + '-rendered'\n",
       "\t}\n",
       "      }\n",
       "    }\n",
       "  }\n",
       "  if (root.Bokeh !== undefined && root.Bokeh.Panel !== undefined) {\n",
       "    embed_document(root);\n",
       "  } else {\n",
       "    var attempts = 0;\n",
       "    var timer = setInterval(function(root) {\n",
       "      if (root.Bokeh !== undefined && root.Bokeh.Panel !== undefined) {\n",
       "        clearInterval(timer);\n",
       "        embed_document(root);\n",
       "      } else if (document.readyState == \"complete\") {\n",
       "        attempts++;\n",
       "        if (attempts > 200) {\n",
       "          clearInterval(timer);\n",
       "          console.log(\"Bokeh: ERROR: Unable to run BokehJS code because BokehJS library is missing\");\n",
       "        }\n",
       "      }\n",
       "    }, 25, root)\n",
       "  }\n",
       "})(window);</script>"
      ],
      "text/plain": [
       ":Histogram   [days_since_prior_order]   (days_since_prior_order_count)"
      ]
     },
     "execution_count": 13,
     "metadata": {
      "application/vnd.holoviews_exec.v0+json": {
       "id": "1117"
      }
     },
     "output_type": "execute_result"
    }
   ],
   "source": [
    "df_ = df.groupby(\"user_id\").days_since_prior_order.mean().reset_index()\n",
    "df_.hvplot.hist(\"days_since_prior_order\" , title=\"Average number of days between orders\")"
   ]
  },
  {
   "cell_type": "code",
   "execution_count": 14,
   "id": "c0d880aa",
   "metadata": {},
   "outputs": [
    {
     "data": {},
     "metadata": {},
     "output_type": "display_data"
    },
    {
     "data": {
      "application/vnd.holoviews_exec.v0+json": "",
      "text/html": [
       "<div id='1233'>\n",
       "  <div class=\"bk-root\" id=\"1484c9dc-65f6-46b1-92b9-ccc5383f6b22\" data-root-id=\"1233\"></div>\n",
       "</div>\n",
       "<script type=\"application/javascript\">(function(root) {\n",
       "  function embed_document(root) {\n",
       "    var docs_json = {\"7be577c7-2fcf-46eb-b622-a28d6c73c152\":{\"defs\":[{\"extends\":null,\"module\":null,\"name\":\"ReactiveHTML1\",\"overrides\":[],\"properties\":[]},{\"extends\":null,\"module\":null,\"name\":\"FlexBox1\",\"overrides\":[],\"properties\":[{\"default\":\"flex-start\",\"kind\":null,\"name\":\"align_content\"},{\"default\":\"flex-start\",\"kind\":null,\"name\":\"align_items\"},{\"default\":\"row\",\"kind\":null,\"name\":\"flex_direction\"},{\"default\":\"wrap\",\"kind\":null,\"name\":\"flex_wrap\"},{\"default\":\"flex-start\",\"kind\":null,\"name\":\"justify_content\"}]},{\"extends\":null,\"module\":null,\"name\":\"GridStack1\",\"overrides\":[],\"properties\":[{\"default\":\"warn\",\"kind\":null,\"name\":\"mode\"},{\"default\":null,\"kind\":null,\"name\":\"ncols\"},{\"default\":null,\"kind\":null,\"name\":\"nrows\"},{\"default\":true,\"kind\":null,\"name\":\"allow_resize\"},{\"default\":true,\"kind\":null,\"name\":\"allow_drag\"},{\"default\":[],\"kind\":null,\"name\":\"state\"}]},{\"extends\":null,\"module\":null,\"name\":\"click1\",\"overrides\":[],\"properties\":[{\"default\":\"\",\"kind\":null,\"name\":\"terminal_output\"},{\"default\":\"\",\"kind\":null,\"name\":\"debug_name\"},{\"default\":0,\"kind\":null,\"name\":\"clears\"}]},{\"extends\":null,\"module\":null,\"name\":\"NotificationAreaBase1\",\"overrides\":[],\"properties\":[{\"default\":\"bottom-right\",\"kind\":null,\"name\":\"position\"},{\"default\":0,\"kind\":null,\"name\":\"_clear\"}]},{\"extends\":null,\"module\":null,\"name\":\"NotificationArea1\",\"overrides\":[],\"properties\":[{\"default\":[],\"kind\":null,\"name\":\"notifications\"},{\"default\":\"bottom-right\",\"kind\":null,\"name\":\"position\"},{\"default\":0,\"kind\":null,\"name\":\"_clear\"},{\"default\":[{\"background\":\"#ffc107\",\"icon\":{\"className\":\"fas fa-exclamation-triangle\",\"color\":\"white\",\"tagName\":\"i\"},\"type\":\"warning\"},{\"background\":\"#007bff\",\"icon\":{\"className\":\"fas fa-info-circle\",\"color\":\"white\",\"tagName\":\"i\"},\"type\":\"info\"}],\"kind\":null,\"name\":\"types\"}]},{\"extends\":null,\"module\":null,\"name\":\"Notification\",\"overrides\":[],\"properties\":[{\"default\":null,\"kind\":null,\"name\":\"background\"},{\"default\":3000,\"kind\":null,\"name\":\"duration\"},{\"default\":null,\"kind\":null,\"name\":\"icon\"},{\"default\":\"\",\"kind\":null,\"name\":\"message\"},{\"default\":null,\"kind\":null,\"name\":\"notification_type\"},{\"default\":false,\"kind\":null,\"name\":\"_destroyed\"}]},{\"extends\":null,\"module\":null,\"name\":\"TemplateActions1\",\"overrides\":[],\"properties\":[{\"default\":0,\"kind\":null,\"name\":\"open_modal\"},{\"default\":0,\"kind\":null,\"name\":\"close_modal\"}]},{\"extends\":null,\"module\":null,\"name\":\"MaterialTemplateActions1\",\"overrides\":[],\"properties\":[{\"default\":0,\"kind\":null,\"name\":\"open_modal\"},{\"default\":0,\"kind\":null,\"name\":\"close_modal\"}]}],\"roots\":{\"references\":[{\"attributes\":{\"coordinates\":null,\"group\":null,\"text\":\"Day of the week order\",\"text_color\":\"black\",\"text_font_size\":\"12pt\"},\"id\":\"1240\",\"type\":\"Title\"},{\"attributes\":{\"axis\":{\"id\":\"1248\"},\"coordinates\":null,\"grid_line_color\":null,\"group\":null,\"ticker\":null},\"id\":\"1251\",\"type\":\"Grid\"},{\"attributes\":{\"callback\":null,\"renderers\":[{\"id\":\"1275\"}],\"tags\":[\"hv_created\"],\"tooltips\":[[\"order_dow\",\"@{order_dow}\"],[\"Count\",\"@{order_dow_count}\"]]},\"id\":\"1238\",\"type\":\"HoverTool\"},{\"attributes\":{\"end\":6.257142857142857,\"reset_end\":6.257142857142857,\"reset_start\":-0.2571428571428571,\"start\":-0.2571428571428571,\"tags\":[[[\"order_dow\",\"order_dow\",null]],[]]},\"id\":\"1234\",\"type\":\"Range1d\"},{\"attributes\":{},\"id\":\"1249\",\"type\":\"BasicTicker\"},{\"attributes\":{\"axis_label\":\"\",\"coordinates\":null,\"formatter\":{\"id\":\"1282\"},\"group\":null,\"major_label_policy\":{\"id\":\"1283\"},\"ticker\":{\"id\":\"1253\"}},\"id\":\"1252\",\"type\":\"LinearAxis\"},{\"attributes\":{\"axis\":{\"id\":\"1252\"},\"coordinates\":null,\"dimension\":1,\"grid_line_color\":null,\"group\":null,\"ticker\":null},\"id\":\"1255\",\"type\":\"Grid\"},{\"attributes\":{},\"id\":\"1253\",\"type\":\"BasicTicker\"},{\"attributes\":{\"coordinates\":null,\"data_source\":{\"id\":\"1269\"},\"glyph\":{\"id\":\"1272\"},\"group\":null,\"hover_glyph\":null,\"muted_glyph\":{\"id\":\"1274\"},\"nonselection_glyph\":{\"id\":\"1273\"},\"selection_glyph\":{\"id\":\"1277\"},\"view\":{\"id\":\"1276\"}},\"id\":\"1275\",\"type\":\"GlyphRenderer\"},{\"attributes\":{},\"id\":\"1258\",\"type\":\"WheelZoomTool\"},{\"attributes\":{},\"id\":\"1257\",\"type\":\"PanTool\"},{\"attributes\":{\"end\":613549.2,\"reset_end\":613549.2,\"reset_start\":0.0,\"tags\":[[[\"order_dow_count\",\"Count\",null]],{\"autorange\":false,\"invert_yaxis\":false}]},\"id\":\"1235\",\"type\":\"Range1d\"},{\"attributes\":{},\"id\":\"1256\",\"type\":\"SaveTool\"},{\"attributes\":{\"overlay\":{\"id\":\"1261\"}},\"id\":\"1259\",\"type\":\"BoxZoomTool\"},{\"attributes\":{},\"id\":\"1280\",\"type\":\"AllLabels\"},{\"attributes\":{},\"id\":\"1260\",\"type\":\"ResetTool\"},{\"attributes\":{},\"id\":\"1295\",\"type\":\"UnionRenderers\"},{\"attributes\":{},\"id\":\"1282\",\"type\":\"BasicTickFormatter\"},{\"attributes\":{\"bottom_units\":\"screen\",\"coordinates\":null,\"fill_alpha\":0.5,\"fill_color\":\"lightgrey\",\"group\":null,\"left_units\":\"screen\",\"level\":\"overlay\",\"line_alpha\":1.0,\"line_color\":\"black\",\"line_dash\":[4,4],\"line_width\":2,\"right_units\":\"screen\",\"syncable\":false,\"top_units\":\"screen\"},\"id\":\"1261\",\"type\":\"BoxAnnotation\"},{\"attributes\":{},\"id\":\"1270\",\"type\":\"Selection\"},{\"attributes\":{},\"id\":\"1283\",\"type\":\"AllLabels\"},{\"attributes\":{},\"id\":\"1247\",\"type\":\"LinearScale\"},{\"attributes\":{\"bottom\":{\"value\":0},\"fill_color\":{\"value\":\"#30a2da\"},\"hatch_color\":{\"value\":\"#30a2da\"},\"left\":{\"field\":\"left\"},\"right\":{\"field\":\"right\"},\"tags\":[\"apply_ranges\"],\"top\":{\"field\":\"top\"}},\"id\":\"1272\",\"type\":\"Quad\"},{\"attributes\":{\"bottom\":{\"value\":0},\"fill_alpha\":{\"value\":0.1},\"fill_color\":{\"value\":\"#30a2da\"},\"hatch_alpha\":{\"value\":0.1},\"hatch_color\":{\"value\":\"#30a2da\"},\"left\":{\"field\":\"left\"},\"line_alpha\":{\"value\":0.1},\"right\":{\"field\":\"right\"},\"tags\":[\"apply_ranges\"],\"top\":{\"field\":\"top\"}},\"id\":\"1273\",\"type\":\"Quad\"},{\"attributes\":{\"data\":{\"left\":{\"__ndarray__\":\"AAAAAAAAAAAzMzMzMzPTPzMzMzMzM+M/zMzMzMzM7D8zMzMzMzPzPwAAAAAAAPg/zMzMzMzM/D/NzMzMzMwAQDMzMzMzMwNAmZmZmZmZBUAAAAAAAAAIQGZmZmZmZgpAzMzMzMzMDEAzMzMzMzMPQM3MzMzMzBBAAAAAAAAAEkAzMzMzMzMTQGZmZmZmZhRAmZmZmZmZFUDNzMzMzMwWQA==\",\"dtype\":\"float64\",\"order\":\"little\",\"shape\":[20]},\"order_dow\":{\"__ndarray__\":\"MzMzMzMzwz/MzMzMzMzcPwAAAAAAAOg/zMzMzMzM8D+amZmZmZn1P2ZmZmZmZvo/MzMzMzMz/z8AAAAAAAACQGZmZmZmZgRAzMzMzMzMBkAzMzMzMzMJQJmZmZmZmQtAAAAAAAAADkAzMzMzMzMQQGZmZmZmZhFAmpmZmZmZEkDMzMzMzMwTQAAAAAAAABVAMzMzMzMzFkBmZmZmZmYXQA==\",\"dtype\":\"float64\",\"order\":\"little\",\"shape\":[20]},\"order_dow_count\":[557772,0,0,556705,0,0,441955,0,0,0,412400,0,0,401212,0,0,425982,0,0,418848],\"right\":{\"__ndarray__\":\"MzMzMzMz0z8zMzMzMzPjP8zMzMzMzOw/MzMzMzMz8z8AAAAAAAD4P8zMzMzMzPw/zczMzMzMAEAzMzMzMzMDQJmZmZmZmQVAAAAAAAAACEBmZmZmZmYKQMzMzMzMzAxAMzMzMzMzD0DNzMzMzMwQQAAAAAAAABJAMzMzMzMzE0BmZmZmZmYUQJmZmZmZmRVAzczMzMzMFkAAAAAAAAAYQA==\",\"dtype\":\"float64\",\"order\":\"little\",\"shape\":[20]},\"top\":[557772,0,0,556705,0,0,441955,0,0,0,412400,0,0,401212,0,0,425982,0,0,418848]},\"selected\":{\"id\":\"1270\"},\"selection_policy\":{\"id\":\"1295\"}},\"id\":\"1269\",\"type\":\"ColumnDataSource\"},{\"attributes\":{},\"id\":\"1279\",\"type\":\"BasicTickFormatter\"},{\"attributes\":{\"bottom\":{\"value\":0},\"fill_alpha\":{\"value\":1.0},\"fill_color\":{\"value\":\"#30a2da\"},\"hatch_alpha\":{\"value\":1.0},\"hatch_color\":{\"value\":\"#30a2da\"},\"hatch_scale\":{\"value\":12.0},\"hatch_weight\":{\"value\":1.0},\"left\":{\"field\":\"left\"},\"line_alpha\":{\"value\":1.0},\"line_cap\":{\"value\":\"butt\"},\"line_color\":{\"value\":\"black\"},\"line_dash\":{\"value\":[]},\"line_dash_offset\":{\"value\":0},\"line_join\":{\"value\":\"bevel\"},\"line_width\":{\"value\":1},\"right\":{\"field\":\"right\"},\"tags\":[\"apply_ranges\"],\"top\":{\"field\":\"top\"}},\"id\":\"1277\",\"type\":\"Quad\"},{\"attributes\":{\"bottom\":{\"value\":0},\"fill_alpha\":{\"value\":0.2},\"fill_color\":{\"value\":\"#30a2da\"},\"hatch_alpha\":{\"value\":0.2},\"hatch_color\":{\"value\":\"#30a2da\"},\"left\":{\"field\":\"left\"},\"line_alpha\":{\"value\":0.2},\"right\":{\"field\":\"right\"},\"tags\":[\"apply_ranges\"],\"top\":{\"field\":\"top\"}},\"id\":\"1274\",\"type\":\"Quad\"},{\"attributes\":{\"active_drag\":{\"id\":\"1257\"},\"active_scroll\":{\"id\":\"1258\"},\"tools\":[{\"id\":\"1238\"},{\"id\":\"1256\"},{\"id\":\"1257\"},{\"id\":\"1258\"},{\"id\":\"1259\"},{\"id\":\"1260\"}]},\"id\":\"1262\",\"type\":\"Toolbar\"},{\"attributes\":{},\"id\":\"1246\",\"type\":\"LinearScale\"},{\"attributes\":{\"axis_label\":\"order_dow\",\"coordinates\":null,\"formatter\":{\"id\":\"1279\"},\"group\":null,\"major_label_policy\":{\"id\":\"1280\"},\"ticker\":{\"id\":\"1249\"}},\"id\":\"1248\",\"type\":\"LinearAxis\"},{\"attributes\":{\"children\":[{\"id\":\"1239\"}],\"height\":300,\"margin\":[0,0,0,0],\"name\":\"Row01084\",\"sizing_mode\":\"fixed\",\"tags\":[\"embedded\"],\"width\":700},\"id\":\"1233\",\"type\":\"Row\"},{\"attributes\":{\"below\":[{\"id\":\"1248\"}],\"center\":[{\"id\":\"1251\"},{\"id\":\"1255\"}],\"height\":300,\"left\":[{\"id\":\"1252\"}],\"margin\":[5,5,5,5],\"min_border_bottom\":10,\"min_border_left\":10,\"min_border_right\":10,\"min_border_top\":10,\"output_backend\":\"webgl\",\"renderers\":[{\"id\":\"1275\"}],\"sizing_mode\":\"fixed\",\"title\":{\"id\":\"1240\"},\"toolbar\":{\"id\":\"1262\"},\"width\":700,\"x_range\":{\"id\":\"1234\"},\"x_scale\":{\"id\":\"1246\"},\"y_range\":{\"id\":\"1235\"},\"y_scale\":{\"id\":\"1247\"}},\"id\":\"1239\",\"subtype\":\"Figure\",\"type\":\"Plot\"},{\"attributes\":{\"source\":{\"id\":\"1269\"}},\"id\":\"1276\",\"type\":\"CDSView\"}],\"root_ids\":[\"1233\"]},\"title\":\"Bokeh Application\",\"version\":\"2.4.3\"}};\n",
       "    var render_items = [{\"docid\":\"7be577c7-2fcf-46eb-b622-a28d6c73c152\",\"root_ids\":[\"1233\"],\"roots\":{\"1233\":\"1484c9dc-65f6-46b1-92b9-ccc5383f6b22\"}}];\n",
       "    root.Bokeh.embed.embed_items_notebook(docs_json, render_items);\n",
       "    for (const render_item of render_items) {\n",
       "      for (const root_id of render_item.root_ids) {\n",
       "\tconst id_el = document.getElementById(root_id)\n",
       "\tif (id_el.children.length && (id_el.children[0].className === 'bk-root')) {\n",
       "\t  const root_el = id_el.children[0]\n",
       "\t  root_el.id = root_el.id + '-rendered'\n",
       "\t}\n",
       "      }\n",
       "    }\n",
       "  }\n",
       "  if (root.Bokeh !== undefined && root.Bokeh.Panel !== undefined) {\n",
       "    embed_document(root);\n",
       "  } else {\n",
       "    var attempts = 0;\n",
       "    var timer = setInterval(function(root) {\n",
       "      if (root.Bokeh !== undefined && root.Bokeh.Panel !== undefined) {\n",
       "        clearInterval(timer);\n",
       "        embed_document(root);\n",
       "      } else if (document.readyState == \"complete\") {\n",
       "        attempts++;\n",
       "        if (attempts > 200) {\n",
       "          clearInterval(timer);\n",
       "          console.log(\"Bokeh: ERROR: Unable to run BokehJS code because BokehJS library is missing\");\n",
       "        }\n",
       "      }\n",
       "    }, 25, root)\n",
       "  }\n",
       "})(window);</script>"
      ],
      "text/plain": [
       ":Histogram   [order_dow]   (order_dow_count)"
      ]
     },
     "execution_count": 14,
     "metadata": {
      "application/vnd.holoviews_exec.v0+json": {
       "id": "1233"
      }
     },
     "output_type": "execute_result"
    }
   ],
   "source": [
    "df.hvplot.hist(\"order_dow\" , title=\"Day of the week order\")"
   ]
  },
  {
   "cell_type": "code",
   "execution_count": 15,
   "id": "58966dcf",
   "metadata": {},
   "outputs": [
    {
     "data": {},
     "metadata": {},
     "output_type": "display_data"
    },
    {
     "data": {
      "application/vnd.holoviews_exec.v0+json": "",
      "text/html": [
       "<div id='1349'>\n",
       "  <div class=\"bk-root\" id=\"bb4ba191-d5f1-49ef-b087-157707d86bb2\" data-root-id=\"1349\"></div>\n",
       "</div>\n",
       "<script type=\"application/javascript\">(function(root) {\n",
       "  function embed_document(root) {\n",
       "    var docs_json = {\"4340c8f4-c13e-4169-9337-7ea851f11bc1\":{\"defs\":[{\"extends\":null,\"module\":null,\"name\":\"ReactiveHTML1\",\"overrides\":[],\"properties\":[]},{\"extends\":null,\"module\":null,\"name\":\"FlexBox1\",\"overrides\":[],\"properties\":[{\"default\":\"flex-start\",\"kind\":null,\"name\":\"align_content\"},{\"default\":\"flex-start\",\"kind\":null,\"name\":\"align_items\"},{\"default\":\"row\",\"kind\":null,\"name\":\"flex_direction\"},{\"default\":\"wrap\",\"kind\":null,\"name\":\"flex_wrap\"},{\"default\":\"flex-start\",\"kind\":null,\"name\":\"justify_content\"}]},{\"extends\":null,\"module\":null,\"name\":\"GridStack1\",\"overrides\":[],\"properties\":[{\"default\":\"warn\",\"kind\":null,\"name\":\"mode\"},{\"default\":null,\"kind\":null,\"name\":\"ncols\"},{\"default\":null,\"kind\":null,\"name\":\"nrows\"},{\"default\":true,\"kind\":null,\"name\":\"allow_resize\"},{\"default\":true,\"kind\":null,\"name\":\"allow_drag\"},{\"default\":[],\"kind\":null,\"name\":\"state\"}]},{\"extends\":null,\"module\":null,\"name\":\"click1\",\"overrides\":[],\"properties\":[{\"default\":\"\",\"kind\":null,\"name\":\"terminal_output\"},{\"default\":\"\",\"kind\":null,\"name\":\"debug_name\"},{\"default\":0,\"kind\":null,\"name\":\"clears\"}]},{\"extends\":null,\"module\":null,\"name\":\"NotificationAreaBase1\",\"overrides\":[],\"properties\":[{\"default\":\"bottom-right\",\"kind\":null,\"name\":\"position\"},{\"default\":0,\"kind\":null,\"name\":\"_clear\"}]},{\"extends\":null,\"module\":null,\"name\":\"NotificationArea1\",\"overrides\":[],\"properties\":[{\"default\":[],\"kind\":null,\"name\":\"notifications\"},{\"default\":\"bottom-right\",\"kind\":null,\"name\":\"position\"},{\"default\":0,\"kind\":null,\"name\":\"_clear\"},{\"default\":[{\"background\":\"#ffc107\",\"icon\":{\"className\":\"fas fa-exclamation-triangle\",\"color\":\"white\",\"tagName\":\"i\"},\"type\":\"warning\"},{\"background\":\"#007bff\",\"icon\":{\"className\":\"fas fa-info-circle\",\"color\":\"white\",\"tagName\":\"i\"},\"type\":\"info\"}],\"kind\":null,\"name\":\"types\"}]},{\"extends\":null,\"module\":null,\"name\":\"Notification\",\"overrides\":[],\"properties\":[{\"default\":null,\"kind\":null,\"name\":\"background\"},{\"default\":3000,\"kind\":null,\"name\":\"duration\"},{\"default\":null,\"kind\":null,\"name\":\"icon\"},{\"default\":\"\",\"kind\":null,\"name\":\"message\"},{\"default\":null,\"kind\":null,\"name\":\"notification_type\"},{\"default\":false,\"kind\":null,\"name\":\"_destroyed\"}]},{\"extends\":null,\"module\":null,\"name\":\"TemplateActions1\",\"overrides\":[],\"properties\":[{\"default\":0,\"kind\":null,\"name\":\"open_modal\"},{\"default\":0,\"kind\":null,\"name\":\"close_modal\"}]},{\"extends\":null,\"module\":null,\"name\":\"MaterialTemplateActions1\",\"overrides\":[],\"properties\":[{\"default\":0,\"kind\":null,\"name\":\"open_modal\"},{\"default\":0,\"kind\":null,\"name\":\"close_modal\"}]}],\"roots\":{\"references\":[{\"attributes\":{},\"id\":\"1398\",\"type\":\"BasicTickFormatter\"},{\"attributes\":{},\"id\":\"1374\",\"type\":\"WheelZoomTool\"},{\"attributes\":{},\"id\":\"1373\",\"type\":\"PanTool\"},{\"attributes\":{},\"id\":\"1399\",\"type\":\"AllLabels\"},{\"attributes\":{\"axis_label\":\"\",\"coordinates\":null,\"formatter\":{\"id\":\"1398\"},\"group\":null,\"major_label_policy\":{\"id\":\"1399\"},\"ticker\":{\"id\":\"1369\"}},\"id\":\"1368\",\"type\":\"LinearAxis\"},{\"attributes\":{},\"id\":\"1372\",\"type\":\"SaveTool\"},{\"attributes\":{\"overlay\":{\"id\":\"1377\"}},\"id\":\"1375\",\"type\":\"BoxZoomTool\"},{\"attributes\":{},\"id\":\"1411\",\"type\":\"UnionRenderers\"},{\"attributes\":{},\"id\":\"1376\",\"type\":\"ResetTool\"},{\"attributes\":{\"bottom_units\":\"screen\",\"coordinates\":null,\"fill_alpha\":0.5,\"fill_color\":\"lightgrey\",\"group\":null,\"left_units\":\"screen\",\"level\":\"overlay\",\"line_alpha\":1.0,\"line_color\":\"black\",\"line_dash\":[4,4],\"line_width\":2,\"right_units\":\"screen\",\"syncable\":false,\"top_units\":\"screen\"},\"id\":\"1377\",\"type\":\"BoxAnnotation\"},{\"attributes\":{},\"id\":\"1396\",\"type\":\"AllLabels\"},{\"attributes\":{\"end\":103.11428571428571,\"reset_end\":103.11428571428571,\"reset_start\":-1.1142857142857139,\"start\":-1.1142857142857139,\"tags\":[[[\"order_number\",\"order_number\",null]],[]]},\"id\":\"1350\",\"type\":\"Range1d\"},{\"attributes\":{\"data\":{\"left\":{\"__ndarray__\":\"AAAAAAAACECuR+F6FK4TQFyPwvUoXBtAhetRuB6FIUBcj8L1KFwlQDMzMzMzMylACtejcD0KLUBwPQrXo3AwQFyPwvUoXDJASOF6FK5HNEAzMzMzMzM2QB6F61G4HjhACtejcD0KOkD2KFyPwvU7QOF6FK5H4T1AzMzMzMzMP0Bcj8L1KNxAQFK4HoXr0UFASOF6FK7HQkA9CtejcL1DQDMzMzMzs0RAKVyPwvWoRUAehetRuJ5GQBSuR+F6lEdACtejcD2KSEAAAAAAAIBJQPYoXI/CdUpA61G4HoVrS0DhehSuR2FMQNejcD0KV01AzMzMzMxMTkDC9Shcj0JPQFyPwvUoHFBA16NwPQqXUEBSuB6F6xFRQM3MzMzMjFFASOF6FK4HUkDC9Shcj4JSQD0K16Nw/VJAuB6F61F4U0AzMzMzM/NTQK5H4XoUblRAKVyPwvXoVECkcD0K12NVQB6F61G43lVAmZmZmZlZVkAUrkfhetRWQI/C9ShcT1dACtejcD3KV0CF61G4HkVYQA==\",\"dtype\":\"float64\",\"order\":\"little\",\"shape\":[50]},\"order_number\":{\"__ndarray__\":\"rkfhehSuD0CF61G4HoUXQDMzMzMzMx9AcD0K16NwI0BI4XoUrkcnQB6F61G4HitA9Shcj8L1LkBmZmZmZmYxQFK4HoXrUTNAPgrXo3A9NUAoXI/C9Sg3QBSuR+F6FDlAAAAAAAAAO0DsUbgehes8QNajcD0K1z5A4XoUrkdhQEDXo3A9CldBQM3MzMzMTEJAwvUoXI9CQ0C4HoXrUThEQK5H4XoULkVApHA9CtcjRkCZmZmZmRlHQI/C9ShcD0hAhetRuB4FSUB7FK5H4fpJQHA9Ctej8EpAZmZmZmbmS0Bcj8L1KNxMQFK4HoXr0U1AR+F6FK7HTkA9CtejcL1PQJqZmZmZWVBAFK5H4XrUUECQwvUoXE9RQArXo3A9ylFAhetRuB5FUkAAAAAAAMBSQHoUrkfhOlNA9ihcj8K1U0BwPQrXozBUQOxRuB6Fq1RAZmZmZmYmVUDhehSuR6FVQFyPwvUoHFZA1qNwPQqXVkBSuB6F6xFXQMzMzMzMjFdASOF6FK4HWEDC9Shcj4JYQA==\",\"dtype\":\"float64\",\"order\":\"little\",\"shape\":[50]},\"order_number_count\":[43576,30015,21890,16847,13188,10804,8732,7226,6121,5311,4474,3968,1779,3095,2860,2459,2172,2008,1782,1699,1467,1364,1329,1133,582,1051,924,786,675,627,543,493,442,374,332,304,324,134,247,243,227,185,193,157,162,125,124,131,104,1421],\"right\":{\"__ndarray__\":\"rkfhehSuE0Bcj8L1KFwbQIXrUbgehSFAXI/C9ShcJUAzMzMzMzMpQArXo3A9Ci1AcD0K16NwMEBcj8L1KFwyQEjhehSuRzRAMzMzMzMzNkAehetRuB44QArXo3A9CjpA9ihcj8L1O0DhehSuR+E9QMzMzMzMzD9AXI/C9SjcQEBSuB6F69FBQEjhehSux0JAPQrXo3C9Q0AzMzMzM7NEQClcj8L1qEVAHoXrUbieRkAUrkfhepRHQArXo3A9ikhAAAAAAACASUD2KFyPwnVKQOtRuB6Fa0tA4XoUrkdhTEDXo3A9CldNQMzMzMzMTE5AwvUoXI9CT0Bcj8L1KBxQQNejcD0Kl1BAUrgehesRUUDNzMzMzIxRQEjhehSuB1JAwvUoXI+CUkA9CtejcP1SQLgehetReFNAMzMzMzPzU0CuR+F6FG5UQClcj8L16FRApHA9CtdjVUAehetRuN5VQJmZmZmZWVZAFK5H4XrUVkCPwvUoXE9XQArXo3A9yldAhetRuB5FWEAAAAAAAMBYQA==\",\"dtype\":\"float64\",\"order\":\"little\",\"shape\":[50]},\"top\":[43576,30015,21890,16847,13188,10804,8732,7226,6121,5311,4474,3968,1779,3095,2860,2459,2172,2008,1782,1699,1467,1364,1329,1133,582,1051,924,786,675,627,543,493,442,374,332,304,324,134,247,243,227,185,193,157,162,125,124,131,104,1421]},\"selected\":{\"id\":\"1386\"},\"selection_policy\":{\"id\":\"1411\"}},\"id\":\"1385\",\"type\":\"ColumnDataSource\"},{\"attributes\":{},\"id\":\"1363\",\"type\":\"LinearScale\"},{\"attributes\":{\"end\":47923.2,\"reset_end\":47923.2,\"reset_start\":0.0,\"tags\":[[[\"order_number_count\",\"Count\",null]],{\"autorange\":false,\"invert_yaxis\":false}]},\"id\":\"1351\",\"type\":\"Range1d\"},{\"attributes\":{\"source\":{\"id\":\"1385\"}},\"id\":\"1392\",\"type\":\"CDSView\"},{\"attributes\":{\"bottom\":{\"value\":0},\"fill_alpha\":{\"value\":0.2},\"fill_color\":{\"value\":\"#30a2da\"},\"hatch_alpha\":{\"value\":0.2},\"hatch_color\":{\"value\":\"#30a2da\"},\"left\":{\"field\":\"left\"},\"line_alpha\":{\"value\":0.2},\"right\":{\"field\":\"right\"},\"tags\":[\"apply_ranges\"],\"top\":{\"field\":\"top\"}},\"id\":\"1390\",\"type\":\"Quad\"},{\"attributes\":{\"callback\":null,\"renderers\":[{\"id\":\"1391\"}],\"tags\":[\"hv_created\"],\"tooltips\":[[\"order_number\",\"@{order_number}\"],[\"Count\",\"@{order_number_count}\"]]},\"id\":\"1354\",\"type\":\"HoverTool\"},{\"attributes\":{},\"id\":\"1395\",\"type\":\"BasicTickFormatter\"},{\"attributes\":{\"active_drag\":{\"id\":\"1373\"},\"active_scroll\":{\"id\":\"1374\"},\"tools\":[{\"id\":\"1354\"},{\"id\":\"1372\"},{\"id\":\"1373\"},{\"id\":\"1374\"},{\"id\":\"1375\"},{\"id\":\"1376\"}]},\"id\":\"1378\",\"type\":\"Toolbar\"},{\"attributes\":{\"bottom\":{\"value\":0},\"fill_alpha\":{\"value\":1.0},\"fill_color\":{\"value\":\"#30a2da\"},\"hatch_alpha\":{\"value\":1.0},\"hatch_color\":{\"value\":\"#30a2da\"},\"hatch_scale\":{\"value\":12.0},\"hatch_weight\":{\"value\":1.0},\"left\":{\"field\":\"left\"},\"line_alpha\":{\"value\":1.0},\"line_cap\":{\"value\":\"butt\"},\"line_color\":{\"value\":\"black\"},\"line_dash\":{\"value\":[]},\"line_dash_offset\":{\"value\":0},\"line_join\":{\"value\":\"bevel\"},\"line_width\":{\"value\":1},\"right\":{\"field\":\"right\"},\"tags\":[\"apply_ranges\"],\"top\":{\"field\":\"top\"}},\"id\":\"1393\",\"type\":\"Quad\"},{\"attributes\":{},\"id\":\"1365\",\"type\":\"BasicTicker\"},{\"attributes\":{},\"id\":\"1386\",\"type\":\"Selection\"},{\"attributes\":{},\"id\":\"1362\",\"type\":\"LinearScale\"},{\"attributes\":{\"coordinates\":null,\"group\":null,\"text\":\"Average number of orders per clients\",\"text_color\":\"black\",\"text_font_size\":\"12pt\"},\"id\":\"1356\",\"type\":\"Title\"},{\"attributes\":{\"bottom\":{\"value\":0},\"fill_color\":{\"value\":\"#30a2da\"},\"hatch_color\":{\"value\":\"#30a2da\"},\"left\":{\"field\":\"left\"},\"right\":{\"field\":\"right\"},\"tags\":[\"apply_ranges\"],\"top\":{\"field\":\"top\"}},\"id\":\"1388\",\"type\":\"Quad\"},{\"attributes\":{\"below\":[{\"id\":\"1364\"}],\"center\":[{\"id\":\"1367\"},{\"id\":\"1371\"}],\"height\":300,\"left\":[{\"id\":\"1368\"}],\"margin\":[5,5,5,5],\"min_border_bottom\":10,\"min_border_left\":10,\"min_border_right\":10,\"min_border_top\":10,\"output_backend\":\"webgl\",\"renderers\":[{\"id\":\"1391\"}],\"sizing_mode\":\"fixed\",\"title\":{\"id\":\"1356\"},\"toolbar\":{\"id\":\"1378\"},\"width\":700,\"x_range\":{\"id\":\"1350\"},\"x_scale\":{\"id\":\"1362\"},\"y_range\":{\"id\":\"1351\"},\"y_scale\":{\"id\":\"1363\"}},\"id\":\"1355\",\"subtype\":\"Figure\",\"type\":\"Plot\"},{\"attributes\":{\"axis\":{\"id\":\"1364\"},\"coordinates\":null,\"grid_line_color\":null,\"group\":null,\"ticker\":null},\"id\":\"1367\",\"type\":\"Grid\"},{\"attributes\":{\"children\":[{\"id\":\"1355\"}],\"height\":300,\"margin\":[0,0,0,0],\"name\":\"Row01189\",\"sizing_mode\":\"fixed\",\"tags\":[\"embedded\"],\"width\":700},\"id\":\"1349\",\"type\":\"Row\"},{\"attributes\":{\"axis_label\":\"order_number\",\"coordinates\":null,\"formatter\":{\"id\":\"1395\"},\"group\":null,\"major_label_policy\":{\"id\":\"1396\"},\"ticker\":{\"id\":\"1365\"}},\"id\":\"1364\",\"type\":\"LinearAxis\"},{\"attributes\":{},\"id\":\"1369\",\"type\":\"BasicTicker\"},{\"attributes\":{\"coordinates\":null,\"data_source\":{\"id\":\"1385\"},\"glyph\":{\"id\":\"1388\"},\"group\":null,\"hover_glyph\":null,\"muted_glyph\":{\"id\":\"1390\"},\"nonselection_glyph\":{\"id\":\"1389\"},\"selection_glyph\":{\"id\":\"1393\"},\"view\":{\"id\":\"1392\"}},\"id\":\"1391\",\"type\":\"GlyphRenderer\"},{\"attributes\":{\"bottom\":{\"value\":0},\"fill_alpha\":{\"value\":0.1},\"fill_color\":{\"value\":\"#30a2da\"},\"hatch_alpha\":{\"value\":0.1},\"hatch_color\":{\"value\":\"#30a2da\"},\"left\":{\"field\":\"left\"},\"line_alpha\":{\"value\":0.1},\"right\":{\"field\":\"right\"},\"tags\":[\"apply_ranges\"],\"top\":{\"field\":\"top\"}},\"id\":\"1389\",\"type\":\"Quad\"},{\"attributes\":{\"axis\":{\"id\":\"1368\"},\"coordinates\":null,\"dimension\":1,\"grid_line_color\":null,\"group\":null,\"ticker\":null},\"id\":\"1371\",\"type\":\"Grid\"}],\"root_ids\":[\"1349\"]},\"title\":\"Bokeh Application\",\"version\":\"2.4.3\"}};\n",
       "    var render_items = [{\"docid\":\"4340c8f4-c13e-4169-9337-7ea851f11bc1\",\"root_ids\":[\"1349\"],\"roots\":{\"1349\":\"bb4ba191-d5f1-49ef-b087-157707d86bb2\"}}];\n",
       "    root.Bokeh.embed.embed_items_notebook(docs_json, render_items);\n",
       "    for (const render_item of render_items) {\n",
       "      for (const root_id of render_item.root_ids) {\n",
       "\tconst id_el = document.getElementById(root_id)\n",
       "\tif (id_el.children.length && (id_el.children[0].className === 'bk-root')) {\n",
       "\t  const root_el = id_el.children[0]\n",
       "\t  root_el.id = root_el.id + '-rendered'\n",
       "\t}\n",
       "      }\n",
       "    }\n",
       "  }\n",
       "  if (root.Bokeh !== undefined && root.Bokeh.Panel !== undefined) {\n",
       "    embed_document(root);\n",
       "  } else {\n",
       "    var attempts = 0;\n",
       "    var timer = setInterval(function(root) {\n",
       "      if (root.Bokeh !== undefined && root.Bokeh.Panel !== undefined) {\n",
       "        clearInterval(timer);\n",
       "        embed_document(root);\n",
       "      } else if (document.readyState == \"complete\") {\n",
       "        attempts++;\n",
       "        if (attempts > 200) {\n",
       "          clearInterval(timer);\n",
       "          console.log(\"Bokeh: ERROR: Unable to run BokehJS code because BokehJS library is missing\");\n",
       "        }\n",
       "      }\n",
       "    }, 25, root)\n",
       "  }\n",
       "})(window);</script>"
      ],
      "text/plain": [
       ":Histogram   [order_number]   (order_number_count)"
      ]
     },
     "execution_count": 15,
     "metadata": {
      "application/vnd.holoviews_exec.v0+json": {
       "id": "1349"
      }
     },
     "output_type": "execute_result"
    }
   ],
   "source": [
    "df_ = df.groupby(\"user_id\").order_number.count().reset_index()\n",
    "df_.hvplot.hist(\"order_number\" , title=\"Average number of orders per clients\", bins=50)"
   ]
  },
  {
   "cell_type": "code",
   "execution_count": 16,
   "id": "316143d3",
   "metadata": {},
   "outputs": [
    {
     "data": {},
     "metadata": {},
     "output_type": "display_data"
    },
    {
     "data": {
      "application/vnd.holoviews_exec.v0+json": "",
      "text/html": [
       "<div id='1465'>\n",
       "  <div class=\"bk-root\" id=\"4656989c-7af0-41fe-ad17-d5f318d04db2\" data-root-id=\"1465\"></div>\n",
       "</div>\n",
       "<script type=\"application/javascript\">(function(root) {\n",
       "  function embed_document(root) {\n",
       "    var docs_json = {\"8ad5e5a7-453b-4ed5-9e4a-e3e098baa770\":{\"defs\":[{\"extends\":null,\"module\":null,\"name\":\"ReactiveHTML1\",\"overrides\":[],\"properties\":[]},{\"extends\":null,\"module\":null,\"name\":\"FlexBox1\",\"overrides\":[],\"properties\":[{\"default\":\"flex-start\",\"kind\":null,\"name\":\"align_content\"},{\"default\":\"flex-start\",\"kind\":null,\"name\":\"align_items\"},{\"default\":\"row\",\"kind\":null,\"name\":\"flex_direction\"},{\"default\":\"wrap\",\"kind\":null,\"name\":\"flex_wrap\"},{\"default\":\"flex-start\",\"kind\":null,\"name\":\"justify_content\"}]},{\"extends\":null,\"module\":null,\"name\":\"GridStack1\",\"overrides\":[],\"properties\":[{\"default\":\"warn\",\"kind\":null,\"name\":\"mode\"},{\"default\":null,\"kind\":null,\"name\":\"ncols\"},{\"default\":null,\"kind\":null,\"name\":\"nrows\"},{\"default\":true,\"kind\":null,\"name\":\"allow_resize\"},{\"default\":true,\"kind\":null,\"name\":\"allow_drag\"},{\"default\":[],\"kind\":null,\"name\":\"state\"}]},{\"extends\":null,\"module\":null,\"name\":\"click1\",\"overrides\":[],\"properties\":[{\"default\":\"\",\"kind\":null,\"name\":\"terminal_output\"},{\"default\":\"\",\"kind\":null,\"name\":\"debug_name\"},{\"default\":0,\"kind\":null,\"name\":\"clears\"}]},{\"extends\":null,\"module\":null,\"name\":\"NotificationAreaBase1\",\"overrides\":[],\"properties\":[{\"default\":\"bottom-right\",\"kind\":null,\"name\":\"position\"},{\"default\":0,\"kind\":null,\"name\":\"_clear\"}]},{\"extends\":null,\"module\":null,\"name\":\"NotificationArea1\",\"overrides\":[],\"properties\":[{\"default\":[],\"kind\":null,\"name\":\"notifications\"},{\"default\":\"bottom-right\",\"kind\":null,\"name\":\"position\"},{\"default\":0,\"kind\":null,\"name\":\"_clear\"},{\"default\":[{\"background\":\"#ffc107\",\"icon\":{\"className\":\"fas fa-exclamation-triangle\",\"color\":\"white\",\"tagName\":\"i\"},\"type\":\"warning\"},{\"background\":\"#007bff\",\"icon\":{\"className\":\"fas fa-info-circle\",\"color\":\"white\",\"tagName\":\"i\"},\"type\":\"info\"}],\"kind\":null,\"name\":\"types\"}]},{\"extends\":null,\"module\":null,\"name\":\"Notification\",\"overrides\":[],\"properties\":[{\"default\":null,\"kind\":null,\"name\":\"background\"},{\"default\":3000,\"kind\":null,\"name\":\"duration\"},{\"default\":null,\"kind\":null,\"name\":\"icon\"},{\"default\":\"\",\"kind\":null,\"name\":\"message\"},{\"default\":null,\"kind\":null,\"name\":\"notification_type\"},{\"default\":false,\"kind\":null,\"name\":\"_destroyed\"}]},{\"extends\":null,\"module\":null,\"name\":\"TemplateActions1\",\"overrides\":[],\"properties\":[{\"default\":0,\"kind\":null,\"name\":\"open_modal\"},{\"default\":0,\"kind\":null,\"name\":\"close_modal\"}]},{\"extends\":null,\"module\":null,\"name\":\"MaterialTemplateActions1\",\"overrides\":[],\"properties\":[{\"default\":0,\"kind\":null,\"name\":\"open_modal\"},{\"default\":0,\"kind\":null,\"name\":\"close_modal\"}]}],\"roots\":{\"references\":[{\"attributes\":{\"bottom\":{\"value\":0},\"fill_alpha\":{\"value\":0.2},\"fill_color\":{\"value\":\"#30a2da\"},\"hatch_alpha\":{\"value\":0.2},\"hatch_color\":{\"value\":\"#30a2da\"},\"left\":{\"field\":\"left\"},\"line_alpha\":{\"value\":0.2},\"right\":{\"field\":\"right\"},\"tags\":[\"apply_ranges\"],\"top\":{\"field\":\"top\"}},\"id\":\"1506\",\"type\":\"Quad\"},{\"attributes\":{},\"id\":\"1515\",\"type\":\"AllLabels\"},{\"attributes\":{\"end\":380.64285714285717,\"reset_end\":380.64285714285717,\"reset_start\":-15.642857142857142,\"start\":-15.642857142857142,\"tags\":[[[\"days_since_prior_order\",\"days_since_prior_order\",null]],[]]},\"id\":\"1466\",\"type\":\"Range1d\"},{\"attributes\":{\"source\":{\"id\":\"1501\"}},\"id\":\"1508\",\"type\":\"CDSView\"},{\"attributes\":{\"bottom\":{\"value\":0},\"fill_alpha\":{\"value\":1.0},\"fill_color\":{\"value\":\"#30a2da\"},\"hatch_alpha\":{\"value\":1.0},\"hatch_color\":{\"value\":\"#30a2da\"},\"hatch_scale\":{\"value\":12.0},\"hatch_weight\":{\"value\":1.0},\"left\":{\"field\":\"left\"},\"line_alpha\":{\"value\":1.0},\"line_cap\":{\"value\":\"butt\"},\"line_color\":{\"value\":\"black\"},\"line_dash\":{\"value\":[]},\"line_dash_offset\":{\"value\":0},\"line_join\":{\"value\":\"bevel\"},\"line_width\":{\"value\":1},\"right\":{\"field\":\"right\"},\"tags\":[\"apply_ranges\"],\"top\":{\"field\":\"top\"}},\"id\":\"1509\",\"type\":\"Quad\"},{\"attributes\":{\"data\":{\"days_since_prior_order\":{\"__ndarray__\":\"MzMzMzMzDUBmZmZmZuYlQAAAAAAAQDJAzMzMzMyMOUDNzMzMzGxAQDMzMzMzE0RAmpmZmZm5R0AAAAAAAGBLQGZmZmZmBk9AZmZmZmZWUUCamZmZmSlTQMzMzMzM/FRAAAAAAADQVkAzMzMzM6NYQGZmZmZmdlpAmpmZmZlJXEDMzMzMzBxeQAAAAAAA8F9AmpmZmZnhYEAzMzMzM8thQMzMzMzMtGJAZmZmZmaeY0AAAAAAAIhkQJqZmZmZcWVAMzMzMzNbZkDMzMzMzERnQGZmZmZmLmhAAAAAAAAYaUCamZmZmQFqQDMzMzMz62pAzMzMzMzUa0BmZmZmZr5sQAAAAAAAqG1AmpmZmZmRbkAzMzMzM3tvQGZmZmZmMnBAMzMzMzOncEAAAAAAABxxQMzMzMzMkHFAmpmZmZkFckBmZmZmZnpyQDMzMzMz73JAAAAAAABkc0DMzMzMzNhzQJqZmZmZTXRAZmZmZmbCdEAzMzMzMzd1QAAAAAAArHVAzMzMzMwgdkCamZmZmZV2QA==\",\"dtype\":\"float64\",\"order\":\"little\",\"shape\":[50]},\"days_since_prior_order_count\":[745,2504,3645,4968,6170,7108,8030,6633,11286,6203,6888,5780,7610,5758,4867,4762,5763,4278,4261,4202,4799,3804,3623,4066,3639,3212,3605,3250,3048,2901,3317,2760,2710,3053,2587,2458,2899,2474,2472,2364,2736,2332,2303,2728,2550,2743,3524,3783,5623,3385],\"left\":{\"__ndarray__\":\"AAAAAAAAAAAzMzMzMzMdQDMzMzMzMy1AZmZmZmbmNUAzMzMzMzM9QAAAAAAAQEJAZmZmZmbmRUDNzMzMzIxJQDMzMzMzM01AzczMzMxsUEAAAAAAAEBSQDMzMzMzE1RAZmZmZmbmVUCZmZmZmblXQM3MzMzMjFlAAAAAAABgW0AzMzMzMzNdQGZmZmZmBl9AzczMzMxsYEBmZmZmZlZhQAAAAAAAQGJAmZmZmZkpY0AzMzMzMxNkQM3MzMzM/GRAZmZmZmbmZUAAAAAAANBmQJmZmZmZuWdAMzMzMzOjaEDNzMzMzIxpQGZmZmZmdmpAAAAAAABga0CZmZmZmUlsQDMzMzMzM21AzczMzMwcbkBmZmZmZgZvQAAAAAAA8G9AzczMzMxscECZmZmZmeFwQGZmZmZmVnFAMzMzMzPLcUAAAAAAAEByQM3MzMzMtHJAmZmZmZkpc0BmZmZmZp5zQDMzMzMzE3RAAAAAAACIdEDNzMzMzPx0QJmZmZmZcXVAZmZmZmbmdUAzMzMzM1t2QA==\",\"dtype\":\"float64\",\"order\":\"little\",\"shape\":[50]},\"right\":{\"__ndarray__\":\"MzMzMzMzHUAzMzMzMzMtQGZmZmZm5jVAMzMzMzMzPUAAAAAAAEBCQGZmZmZm5kVAzczMzMyMSUAzMzMzMzNNQM3MzMzMbFBAAAAAAABAUkAzMzMzMxNUQGZmZmZm5lVAmZmZmZm5V0DNzMzMzIxZQAAAAAAAYFtAMzMzMzMzXUBmZmZmZgZfQM3MzMzMbGBAZmZmZmZWYUAAAAAAAEBiQJmZmZmZKWNAMzMzMzMTZEDNzMzMzPxkQGZmZmZm5mVAAAAAAADQZkCZmZmZmblnQDMzMzMzo2hAzczMzMyMaUBmZmZmZnZqQAAAAAAAYGtAmZmZmZlJbEAzMzMzMzNtQM3MzMzMHG5AZmZmZmYGb0AAAAAAAPBvQM3MzMzMbHBAmZmZmZnhcEBmZmZmZlZxQDMzMzMzy3FAAAAAAABAckDNzMzMzLRyQJmZmZmZKXNAZmZmZmaec0AzMzMzMxN0QAAAAAAAiHRAzczMzMz8dECZmZmZmXF1QGZmZmZm5nVAMzMzMzNbdkAAAAAAANB2QA==\",\"dtype\":\"float64\",\"order\":\"little\",\"shape\":[50]},\"top\":[745,2504,3645,4968,6170,7108,8030,6633,11286,6203,6888,5780,7610,5758,4867,4762,5763,4278,4261,4202,4799,3804,3623,4066,3639,3212,3605,3250,3048,2901,3317,2760,2710,3053,2587,2458,2899,2474,2472,2364,2736,2332,2303,2728,2550,2743,3524,3783,5623,3385]},\"selected\":{\"id\":\"1502\"},\"selection_policy\":{\"id\":\"1527\"}},\"id\":\"1501\",\"type\":\"ColumnDataSource\"},{\"attributes\":{},\"id\":\"1479\",\"type\":\"LinearScale\"},{\"attributes\":{\"end\":12340.1,\"reset_end\":12340.1,\"reset_start\":0.0,\"tags\":[[[\"days_since_prior_order_count\",\"Count\",null]],{\"autorange\":false,\"invert_yaxis\":false}]},\"id\":\"1467\",\"type\":\"Range1d\"},{\"attributes\":{\"callback\":null,\"renderers\":[{\"id\":\"1507\"}],\"tags\":[\"hv_created\"],\"tooltips\":[[\"days_since_prior_order\",\"@{days_since_prior_order}\"],[\"Count\",\"@{days_since_prior_order_count}\"]]},\"id\":\"1470\",\"type\":\"HoverTool\"},{\"attributes\":{},\"id\":\"1514\",\"type\":\"BasicTickFormatter\"},{\"attributes\":{},\"id\":\"1481\",\"type\":\"BasicTicker\"},{\"attributes\":{},\"id\":\"1502\",\"type\":\"Selection\"},{\"attributes\":{},\"id\":\"1478\",\"type\":\"LinearScale\"},{\"attributes\":{\"coordinates\":null,\"group\":null,\"text\":\"Number of days since clients uses Instacart\",\"text_color\":\"black\",\"text_font_size\":\"12pt\"},\"id\":\"1472\",\"type\":\"Title\"},{\"attributes\":{\"below\":[{\"id\":\"1480\"}],\"center\":[{\"id\":\"1483\"},{\"id\":\"1487\"}],\"height\":300,\"left\":[{\"id\":\"1484\"}],\"margin\":[5,5,5,5],\"min_border_bottom\":10,\"min_border_left\":10,\"min_border_right\":10,\"min_border_top\":10,\"output_backend\":\"webgl\",\"renderers\":[{\"id\":\"1507\"}],\"sizing_mode\":\"fixed\",\"title\":{\"id\":\"1472\"},\"toolbar\":{\"id\":\"1494\"},\"width\":700,\"x_range\":{\"id\":\"1466\"},\"x_scale\":{\"id\":\"1478\"},\"y_range\":{\"id\":\"1467\"},\"y_scale\":{\"id\":\"1479\"}},\"id\":\"1471\",\"subtype\":\"Figure\",\"type\":\"Plot\"},{\"attributes\":{\"bottom\":{\"value\":0},\"fill_color\":{\"value\":\"#30a2da\"},\"hatch_color\":{\"value\":\"#30a2da\"},\"left\":{\"field\":\"left\"},\"right\":{\"field\":\"right\"},\"tags\":[\"apply_ranges\"],\"top\":{\"field\":\"top\"}},\"id\":\"1504\",\"type\":\"Quad\"},{\"attributes\":{\"axis\":{\"id\":\"1480\"},\"coordinates\":null,\"grid_line_color\":null,\"group\":null,\"ticker\":null},\"id\":\"1483\",\"type\":\"Grid\"},{\"attributes\":{\"axis_label\":\"days_since_prior_order\",\"coordinates\":null,\"formatter\":{\"id\":\"1511\"},\"group\":null,\"major_label_policy\":{\"id\":\"1512\"},\"ticker\":{\"id\":\"1481\"}},\"id\":\"1480\",\"type\":\"LinearAxis\"},{\"attributes\":{},\"id\":\"1511\",\"type\":\"BasicTickFormatter\"},{\"attributes\":{\"axis\":{\"id\":\"1484\"},\"coordinates\":null,\"dimension\":1,\"grid_line_color\":null,\"group\":null,\"ticker\":null},\"id\":\"1487\",\"type\":\"Grid\"},{\"attributes\":{\"axis_label\":\"\",\"coordinates\":null,\"formatter\":{\"id\":\"1514\"},\"group\":null,\"major_label_policy\":{\"id\":\"1515\"},\"ticker\":{\"id\":\"1485\"}},\"id\":\"1484\",\"type\":\"LinearAxis\"},{\"attributes\":{},\"id\":\"1485\",\"type\":\"BasicTicker\"},{\"attributes\":{},\"id\":\"1512\",\"type\":\"AllLabels\"},{\"attributes\":{},\"id\":\"1492\",\"type\":\"ResetTool\"},{\"attributes\":{},\"id\":\"1490\",\"type\":\"WheelZoomTool\"},{\"attributes\":{},\"id\":\"1489\",\"type\":\"PanTool\"},{\"attributes\":{},\"id\":\"1488\",\"type\":\"SaveTool\"},{\"attributes\":{\"bottom_units\":\"screen\",\"coordinates\":null,\"fill_alpha\":0.5,\"fill_color\":\"lightgrey\",\"group\":null,\"left_units\":\"screen\",\"level\":\"overlay\",\"line_alpha\":1.0,\"line_color\":\"black\",\"line_dash\":[4,4],\"line_width\":2,\"right_units\":\"screen\",\"syncable\":false,\"top_units\":\"screen\"},\"id\":\"1493\",\"type\":\"BoxAnnotation\"},{\"attributes\":{\"bottom\":{\"value\":0},\"fill_alpha\":{\"value\":0.1},\"fill_color\":{\"value\":\"#30a2da\"},\"hatch_alpha\":{\"value\":0.1},\"hatch_color\":{\"value\":\"#30a2da\"},\"left\":{\"field\":\"left\"},\"line_alpha\":{\"value\":0.1},\"right\":{\"field\":\"right\"},\"tags\":[\"apply_ranges\"],\"top\":{\"field\":\"top\"}},\"id\":\"1505\",\"type\":\"Quad\"},{\"attributes\":{\"overlay\":{\"id\":\"1493\"}},\"id\":\"1491\",\"type\":\"BoxZoomTool\"},{\"attributes\":{\"coordinates\":null,\"data_source\":{\"id\":\"1501\"},\"glyph\":{\"id\":\"1504\"},\"group\":null,\"hover_glyph\":null,\"muted_glyph\":{\"id\":\"1506\"},\"nonselection_glyph\":{\"id\":\"1505\"},\"selection_glyph\":{\"id\":\"1509\"},\"view\":{\"id\":\"1508\"}},\"id\":\"1507\",\"type\":\"GlyphRenderer\"},{\"attributes\":{\"children\":[{\"id\":\"1471\"}],\"height\":300,\"margin\":[0,0,0,0],\"name\":\"Row01294\",\"sizing_mode\":\"fixed\",\"tags\":[\"embedded\"],\"width\":700},\"id\":\"1465\",\"type\":\"Row\"},{\"attributes\":{},\"id\":\"1527\",\"type\":\"UnionRenderers\"},{\"attributes\":{\"active_drag\":{\"id\":\"1489\"},\"active_scroll\":{\"id\":\"1490\"},\"tools\":[{\"id\":\"1470\"},{\"id\":\"1488\"},{\"id\":\"1489\"},{\"id\":\"1490\"},{\"id\":\"1491\"},{\"id\":\"1492\"}]},\"id\":\"1494\",\"type\":\"Toolbar\"}],\"root_ids\":[\"1465\"]},\"title\":\"Bokeh Application\",\"version\":\"2.4.3\"}};\n",
       "    var render_items = [{\"docid\":\"8ad5e5a7-453b-4ed5-9e4a-e3e098baa770\",\"root_ids\":[\"1465\"],\"roots\":{\"1465\":\"4656989c-7af0-41fe-ad17-d5f318d04db2\"}}];\n",
       "    root.Bokeh.embed.embed_items_notebook(docs_json, render_items);\n",
       "    for (const render_item of render_items) {\n",
       "      for (const root_id of render_item.root_ids) {\n",
       "\tconst id_el = document.getElementById(root_id)\n",
       "\tif (id_el.children.length && (id_el.children[0].className === 'bk-root')) {\n",
       "\t  const root_el = id_el.children[0]\n",
       "\t  root_el.id = root_el.id + '-rendered'\n",
       "\t}\n",
       "      }\n",
       "    }\n",
       "  }\n",
       "  if (root.Bokeh !== undefined && root.Bokeh.Panel !== undefined) {\n",
       "    embed_document(root);\n",
       "  } else {\n",
       "    var attempts = 0;\n",
       "    var timer = setInterval(function(root) {\n",
       "      if (root.Bokeh !== undefined && root.Bokeh.Panel !== undefined) {\n",
       "        clearInterval(timer);\n",
       "        embed_document(root);\n",
       "      } else if (document.readyState == \"complete\") {\n",
       "        attempts++;\n",
       "        if (attempts > 200) {\n",
       "          clearInterval(timer);\n",
       "          console.log(\"Bokeh: ERROR: Unable to run BokehJS code because BokehJS library is missing\");\n",
       "        }\n",
       "      }\n",
       "    }, 25, root)\n",
       "  }\n",
       "})(window);</script>"
      ],
      "text/plain": [
       ":Histogram   [days_since_prior_order]   (days_since_prior_order_count)"
      ]
     },
     "execution_count": 16,
     "metadata": {
      "application/vnd.holoviews_exec.v0+json": {
       "id": "1465"
      }
     },
     "output_type": "execute_result"
    }
   ],
   "source": [
    "df_ = df.groupby(\"user_id\").days_since_prior_order.sum().reset_index()\n",
    "df_.hvplot.hist(\"days_since_prior_order\" , title=\"Number of days since clients uses Instacart\", bins=50)"
   ]
  },
  {
   "cell_type": "code",
   "execution_count": 54,
   "id": "3bed3ac3",
   "metadata": {},
   "outputs": [
    {
     "name": "stderr",
     "output_type": "stream",
     "text": [
      "100%|██████████| 3214874/3214874 [00:05<00:00, 567939.27it/s]\n"
     ]
    },
    {
     "name": "stdout",
     "output_type": "stream",
     "text": [
      "3214874 3214874\n"
     ]
    },
    {
     "name": "stderr",
     "output_type": "stream",
     "text": [
      "100%|██████████| 3214874/3214874 [00:02<00:00, 1554187.52it/s]\n"
     ]
    }
   ],
   "source": [
    "test = df[df['days_since_prior_order'].isna()]\n",
    "dates = []\n",
    "\n",
    "hour_of_day = df[\"order_hour_of_day\"].to_list()\n",
    "delta_days = df[\"days_since_prior_order\"].to_list()\n",
    "total_days = df[\"total_days_on_platform\"].to_list()\n",
    "\n",
    "for day, total_day in tqdm(zip(delta_days, total_days), total=len(df), position=0, leave=True):\n",
    "    if(np.isnan(day)):\n",
    "        dates.append(date.today() - timedelta(days=total_day-2))\n",
    "    else:\n",
    "         dates.append(dates[-1] + timedelta(days=day))\n",
    "\n",
    "print(len(hour_of_day), len(dates))\n",
    "dates_hour = []\n",
    "for hour, date in tqdm(zip(hour_of_day, dates), total=len(df), position=0, leave=True):\n",
    "    dates_hour.append(datetime.combine(date, time(hour, 0)))\n",
    "\n",
    "df[\"date\"] = dates_hour"
   ]
  },
  {
   "cell_type": "code",
   "execution_count": 52,
   "id": "32e34332",
   "metadata": {},
   "outputs": [
    {
     "data": {
      "text/html": [
       "<div>\n",
       "<style scoped>\n",
       "    .dataframe tbody tr th:only-of-type {\n",
       "        vertical-align: middle;\n",
       "    }\n",
       "\n",
       "    .dataframe tbody tr th {\n",
       "        vertical-align: top;\n",
       "    }\n",
       "\n",
       "    .dataframe thead th {\n",
       "        text-align: right;\n",
       "    }\n",
       "</style>\n",
       "<table border=\"1\" class=\"dataframe\">\n",
       "  <thead>\n",
       "    <tr style=\"text-align: right;\">\n",
       "      <th></th>\n",
       "      <th>order_id</th>\n",
       "      <th>user_id</th>\n",
       "      <th>eval_set</th>\n",
       "      <th>order_number</th>\n",
       "      <th>order_dow</th>\n",
       "      <th>order_hour_of_day</th>\n",
       "      <th>days_since_prior_order</th>\n",
       "      <th>product_id</th>\n",
       "      <th>total_days_on_platform</th>\n",
       "      <th>date</th>\n",
       "      <th>date_hour</th>\n",
       "    </tr>\n",
       "  </thead>\n",
       "  <tbody>\n",
       "    <tr>\n",
       "      <th>0</th>\n",
       "      <td>2539329</td>\n",
       "      <td>1</td>\n",
       "      <td>prior</td>\n",
       "      <td>1</td>\n",
       "      <td>2</td>\n",
       "      <td>8</td>\n",
       "      <td>NaN</td>\n",
       "      <td>[196, 14084, 12427, 26088, 26405]</td>\n",
       "      <td>176.0</td>\n",
       "      <td>2023-04-07 08:00:00</td>\n",
       "      <td>2023-04-07 08:00:00</td>\n",
       "    </tr>\n",
       "    <tr>\n",
       "      <th>1</th>\n",
       "      <td>2398795</td>\n",
       "      <td>1</td>\n",
       "      <td>prior</td>\n",
       "      <td>2</td>\n",
       "      <td>3</td>\n",
       "      <td>7</td>\n",
       "      <td>15.0</td>\n",
       "      <td>[196, 10258, 12427, 13176, 26088, 13032]</td>\n",
       "      <td>176.0</td>\n",
       "      <td>2023-04-22 07:00:00</td>\n",
       "      <td>2023-04-07 07:00:00</td>\n",
       "    </tr>\n",
       "    <tr>\n",
       "      <th>2</th>\n",
       "      <td>473747</td>\n",
       "      <td>1</td>\n",
       "      <td>prior</td>\n",
       "      <td>3</td>\n",
       "      <td>3</td>\n",
       "      <td>12</td>\n",
       "      <td>21.0</td>\n",
       "      <td>[196, 12427, 10258, 25133, 30450]</td>\n",
       "      <td>176.0</td>\n",
       "      <td>2023-05-13 12:00:00</td>\n",
       "      <td>2023-04-07 12:00:00</td>\n",
       "    </tr>\n",
       "    <tr>\n",
       "      <th>3</th>\n",
       "      <td>2254736</td>\n",
       "      <td>1</td>\n",
       "      <td>prior</td>\n",
       "      <td>4</td>\n",
       "      <td>4</td>\n",
       "      <td>7</td>\n",
       "      <td>29.0</td>\n",
       "      <td>[196, 12427, 10258, 25133, 26405]</td>\n",
       "      <td>176.0</td>\n",
       "      <td>2023-06-11 07:00:00</td>\n",
       "      <td>2023-04-07 07:00:00</td>\n",
       "    </tr>\n",
       "    <tr>\n",
       "      <th>4</th>\n",
       "      <td>431534</td>\n",
       "      <td>1</td>\n",
       "      <td>prior</td>\n",
       "      <td>5</td>\n",
       "      <td>4</td>\n",
       "      <td>15</td>\n",
       "      <td>28.0</td>\n",
       "      <td>[196, 12427, 10258, 25133, 10326, 17122, 41787...</td>\n",
       "      <td>176.0</td>\n",
       "      <td>2023-07-09 15:00:00</td>\n",
       "      <td>2023-04-07 15:00:00</td>\n",
       "    </tr>\n",
       "    <tr>\n",
       "      <th>...</th>\n",
       "      <td>...</td>\n",
       "      <td>...</td>\n",
       "      <td>...</td>\n",
       "      <td>...</td>\n",
       "      <td>...</td>\n",
       "      <td>...</td>\n",
       "      <td>...</td>\n",
       "      <td>...</td>\n",
       "      <td>...</td>\n",
       "      <td>...</td>\n",
       "      <td>...</td>\n",
       "    </tr>\n",
       "    <tr>\n",
       "      <th>3214869</th>\n",
       "      <td>2558525</td>\n",
       "      <td>206209</td>\n",
       "      <td>prior</td>\n",
       "      <td>9</td>\n",
       "      <td>4</td>\n",
       "      <td>15</td>\n",
       "      <td>22.0</td>\n",
       "      <td>[38167, 23892, 6846]</td>\n",
       "      <td>210.0</td>\n",
       "      <td>2023-07-08 15:00:00</td>\n",
       "      <td>2023-04-07 15:00:00</td>\n",
       "    </tr>\n",
       "    <tr>\n",
       "      <th>3214870</th>\n",
       "      <td>2266710</td>\n",
       "      <td>206209</td>\n",
       "      <td>prior</td>\n",
       "      <td>10</td>\n",
       "      <td>5</td>\n",
       "      <td>18</td>\n",
       "      <td>29.0</td>\n",
       "      <td>[9405, 6846, 15700, 26503, 41213, 23800, 24852...</td>\n",
       "      <td>210.0</td>\n",
       "      <td>2023-08-06 18:00:00</td>\n",
       "      <td>2023-04-07 18:00:00</td>\n",
       "    </tr>\n",
       "    <tr>\n",
       "      <th>3214871</th>\n",
       "      <td>1854736</td>\n",
       "      <td>206209</td>\n",
       "      <td>prior</td>\n",
       "      <td>11</td>\n",
       "      <td>4</td>\n",
       "      <td>10</td>\n",
       "      <td>30.0</td>\n",
       "      <td>[6846, 9405, 41213, 24852, 19348, 15700, 40310...</td>\n",
       "      <td>210.0</td>\n",
       "      <td>2023-09-05 10:00:00</td>\n",
       "      <td>2023-04-07 10:00:00</td>\n",
       "    </tr>\n",
       "    <tr>\n",
       "      <th>3214872</th>\n",
       "      <td>626363</td>\n",
       "      <td>206209</td>\n",
       "      <td>prior</td>\n",
       "      <td>12</td>\n",
       "      <td>1</td>\n",
       "      <td>12</td>\n",
       "      <td>18.0</td>\n",
       "      <td>[6846, 24852, 9405, 19348, 41213, 15700, 38167...</td>\n",
       "      <td>210.0</td>\n",
       "      <td>2023-09-23 12:00:00</td>\n",
       "      <td>2023-04-07 12:00:00</td>\n",
       "    </tr>\n",
       "    <tr>\n",
       "      <th>3214873</th>\n",
       "      <td>2977660</td>\n",
       "      <td>206209</td>\n",
       "      <td>prior</td>\n",
       "      <td>13</td>\n",
       "      <td>1</td>\n",
       "      <td>12</td>\n",
       "      <td>7.0</td>\n",
       "      <td>[24852, 9405, 16168, 39216, 14197, 38730, 3147...</td>\n",
       "      <td>210.0</td>\n",
       "      <td>2023-09-30 12:00:00</td>\n",
       "      <td>2023-04-07 12:00:00</td>\n",
       "    </tr>\n",
       "  </tbody>\n",
       "</table>\n",
       "<p>3214874 rows × 11 columns</p>\n",
       "</div>"
      ],
      "text/plain": [
       "         order_id  user_id eval_set  order_number  order_dow  \\\n",
       "0         2539329        1    prior             1          2   \n",
       "1         2398795        1    prior             2          3   \n",
       "2          473747        1    prior             3          3   \n",
       "3         2254736        1    prior             4          4   \n",
       "4          431534        1    prior             5          4   \n",
       "...           ...      ...      ...           ...        ...   \n",
       "3214869   2558525   206209    prior             9          4   \n",
       "3214870   2266710   206209    prior            10          5   \n",
       "3214871   1854736   206209    prior            11          4   \n",
       "3214872    626363   206209    prior            12          1   \n",
       "3214873   2977660   206209    prior            13          1   \n",
       "\n",
       "         order_hour_of_day  days_since_prior_order  \\\n",
       "0                        8                     NaN   \n",
       "1                        7                    15.0   \n",
       "2                       12                    21.0   \n",
       "3                        7                    29.0   \n",
       "4                       15                    28.0   \n",
       "...                    ...                     ...   \n",
       "3214869                 15                    22.0   \n",
       "3214870                 18                    29.0   \n",
       "3214871                 10                    30.0   \n",
       "3214872                 12                    18.0   \n",
       "3214873                 12                     7.0   \n",
       "\n",
       "                                                product_id  \\\n",
       "0                        [196, 14084, 12427, 26088, 26405]   \n",
       "1                 [196, 10258, 12427, 13176, 26088, 13032]   \n",
       "2                        [196, 12427, 10258, 25133, 30450]   \n",
       "3                        [196, 12427, 10258, 25133, 26405]   \n",
       "4        [196, 12427, 10258, 25133, 10326, 17122, 41787...   \n",
       "...                                                    ...   \n",
       "3214869                               [38167, 23892, 6846]   \n",
       "3214870  [9405, 6846, 15700, 26503, 41213, 23800, 24852...   \n",
       "3214871  [6846, 9405, 41213, 24852, 19348, 15700, 40310...   \n",
       "3214872  [6846, 24852, 9405, 19348, 41213, 15700, 38167...   \n",
       "3214873  [24852, 9405, 16168, 39216, 14197, 38730, 3147...   \n",
       "\n",
       "         total_days_on_platform                date           date_hour  \n",
       "0                         176.0 2023-04-07 08:00:00 2023-04-07 08:00:00  \n",
       "1                         176.0 2023-04-22 07:00:00 2023-04-07 07:00:00  \n",
       "2                         176.0 2023-05-13 12:00:00 2023-04-07 12:00:00  \n",
       "3                         176.0 2023-06-11 07:00:00 2023-04-07 07:00:00  \n",
       "4                         176.0 2023-07-09 15:00:00 2023-04-07 15:00:00  \n",
       "...                         ...                 ...                 ...  \n",
       "3214869                   210.0 2023-07-08 15:00:00 2023-04-07 15:00:00  \n",
       "3214870                   210.0 2023-08-06 18:00:00 2023-04-07 18:00:00  \n",
       "3214871                   210.0 2023-09-05 10:00:00 2023-04-07 10:00:00  \n",
       "3214872                   210.0 2023-09-23 12:00:00 2023-04-07 12:00:00  \n",
       "3214873                   210.0 2023-09-30 12:00:00 2023-04-07 12:00:00  \n",
       "\n",
       "[3214874 rows x 11 columns]"
      ]
     },
     "execution_count": 52,
     "metadata": {},
     "output_type": "execute_result"
    }
   ],
   "source": [
    "df"
   ]
  },
  {
   "cell_type": "code",
   "execution_count": 57,
   "id": "8e84f46a",
   "metadata": {},
   "outputs": [
    {
     "data": {},
     "metadata": {},
     "output_type": "display_data"
    },
    {
     "data": {
      "application/vnd.holoviews_exec.v0+json": "",
      "text/html": [
       "<div id='2417'>\n",
       "  <div class=\"bk-root\" id=\"5fa773cc-243e-44c9-9a5b-8c50ecd92e8c\" data-root-id=\"2417\"></div>\n",
       "</div>\n",
       "<script type=\"application/javascript\">(function(root) {\n",
       "  function embed_document(root) {\n",
       "    var docs_json = {\"29651352-9b49-4bba-8aaa-46e8d03c09c2\":{\"defs\":[{\"extends\":null,\"module\":null,\"name\":\"ReactiveHTML1\",\"overrides\":[],\"properties\":[]},{\"extends\":null,\"module\":null,\"name\":\"FlexBox1\",\"overrides\":[],\"properties\":[{\"default\":\"flex-start\",\"kind\":null,\"name\":\"align_content\"},{\"default\":\"flex-start\",\"kind\":null,\"name\":\"align_items\"},{\"default\":\"row\",\"kind\":null,\"name\":\"flex_direction\"},{\"default\":\"wrap\",\"kind\":null,\"name\":\"flex_wrap\"},{\"default\":\"flex-start\",\"kind\":null,\"name\":\"justify_content\"}]},{\"extends\":null,\"module\":null,\"name\":\"GridStack1\",\"overrides\":[],\"properties\":[{\"default\":\"warn\",\"kind\":null,\"name\":\"mode\"},{\"default\":null,\"kind\":null,\"name\":\"ncols\"},{\"default\":null,\"kind\":null,\"name\":\"nrows\"},{\"default\":true,\"kind\":null,\"name\":\"allow_resize\"},{\"default\":true,\"kind\":null,\"name\":\"allow_drag\"},{\"default\":[],\"kind\":null,\"name\":\"state\"}]},{\"extends\":null,\"module\":null,\"name\":\"click1\",\"overrides\":[],\"properties\":[{\"default\":\"\",\"kind\":null,\"name\":\"terminal_output\"},{\"default\":\"\",\"kind\":null,\"name\":\"debug_name\"},{\"default\":0,\"kind\":null,\"name\":\"clears\"}]},{\"extends\":null,\"module\":null,\"name\":\"NotificationAreaBase1\",\"overrides\":[],\"properties\":[{\"default\":\"bottom-right\",\"kind\":null,\"name\":\"position\"},{\"default\":0,\"kind\":null,\"name\":\"_clear\"}]},{\"extends\":null,\"module\":null,\"name\":\"NotificationArea1\",\"overrides\":[],\"properties\":[{\"default\":[],\"kind\":null,\"name\":\"notifications\"},{\"default\":\"bottom-right\",\"kind\":null,\"name\":\"position\"},{\"default\":0,\"kind\":null,\"name\":\"_clear\"},{\"default\":[{\"background\":\"#ffc107\",\"icon\":{\"className\":\"fas fa-exclamation-triangle\",\"color\":\"white\",\"tagName\":\"i\"},\"type\":\"warning\"},{\"background\":\"#007bff\",\"icon\":{\"className\":\"fas fa-info-circle\",\"color\":\"white\",\"tagName\":\"i\"},\"type\":\"info\"}],\"kind\":null,\"name\":\"types\"}]},{\"extends\":null,\"module\":null,\"name\":\"Notification\",\"overrides\":[],\"properties\":[{\"default\":null,\"kind\":null,\"name\":\"background\"},{\"default\":3000,\"kind\":null,\"name\":\"duration\"},{\"default\":null,\"kind\":null,\"name\":\"icon\"},{\"default\":\"\",\"kind\":null,\"name\":\"message\"},{\"default\":null,\"kind\":null,\"name\":\"notification_type\"},{\"default\":false,\"kind\":null,\"name\":\"_destroyed\"}]},{\"extends\":null,\"module\":null,\"name\":\"TemplateActions1\",\"overrides\":[],\"properties\":[{\"default\":0,\"kind\":null,\"name\":\"open_modal\"},{\"default\":0,\"kind\":null,\"name\":\"close_modal\"}]},{\"extends\":null,\"module\":null,\"name\":\"MaterialTemplateActions1\",\"overrides\":[],\"properties\":[{\"default\":0,\"kind\":null,\"name\":\"open_modal\"},{\"default\":0,\"kind\":null,\"name\":\"close_modal\"}]}],\"roots\":{\"references\":[{\"attributes\":{\"days\":[1,2,3,4,5,6,7,8,9,10,11,12,13,14,15,16,17,18,19,20,21,22,23,24,25,26,27,28,29,30,31]},\"id\":\"2485\",\"type\":\"DaysTicker\"},{\"attributes\":{\"end\":6285.9,\"reset_end\":6285.9,\"reset_start\":-564.9,\"start\":-564.9,\"tags\":[[[\"order_number\",\"order_number\",null]],{\"autorange\":false,\"invert_yaxis\":false}]},\"id\":\"2419\",\"type\":\"Range1d\"},{\"attributes\":{\"days\":[1,8,15,22]},\"id\":\"2487\",\"type\":\"DaysTicker\"},{\"attributes\":{},\"id\":\"2493\",\"type\":\"YearsTicker\"},{\"attributes\":{},\"id\":\"2430\",\"type\":\"LinearScale\"},{\"attributes\":{\"callback\":null,\"formatters\":{\"@{date}\":\"datetime\"},\"renderers\":[{\"id\":\"2459\"}],\"tags\":[\"hv_created\"],\"tooltips\":[[\"date\",\"@{date}{%F %T}\"],[\"order_number\",\"@{order_number}\"]]},\"id\":\"2422\",\"type\":\"HoverTool\"},{\"attributes\":{\"line_alpha\":0.2,\"line_color\":\"#30a2da\",\"line_width\":2,\"tags\":[\"apply_ranges\"],\"x\":{\"field\":\"date\"},\"y\":{\"field\":\"order_number\"}},\"id\":\"2458\",\"type\":\"Line\"},{\"attributes\":{\"days\":[1,15]},\"id\":\"2488\",\"type\":\"DaysTicker\"},{\"attributes\":{\"axis_label\":\"date\",\"coordinates\":null,\"formatter\":{\"id\":\"2463\"},\"group\":null,\"major_label_policy\":{\"id\":\"2464\"},\"ticker\":{\"id\":\"2433\"}},\"id\":\"2432\",\"type\":\"DatetimeAxis\"},{\"attributes\":{\"data\":{\"date\":{\"__ndarray__\":\"AADAEESHeEIAAKh/R4d4QgAAkO5Kh3hCAAB4XU6HeEIAAGDMUYd4QgAASDtVh3hCAAAwqliHeEIAABgZXId4QgAAAIhfh3hCAADo9mKHeEIAANBlZod4QgAAuNRph3hCAACgQ22HeEIAAIiycId4QgAAcCF0h3hCAABYkHeHeEIAAED/eod4QgAAKG5+h3hCAAAQ3YGHeEIAAPhLhYd4QgAA4LqIh3hCAADIKYyHeEIAALCYj4d4QgAAmAeTh3hCAACAdpaHeEIAAGjlmYd4QgAAUFSdh3hCAAA4w6CHeEIAACAypId4QgAACKGnh3hCAADwD6uHeEIAANh+rod4QgAAwO2xh3hCAACoXLWHeEIAAJDLuId4QgAAeDq8h3hCAABgqb+HeEIAAEgYw4d4QgAAMIfGh3hCAAAY9smHeEIAAABlzYd4QgAA6NPQh3hCAADQQtSHeEIAALix14d4QgAAoCDbh3hCAACIj96HeEIAAHD+4Yd4QgAAWG3lh3hCAABA3OiHeEIAAChL7Id4QgAAELrvh3hCAAD4KPOHeEIAAOCX9od4QgAAyAb6h3hCAACwdf2HeEIAAJjkAIh4QgAAgFMEiHhCAABowgeIeEIAAFAxC4h4QgAAOKAOiHhCAAAgDxKIeEIAAAh+FYh4QgAA8OwYiHhCAADYWxyIeEIAAMDKH4h4QgAAqDkjiHhCAACQqCaIeEIAAHgXKoh4QgAAYIYtiHhCAABI9TCIeEIAADBkNIh4QgAAGNM3iHhCAAAAQjuIeEIAAOiwPoh4QgAA0B9CiHhCAAC4jkWIeEIAAKD9SIh4QgAAiGxMiHhCAABw20+IeEIAAFhKU4h4QgAAQLlWiHhCAAAoKFqIeEIAABCXXYh4QgAA+AVhiHhCAADgdGSIeEIAAMjjZ4h4QgAAsFJriHhCAACYwW6IeEIAAIAwcoh4QgAAaJ91iHhCAABQDnmIeEIAADh9fIh4QgAAIOx/iHhCAAAIW4OIeEIAAPDJhoh4QgAA2DiKiHhCAADAp42IeEIAAKgWkYh4QgAAkIWUiHhCAAB49JeIeEIAAGBjm4h4QgAASNKeiHhCAAAwQaKIeEIAABiwpYh4QgAAAB+piHhCAADojayIeEIAAND8r4h4QgAAuGuziHhCAACg2raIeEIAAIhJuoh4QgAAcLi9iHhCAABYJ8GIeEIAAECWxIh4QgAAKAXIiHhCAAAQdMuIeEIAAPjizoh4QgAA4FHSiHhCAADIwNWIeEIAALAv2Yh4QgAAmJ7ciHhCAACADeCIeEIAAGh844h4QgAAUOvmiHhCAAA4WuqIeEIAACDJ7Yh4QgAACDjxiHhCAADwpvSIeEIAANgV+Ih4QgAAwIT7iHhCAACo8/6IeEIAAJBiAol4QgAAeNEFiXhCAABgQAmJeEIAAEivDIl4QgAAMB4QiXhCAAAYjROJeEIAAAD8Fol4QgAA6GoaiXhCAADQ2R2JeEIAALhIIYl4QgAAoLckiXhCAACIJiiJeEIAAHCVK4l4QgAAWAQviXhCAABAczKJeEIAACjiNYl4QgAAEFE5iXhCAAD4vzyJeEIAAOAuQIl4QgAAyJ1DiXhCAACwDEeJeEIAAJh7Sol4QgAAgOpNiXhCAABoWVGJeEIAAFDIVIl4QgAAODdYiXhCAAAgpluJeEIAAAgVX4l4QgAA8INiiXhCAADY8mWJeEIAAMBhaYl4QgAAqNBsiXhCAACQP3CJeEIAAHiuc4l4QgAAYB13iXhCAABIjHqJeEIAADD7fYl4QgAAGGqBiXhCAAAA2YSJeEIAAOhHiIl4QgAA0LaLiXhCAAC4JY+JeEIAAKCUkol4QgAAiAOWiXhCAABwcpmJeEIAAFjhnIl4QgAAQFCgiXhCAAAov6OJeEIAABAup4l4QgAA+JyqiXhCAADgC66JeEIAAMh6sYl4QgAAsOm0iXhCAACYWLiJeEIAAIDHu4l4QgAAaDa/iXhCAABQpcKJeEIAADgUxol4QgAAIIPJiXhCAAAI8syJeEIAAPBg0Il4QgAA2M/TiXhCAADAPteJeEIAAKit2ol4QgAAkBzeiXhCAAB4i+GJeEIAAGD65Il4QgAASGnoiXhCAAAw2OuJeEIAABhH74l4QgAAALbyiXhCAADoJPaJeEIAANCT+Yl4QgAAuAL9iXhCAACgcQCKeEIAAIjgA4p4QgAAcE8HinhCAABYvgqKeEIAAEAtDop4QgAAKJwRinhCAAAQCxWKeEIAAPh5GIp4QgAA4OgbinhCAADIVx+KeEIAALDGIop4QgAAmDUminhCAACApCmKeEIAAGgTLYp4QgAAUIIwinhCAAA48TOKeEIAACBgN4p4QgAACM86inhCAADwPT6KeEIAANisQYp4QgAAwBtFinhCAACoikiKeEIAAJD5S4p4QgAAeGhPinhCAABg11KKeEIAAEhGVop4QgAAMLVZinhCAAAYJF2KeEIAAACTYIp4QgAA6AFkinhCAADQcGeKeEIAALjfaop4QgAAoE5uinhCAACIvXGKeEIAAHAsdYp4QgAAWJt4inhCAABACnyKeEIAACh5f4p4QgAAEOiCinhCAAD4VoaKeEIAAODFiYp4QgAAyDSNinhCAACwo5CKeEIAAJgSlIp4QgAAgIGXinhCAABo8JqKeEIAAFBfnop4QgAAOM6hinhCAAAgPaWKeEIAAAisqIp4QgAA8BqsinhCAADYia+KeEIAAMD4sop4QgAAqGe2inhCAACQ1rmKeEIAAHhFvYp4QgAAYLTAinhCAABII8SKeEIAADCSx4p4QgAAGAHLinhCAAAAcM6KeEIAAOje0Yp4QgAA0E3VinhCAAC4vNiKeEIAAKAr3Ip4QgAAiJrfinhCAABwCeOKeEIAAFh45op4QgAAQOfpinhCAAAoVu2KeEIAABDF8Ip4QgAA+DP0inhCAADgoveKeEIAAMgR+4p4QgAAsID+inhCAACY7wGLeEIAAIBeBYt4QgAAaM0Ii3hCAABQPAyLeEIAADirD4t4QgAAIBoTi3hCAAAIiRaLeEIAAPD3GYt4QgAA2GYdi3hCAADA1SCLeEIAAKhEJIt4QgAAkLMni3hCAAB4IiuLeEIAAGCRLot4QgAASAAyi3hCAAAwbzWLeEIAABjeOIt4QgAAAE08i3hCAADouz+LeEIAANAqQ4t4QgAAuJlGi3hCAACgCEqLeEIAAIh3TYt4QgAAcOZQi3hCAABYVVSLeEIAAEDEV4t4QgAAKDNbi3hCAAAQol6LeEIAAPgQYot4QgAA4H9li3hCAADI7miLeEIAALBdbIt4QgAAmMxvi3hCAACAO3OLeEIAAGiqdot4QgAAUBl6i3hCAAA4iH2LeEIAACD3gIt4QgAACGaEi3hCAADw1IeLeEIAANhDi4t4QgAAwLKOi3hCAACoIZKLeEIAAJCQlYt4QgAAeP+Yi3hCAABgbpyLeEIAAEjdn4t4QgAAMEyji3hCAAAYu6aLeEIAAAAqqot4QgAA6Jiti3hCAADQB7GLeEIAALh2tIt4QgAAoOW3i3hCAACIVLuLeEIAAHDDvot4QgAAWDLCi3hCAABAocWLeEIAACgQyYt4QgAAEH/Mi3hCAAD47c+LeEIAAOBc04t4QgAAyMvWi3hCAACwOtqLeEIAAJip3Yt4QgAAgBjhi3hCAABoh+SLeEIAAFD254t4QgAAOGXri3hCAAAg1O6LeEIAAAhD8ot4QgAA8LH1i3hCAADYIPmLeEIAAMCP/It4QgAAqP7/i3hCAACQbQOMeEIAAHjcBox4QgAAYEsKjHhCAABIug2MeEIAADApEYx4QgAAGJgUjHhCAAAABxiMeEIAAOh1G4x4QgAA0OQejHhCAAC4UyKMeEIAAKDCJYx4QgAAiDEpjHhCAABwoCyMeEIAAFgPMIx4QgAAQH4zjHhCAAAo7TaMeEIAABBcOox4QgAA+Mo9jHhCAADgOUGMeEIAAMioRIx4QgAAsBdIjHhCAACYhkuMeEIAAID1Tox4QgAAaGRSjHhCAABQ01WMeEIAADhCWYx4QgAAILFcjHhCAAAIIGCMeEIAAPCOY4x4QgAA2P1mjHhCAADAbGqMeEIAAKjbbYx4QgAAkEpxjHhCAAB4uXSMeEIAAGAoeIx4QgAASJd7jHhCAAAwBn+MeEIAABh1gox4QgAAAOSFjHhCAADoUomMeEIAANDBjIx4QgAAuDCQjHhCAACgn5OMeEIAAIgOl4x4QgAAcH2ajHhCAABY7J2MeEIAAEBboYx4QgAAKMqkjHhCAAAQOaiMeEIAAPinq4x4QgAA4BavjHhCAADIhbKMeEIAALD0tYx4QgAAmGO5jHhCAACA0ryMeEIAAGhBwIx4QgAAULDDjHhCAAA4H8eMeEIAACCOyox4QgAACP3NjHhCAADwa9GMeEIAANja1Ix4QgAAwEnYjHhCAACouNuMeEIAAJAn34x4QgAAeJbijHhCAABgBeaMeEIAAEh06Yx4QgAAMOPsjHhCAAAYUvCMeEIAAADB84x4QgAA6C/3jHhCAADQnvqMeEIAALgN/ox4QgAAoHwBjXhCAACI6wSNeEIAAHBaCI14QgAAWMkLjXhCAABAOA+NeEIAACinEo14QgAAEBYWjXhCAAD4hBmNeEIAAODzHI14QgAAyGIgjXhCAACw0SONeEIAAJhAJ414QgAAgK8qjXhCAABoHi6NeEIAAFCNMY14QgAAOPw0jXhCAAAgaziNeEIAAAjaO414QgAA8Eg/jXhCAADYt0KNeEIAAMAmRo14QgAAqJVJjXhCAACQBE2NeEIAAHhzUI14QgAAYOJTjXhCAABIUVeNeEIAADDAWo14QgAAGC9ejXhCAAAAnmGNeEIAAOgMZY14QgAA0HtojXhCAAC46muNeEIAAKBZb414QgAAiMhyjXhCAABwN3aNeEIAAFimeY14QgAAQBV9jXhCAAAohICNeEIAABDzg414QgAA+GGHjXhCAADg0IqNeEIAAMg/jo14QgAAsK6RjXhCAACYHZWNeEIAAICMmI14QgAAaPubjXhCAABQap+NeEIAADjZoo14QgAAIEimjXhCAAAIt6mNeEIAAPAlrY14QgAA2JSwjXhCAADAA7SNeEIAAKhyt414QgAAkOG6jXhCAAB4UL6NeEIAAGC/wY14QgAASC7FjXhCAAAwnciNeEIAABgMzI14QgAAAHvPjXhCAADo6dKNeEIAANBY1o14QgAAuMfZjXhCAACgNt2NeEIAAIil4I14QgAAcBTkjXhCAABYg+eNeEIAAEDy6o14QgAAKGHujXhCAAAQ0PGNeEIAAPg+9Y14QgAA4K34jXhCAADIHPyNeEIAALCL/414QgAAmPoCjnhCAACAaQaOeEIAAGjYCY54QgAAUEcNjnhCAAA4thCOeEIAACAlFI54QgAACJQXjnhCAADwAhuOeEIAANhxHo54QgAAwOAhjnhCAACoTyWOeEIAAJC+KI54QgAAeC0sjnhCAABgnC+OeEIAAEgLM454QgAAMHo2jnhCAAAY6TmOeEIAAABYPY54QgAA6MZAjnhCAADQNUSOeEIAALikR454QgAAoBNLjnhCAACIgk6OeEIAAHDxUY54QgAAWGBVjnhCAABAz1iOeEIAACg+XI54QgAAEK1fjnhCAAD4G2OOeEIAAOCKZo54QgAAyPlpjnhCAACwaG2OeEIAAJjXcI54QgAAgEZ0jnhCAABotXeOeEIAAFAke454QgAAOJN+jnhCAAAgAoKOeEIAAAhxhY54QgAA8N+IjnhCAADYToyOeEIAAMC9j454QgAAqCyTjnhCAACQm5aOeEIAAHgKmo54QgAAYHmdjnhCAABI6KCOeEIAADBXpI54QgAAGManjnhCAAAANauOeEIAAOijro54QgAA0BKyjnhCAAC4gbWOeEIAAKDwuI54QgAAiF+8jnhCAABwzr+OeEIAAFg9w454QgAAQKzGjnhCAAAoG8qOeEIAABCKzY54QgAA+PjQjnhCAADgZ9SOeEIAAMjW1454QgAAsEXbjnhCAACYtN6OeEIAAIAj4o54QgAAaJLljnhCAABQAemOeEIAADhw7I54QgAAIN/vjnhCAAAITvOOeEIAAPC89o54QgAA2Cv6jnhCAADAmv2OeEIAAKgJAY94QgAAkHgEj3hCAAB45wePeEIAAGBWC494QgAASMUOj3hCAAAwNBKPeEIAABijFY94QgAAABIZj3hCAADogByPeEIAANDvH494QgAAuF4jj3hCAACgzSaPeEIAAIg8Ko94QgAAcKstj3hCAABYGjGPeEIAAECJNI94QgAAKPg3j3hCAAAQZzuPeEIAAPjVPo94QgAA4ERCj3hCAADIs0WPeEIAALAiSY94QgAAmJFMj3hCAACAAFCPeEIAAGhvU494QgAAUN5Wj3hCAAA4TVqPeEIAACC8XY94QgAACCthj3hCAADwmWSPeEIAANgIaI94QgAAwHdrj3hCAACo5m6PeEIAAJBVco94QgAAeMR1j3hCAABgM3mPeEIAAEiifI94QgAAMBGAj3hCAAAYgIOPeEIAAADvho94QgAA6F2Kj3hCAADQzI2PeEIAALg7kY94QgAAoKqUj3hCAACIGZiPeEIAAHCIm494QgAAWPeej3hCAABAZqKPeEIAACjVpY94QgAAEESpj3hCAAD4sqyPeEIAAOAhsI94QgAAyJCzj3hCAACw/7aPeEIAAJhuuo94QgAAgN29j3hCAABoTMGPeEIAAFC7xI94QgAAOCrIj3hCAAAgmcuPeEIAAAgIz494QgAA8HbSj3hCAADY5dWPeEIAAMBU2Y94QgAAqMPcj3hCAACQMuCPeEIAAHih4494QgAAYBDnj3hCAABIf+qPeEIAADDu7Y94QgAAGF3xj3hCAAAAzPSPeEIAAOg6+I94QgAA0Kn7j3hCAAC4GP+PeEIAAKCHApB4QgAAiPYFkHhCAABwZQmQeEIAAFjUDJB4QgAAQEMQkHhCAAAoshOQeEIAABAhF5B4QgAA+I8akHhCAADg/h2QeEIAAMhtIZB4QgAAsNwkkHhCAACYSyiQeEIAAIC6K5B4QgAAaCkvkHhCAABQmDKQeEIAADgHNpB4QgAAIHY5kHhCAAAI5TyQeEIAAPBTQJB4QgAA2MJDkHhCAADAMUeQeEIAAKigSpB4QgAAkA9OkHhCAAB4flGQeEIAAGDtVJB4QgAASFxYkHhCAAAwy1uQeEIAABg6X5B4QgAAAKlikHhCAADoF2aQeEIAANCGaZB4QgAAuPVskHhCAACgZHCQeEIAAIjTc5B4QgAAcEJ3kHhCAABYsXqQeEIAAEAgfpB4QgAAKI+BkHhCAAAQ/oSQeEIAAPhsiJB4QgAA4NuLkHhCAADISo+QeEIAALC5kpB4QgAAmCiWkHhCAACAl5mQeEIAAGgGnZB4QgAAUHWgkHhCAAA45KOQeEIAACBTp5B4QgAACMKqkHhCAADwMK6QeEIAANifsZB4QgAAwA61kHhCAACofbiQeEIAAJDsu5B4QgAAeFu/kHhCAABgysKQeEIAAEg5xpB4QgAAMKjJkHhCAAAYF82QeEIAAACG0JB4QgAA6PTTkHhCAADQY9eQeEIAALjS2pB4QgAAoEHekHhCAACIsOGQeEIAAHAf5ZB4QgAAWI7okHhCAABA/euQeEIAAChs75B4QgAAENvykHhCAAD4SfaQeEIAAOC4+ZB4QgAAyCf9kHhCAACwlgCReEIAAJgFBJF4QgAAgHQHkXhCAABo4wqReEIAAFBSDpF4QgAAOMERkXhCAAAgMBWReEIAAAifGJF4QgAA8A0ckXhCAADYfB+ReEIAAMDrIpF4QgAAqFomkXhCAACQySmReEIAAHg4LZF4QgAAYKcwkXhCAABIFjSReEIAADCFN5F4QgAAGPQ6kXhCAAAAYz6ReEIAAOjRQZF4QgAA0EBFkXhCAAC4r0iReEIAAKAeTJF4QgAAiI1PkXhCAABw/FKReEIAAFhrVpF4QgAAQNpZkXhCAAAoSV2ReEIAABC4YJF4QgAA+CZkkXhCAADglWeReEIAAMgEa5F4QgAAsHNukXhCAACY4nGReEIAAIBRdZF4QgAAaMB4kXhCAABQL3yReEIAADief5F4QgAAIA2DkXhCAAAIfIaReEIAAPDqiZF4QgAA2FmNkXhCAADAyJCReEIAAKg3lJF4QgAAkKaXkXhCAAB4FZuReEIAAGCEnpF4QgAASPOhkXhCAAAwYqWReEIAABjRqJF4QgAAAECskXhCAADorq+ReEIAANAds5F4QgAAuIy2kXhCAACg+7mReEIAAIhqvZF4QgAAcNnAkXhCAABYSMSReEIAAEC3x5F4QgAAKCbLkXhCAAAQlc6ReEIAAPgD0pF4QgAA4HLVkXhCAADI4diReEIAALBQ3JF4QgAAmL/fkXhCAACALuOReEIAAGid5pF4QgAAUAzqkXhCAAA4e+2ReEIAACDq8JF4QgAACFn0kXhCAADwx/eReEIAANg2+5F4QgAAwKX+kXhCAACoFAKSeEIAAJCDBZJ4QgAAePIIknhCAABgYQySeEIAAEjQD5J4QgAAMD8TknhCAAAYrhaSeEIAAAAdGpJ4QgAA6IsdknhCAADQ+iCSeEIAALhpJJJ4QgAAoNgnknhCAACIRyuSeEIAAHC2LpJ4QgAAWCUyknhCAABAlDWSeEIAACgDOZJ4QgAAEHI8knhCAAD44D+SeEIAAOBPQ5J4QgAAyL5GknhCAACwLUqSeEIAAJicTZJ4QgAAgAtRknhCAABoelSSeEIAAFDpV5J4QgAAOFhbknhCAAAgx16SeEIAAAg2YpJ4QgAA8KRlknhCAADYE2mSeEIAAMCCbJJ4QgAAqPFvknhCAACQYHOSeEIAAHjPdpJ4QgAAYD56knhCAABIrX2SeEIAADAcgZJ4QgAAGIuEknhCAAAA+oeSeEIAAOhoi5J4QgAA0NeOknhCAAC4RpKSeEIAAKC1lZJ4QgAAiCSZknhCAABwk5ySeEIAAFgCoJJ4QgAAQHGjknhCAAAo4KaSeEIAABBPqpJ4QgAA+L2tknhCAADgLLGSeEIAAMibtJJ4QgAAsAq4knhCAACYebuSeEIAAIDovpJ4QgAAaFfCknhCAABQxsWSeEIAADg1yZJ4QgAAIKTMknhCAAAIE9CSeEIAAPCB05J4QgAA2PDWknhCAADAX9qSeEIAAKjO3ZJ4QgAAkD3hknhCAAB4rOSSeEIAAGAb6JJ4QgAASIrrknhCAAAw+e6SeEIAABho8pJ4QgAAANf1knhCAADoRfmSeEIAANC0/JJ4QgAAuCMAk3hCAACgkgOTeEIAAIgBB5N4QgAAcHAKk3hCAABY3w2TeEIAAEBOEZN4QgAAKL0Uk3hCAAAQLBiTeEIAAPiaG5N4QgAA4Akfk3hCAADIeCKTeEIAALDnJZN4QgAAmFYpk3hCAACAxSyTeEIAAGg0MJN4QgAAUKMzk3hCAAA4EjeTeEIAACCBOpN4QgAACPA9k3hCAADwXkGTeEIAANjNRJN4QgAAwDxIk3hCAACoq0uTeEIAAJAaT5N4QgAAeIlSk3hCAABg+FWTeEIAAEhnWZN4QgAAMNZck3hCAAAYRWCTeEIAAAC0Y5N4QgAA6CJnk3hCAADQkWqTeEIAALgAbpN4QgAAoG9xk3hCAACI3nSTeEIAAHBNeJN4QgAAWLx7k3hCAABAK3+TeEIAACiagpN4QgAAEAmGk3hCAAD4d4mTeEIAAODmjJN4QgAAyFWQk3hCAACwxJOTeEIAAJgzl5N4QgAAgKKak3hCAABoEZ6TeEIAAFCAoZN4QgAAOO+kk3hCAAAgXqiTeEIAAAjNq5N4QgAA8Duvk3hCAADYqrKTeEIAAMAZtpN4QgAAqIi5k3hCAACQ97yTeEIAAHhmwJN4QgAAYNXDk3hCAABIRMeTeEIAADCzypN4QgAAGCLOk3hCAAAAkdGTeEIAAOj/1JN4QgAA0G7Yk3hCAAC43duTeEIAAKBM35N4QgAAiLvik3hCAABwKuaTeEIAAFiZ6ZN4QgAAQAjtk3hCAAAod/CTeEIAABDm85N4QgAA+FT3k3hCAADgw/qTeEIAAMgy/pN4QgAAsKEBlHhCAACYEAWUeEIAAIB/CJR4QgAAaO4LlHhCAABQXQ+UeEIAADjMEpR4QgAAIDsWlHhCAAAIqhmUeEIAAPAYHZR4QgAA2IcglHhCAADA9iOUeEIAAKhlJ5R4QgAAkNQqlHhCAAB4Qy6UeEIAAGCyMZR4QgAASCE1lHhCAAAwkDiUeEIAABj/O5R4QgAAAG4/lHhCAADo3EKUeEIAANBLRpR4QgAAuLpJlHhCAACgKU2UeEIAAIiYUJR4QgAAcAdUlHhCAABYdleUeEIAAEDlWpR4QgAAKFRelHhCAAAQw2GUeEIAAPgxZZR4QgAA4KBolHhCAADID2yUeEIAALB+b5R4QgAAmO1ylHhCAACAXHaUeEIAAGjLeZR4QgAAUDp9lHhCAAA4qYCUeEIAACAYhJR4QgAACIeHlHhCAADw9YqUeEIAANhkjpR4QgAAwNORlHhCAACoQpWUeEIAAJCxmJR4QgAAeCCclHhCAABgj5+UeEIAAEj+opR4QgAAMG2mlHhCAAAY3KmUeEIAAABLrZR4QgAA6LmwlHhCAADQKLSUeEIAALiXt5R4QgAAoAa7lHhCAACIdb6UeEIAAHDkwZR4QgAAWFPFlHhCAABAwsiUeEIAACgxzJR4QgAAEKDPlHhCAAD4DtOUeEIAAOB91pR4QgAAyOzZlHhCAACwW92UeEIAAJjK4JR4QgAAgDnklHhCAABoqOeUeEIAAFAX65R4QgAAOIbulHhCAAAg9fGUeEIAAAhk9ZR4QgAA8NL4lHhCAADYQfyUeEIAAMCw/5R4QgAAqB8DlXhCAACQjgaVeEIAAHj9CZV4QgAAYGwNlXhCAABI2xCVeEIAADBKFJV4QgAAGLkXlXhCAAAAKBuVeEIAAOiWHpV4QgAA0AUilXhCAAC4dCWVeEIAAKDjKJV4QgAAiFIslXhCAABwwS+VeEIAAFgwM5V4QgAAQJ82lXhCAAAoDjqVeEIAABB9PZV4QgAA+OtAlXhCAADgWkSVeEIAAMjJR5V4QgAAsDhLlXhCAACYp06VeEIAAIAWUpV4QgAAaIVVlXhCAABQ9FiVeEIAADhjXJV4QgAAINJflXhCAAAIQWOVeEIAAPCvZpV4QgAA2B5qlXhCAADAjW2VeEIAAKj8cJV4QgAAkGt0lXhCAAB42neVeEIAAGBJe5V4QgAASLh+lXhCAAAwJ4KVeEIAABiWhZV4QgAAAAWJlXhCAADoc4yVeEIAANDij5V4QgAAuFGTlXhCAACgwJaVeEIAAIgvmpV4QgAAcJ6dlXhCAABYDaGVeEIAAEB8pJV4QgAAKOunlXhCAAAQWquVeEIAAPjIrpV4QgAA4DeylXhCAADIprWVeEIAALAVuZV4QgAAmIS8lXhCAACA87+VeEIAAGhiw5V4QgAAUNHGlXhCAAA4QMqVeEIAACCvzZV4QgAACB7RlXhCAADwjNSVeEIAANj715V4QgAAwGrblXhCAACo2d6VeEIAAJBI4pV4QgAAeLfllXhCAABgJumVeEIAAEiV7JV4QgAAMATwlXhCAAAYc/OVeEIAAADi9pV4QgAA6FD6lXhCAADQv/2VeEIAALguAZZ4QgAAoJ0ElnhCAACIDAiWeEIAAHB7C5Z4QgAAWOoOlnhCAABAWRKWeEIAACjIFZZ4QgAAEDcZlnhCAAD4pRyWeEIAAOAUIJZ4QgAAyIMjlnhCAACw8iaWeEIAAJhhKpZ4QgAAgNAtlnhCAABoPzGWeEIAAFCuNJZ4QgAAOB04lnhCAAAgjDuWeEIAAAj7PpZ4QgAA8GlClnhCAADY2EWWeEIAAMBHSZZ4QgAAqLZMlnhCAACQJVCWeEIAAHiUU5Z4QgAAYANXlnhCAABIclqWeEIAADDhXZZ4QgAAGFBhlnhCAAAAv2SWeEIAAOgtaJZ4QgAA0JxrlnhCAAC4C2+WeEIAAKB6cpZ4QgAAiOl1lnhCAABwWHmWeEIAAFjHfJZ4QgAAQDaAlnhCAAAopYOWeEIAABAUh5Z4QgAA+IKKlnhCAADg8Y2WeEIAAMhgkZZ4QgAAsM+UlnhCAACYPpiWeEIAAICtm5Z4QgAAaByflnhCAABQi6KWeEIAADj6pZZ4QgAAIGmplnhCAAAI2KyWeEIAAPBGsJZ4QgAA2LWzlnhCAADAJLeWeEIAAKiTupZ4QgAAkAK+lnhCAAB4ccGWeEIAAGDgxJZ4QgAASE/IlnhCAAAwvsuWeEIAABgtz5Z4QgAAAJzSlnhCAADoCtaWeEIAANB52ZZ4QgAAuOjclnhCAACgV+CWeEIAAIjG45Z4QgAAcDXnlnhCAABYpOqWeEIAAEAT7pZ4QgAAKILxlnhCAAAQ8fSWeEIAAPhf+JZ4QgAA4M77lnhCAADIPf+WeEIAALCsApd4QgAAmBsGl3hCAACAigmXeEIAAGj5DJd4QgAAUGgQl3hCAAA41xOXeEIAACBGF5d4QgAACLUal3hCAADwIx6XeEIAANiSIZd4QgAAwAEll3hCAACocCiXeEIAAJDfK5d4QgAAeE4vl3hCAABgvTKXeEIAAEgsNpd4QgAAMJs5l3hCAAAYCj2XeEIAAAB5QJd4QgAA6OdDl3hCAADQVkeXeEIAALjFSpd4QgAAoDROl3hCAACIo1GXeEIAAHASVZd4QgAAWIFYl3hCAABA8FuXeEIAAChfX5d4QgAAEM5il3hCAAD4PGaXeEIAAOCraZd4QgAAyBptl3hCAACwiXCXeEIAAJj4c5d4QgAAgGd3l3hCAABo1nqXeEIAAFBFfpd4QgAAOLSBl3hCAAAgI4WXeEIAAAiSiJd4QgAA8ACMl3hCAADYb4+XeEIAAMDekpd4QgAAqE2Wl3hCAACQvJmXeEIAAHgrnZd4QgAAYJqgl3hCAABICaSXeEIAADB4p5d4QgAAGOeql3hCAAAAVq6XeEIAAOjEsZd4QgAA0DO1l3hCAAC4oriXeEIAAKARvJd4QgAAiIC/l3hCAABw78KXeEIAAFhexpd4QgAAQM3Jl3hCAAAoPM2XeEIAABCr0Jd4QgAA+BnUl3hCAADgiNeXeEIAAMj32pd4QgAAsGbel3hCAACY1eGXeEIAAIBE5Zd4QgAAaLPol3hCAABQIuyXeEIAADiR75d4QgAAIADzl3hCAAAIb/aXeEIAAPDd+Zd4QgAA2Ez9l3hCAADAuwCYeEIAAKgqBJh4QgAAkJkHmHhCAAB4CAuYeEIAAGB3Dph4QgAASOYRmHhCAAAwVRWYeEIAABjEGJh4QgAAADMcmHhCAADooR+YeEIAANAQI5h4QgAAuH8mmHhCAACg7imYeEIAAIhdLZh4QgAAcMwwmHhCAABYOzSYeEIAAECqN5h4QgAAKBk7mHhCAAAQiD6YeEIAAPj2QZh4QgAA4GVFmHhCAADI1EiYeEIAALBDTJh4QgAAmLJPmHhCAACAIVOYeEIAAGiQVph4QgAAUP9ZmHhCAAA4bl2YeEIAACDdYJh4QgAACExkmHhCAADwumeYeEIAANgpa5h4QgAAwJhumHhCAACoB3KYeEIAAJB2dZh4QgAAeOV4mHhCAABgVHyYeEIAAEjDf5h4QgAAMDKDmHhCAAAYoYaYeEIAAAAQiph4QgAA6H6NmHhCAADQ7ZCYeEIAALhclJh4QgAAoMuXmHhCAACIOpuYeEIAAHCpnph4QgAAWBiimHhCAABAh6WYeEIAACj2qJh4QgAAEGWsmHhCAAD406+YeEIAAOBCs5h4QgAAyLG2mHhCAACwILqYeEIAAJiPvZh4QgAAgP7AmHhCAABobcSYeEIAAFDcx5h4QgAAOEvLmHhCAAAgus6YeEIAAAgp0ph4QgAA8JfVmHhCAADYBtmYeEIAAMB13Jh4QgAAqOTfmHhCAACQU+OYeEIAAHjC5ph4QgAAYDHqmHhCAABIoO2YeEIAADAP8Zh4QgAAGH70mHhCAAAA7feYeEIAAOhb+5h4QgAA0Mr+mHhCAAC4OQKZeEIAAKCoBZl4QgAAiBcJmXhCAABwhgyZeEIAAFj1D5l4QgAAQGQTmXhCAAAo0xaZeEIAABBCGpl4QgAA+LAdmXhCAADgHyGZeEIAAMiOJJl4QgAAsP0nmXhCAACYbCuZeEIAAIDbLpl4QgAAaEoymXhCAABQuTWZeEIAADgoOZl4QgAAIJc8mXhCAAAIBkCZeEIAAPB0Q5l4QgAA2ONGmXhCAADAUkqZeEIAAKjBTZl4QgAAkDBRmXhCAAB4n1SZeEIAAGAOWJl4QgAASH1bmXhCAAAw7F6ZeEIAABhbYpl4QgAAAMplmXhCAADoOGmZeEIAANCnbJl4QgAAuBZwmXhCAACghXOZeEIAAIj0dpl4QgAAcGN6mXhCAABY0n2ZeEIAAEBBgZl4QgAAKLCEmXhCAAAQH4iZeEIAAPiNi5l4QgAA4PyOmXhCAADIa5KZeEIAALDalZl4QgAAmEmZmXhCAACAuJyZeEIAAGgnoJl4QgAAUJajmXhCAAA4BaeZeEIAACB0qpl4QgAACOOtmXhCAADwUbGZeEIAANjAtJl4QgAAwC+4mXhCAAConruZeEIAAJANv5l4QgAAeHzCmXhCAABg68WZeEIAAEhayZl4QgAAMMnMmXhCAAAYONCZeEIAAACn05l4QgAA6BXXmXhCAADQhNqZeEIAALjz3Zl4QgAAoGLhmXhCAACI0eSZeEIAAHBA6Jl4QgAAWK/rmXhCAABAHu+ZeEIAACiN8pl4QgAAEPz1mXhCAAD4avmZeEIAAODZ/Jl4QgAAyEgAmnhCAACwtwOaeEIAAJgmB5p4QgAAgJUKmnhCAABoBA6aeEIAAFBzEZp4QgAAOOIUmnhCAAAgURiaeEIAAAjAG5p4QgAA8C4fmnhCAADYnSKaeEIAAMAMJpp4QgAAqHspmnhCAACQ6iyaeEIAAHhZMJp4QgAAYMgzmnhCAABINzeaeEIAADCmOpp4QgAAGBU+mnhCAAAAhEGaeEIAAOjyRJp4QgAA0GFImnhCAAC40EuaeEIAAKA/T5p4QgAAiK5SmnhCAABwHVaaeEIAAFiMWZp4QgAAQPtcmnhCAAAoamCaeEIAABDZY5p4QgAA+EdnmnhCAADgtmqaeEIAAMglbpp4QgAAsJRxmnhCAACYA3WaeEIAAIByeJp4QgAAaOF7mnhCAABQUH+aeEIAADi/gpp4QgAAIC6GmnhCAAAInYmaeEIAAPALjZp4QgAA2HqQmnhCAADA6ZOaeEIAAKhYl5p4QgAAkMeamnhCAAB4Np6aeEIAAGCloZp4QgAASBSlmnhCAAAwg6iaeEIAABjyq5p4QgAAAGGvmnhCAADoz7KaeEIAANA+tpp4QgAAuK25mnhCAACgHL2aeEIAAIiLwJp4QgAAcPrDmnhCAABYaceaeEIAAEDYypp4QgAAKEfOmnhCAAAQttGaeEIAAPgk1Zp4QgAA4JPYmnhCAADIAtyaeEIAALBx35p4QgAAmODimnhCAACAT+aaeEIAAGi+6Zp4QgAAUC3tmnhCAAA4nPCaeEIAACAL9Jp4QgAACHr3mnhCAADw6PqaeEIAANhX/pp4QgAAwMYBm3hCAACoNQWbeEIAAJCkCJt4QgAAeBMMm3hCAABggg+beEIAAEjxEpt4QgAAMGAWm3hCAAAYzxmbeEIAAAA+HZt4QgAA6Kwgm3hCAADQGySbeEIAALiKJ5t4QgAAoPkqm3hCAACIaC6beEIAAHDXMZt4QgAAWEY1m3hCAABAtTibeEIAACgkPJt4QgAAEJM/m3hCAAD4AUObeEIAAOBwRpt4QgAAyN9Jm3hCAACwTk2beEIAAJi9UJt4QgAAgCxUm3hCAABom1ebeEIAAFAKW5t4QgAAOHlem3hCAAAg6GGbeEIAAAhXZZt4QgAA8MVom3hCAADYNGybeEIAAMCjb5t4QgAAqBJzm3hCAACQgXabeEIAAHjweZt4QgAAYF99m3hCAABIzoCbeEIAADA9hJt4QgAAGKyHm3hCAAAAG4ubeEIAAOiJjpt4QgAA0PiRm3hCAAC4Z5WbeEIAAKDWmJt4QgAAiEWcm3hCAABwtJ+beEIAAFgjo5t4QgAAQJKmm3hCAAAoAaqbeEIAABBwrZt4QgAA+N6wm3hCAADgTbSbeEIAAMi8t5t4QgAAsCu7m3hCAACYmr6beEIAAIAJwpt4QgAAaHjFm3hCAABQ58ibeEIAADhWzJt4QgAAIMXPm3hCAAAINNObeEIAAPCi1pt4QgAA2BHam3hCAADAgN2beEIAAKjv4Jt4QgAAkF7km3hCAAB4zeebeEIAAGA865t4QgAASKvum3hCAAAwGvKbeEIAABiJ9Zt4QgAAAPj4m3hCAADoZvybeEIAANDV/5t4QgAAuEQDnHhCAACgswaceEIAAIgiCpx4QgAAcJENnHhCAABYABGceEIAAEBvFJx4QgAAKN4XnHhCAAAQTRuceEIAAPi7Hpx4QgAA4CoinHhCAADImSWceEIAALAIKZx4QgAAmHcsnHhCAACA5i+ceEIAAGhVM5x4QgAAUMQ2nHhCAAA4MzqceEIAACCiPZx4QgAACBFBnHhCAADwf0SceEIAANjuR5x4QgAAwF1LnHhCAACozE6ceEIAAJA7Upx4QgAAeKpVnHhCAABgGVmceEIAAEiIXJx4QgAAMPdfnHhCAAAYZmOceEIAAADVZpx4QgAA6ENqnHhCAADQsm2ceEIAALghcZx4QgAAoJB0nHhCAACI/3eceEIAAHBue5x4QgAAWN1+nHhCAABATIKceEIAACi7hZx4QgAAECqJnHhCAAD4mIyceEIAAOAHkJx4QgAAyHaTnHhCAACw5ZaceEIAAJhUmpx4QgAAgMOdnHhCAABoMqGceEIAAFChpJx4QgAAOBConHhCAAAgf6uceEIAAAjurpx4QgAA8FyynHhCAADYy7WceEIAAMA6uZx4QgAAqKm8nHhCAACQGMCceEIAAHiHw5x4QgAAYPbGnHhCAABIZcqceEIAADDUzZx4QgAAGEPRnHhCAAAAstSceEIAAOgg2Jx4QgAA0I/bnHhCAAC4/t6ceEIAAKBt4px4QgAAiNzlnHhCAABwS+mceEIAAFi67Jx4QgAAQCnwnHhCAAAomPOceEIAABAH95x4QgAA+HX6nHhCAADg5P2ceEIAAMhTAZ14QgAAsMIEnXhCAACYMQideEIAAICgC514QgAAaA8PnXhCAABQfhKdeEIAADjtFZ14QgAAIFwZnXhCAAAIyxydeEIAAPA5IJ14QgAA2KgjnXhCAADAFyedeEIAAKiGKp14QgAAkPUtnXhCAAB4ZDGdeEIAAGDTNJ14QgAASEI4nXhCAAAwsTudeEIAABggP514QgAAAI9CnXhCAADo/UWdeEIAANBsSZ14QgAAuNtMnXhCAACgSlCdeEIAAIi5U514QgAAcChXnXhCAABYl1qdeEIAAEAGXp14QgAAKHVhnXhCAAAQ5GSdeEIAAPhSaJ14QgAA4MFrnXhCAADIMG+deEIAALCfcp14QgAAmA52nXhCAACAfXmdeEIAAGjsfJ14QgAAUFuAnXhCAAA4yoOdeEIAACA5h514QgAACKiKnXhCAADwFo6deEIAANiFkZ14QgAAwPSUnXhCAACoY5ideEIAAJDSm514QgAAeEGfnXhCAABgsKKdeEIAAEgfpp14QgAAMI6pnXhCAAAY/aydeEIAAABssJ14QgAA6NqznXhCAADQSbedeEIAALi4up14QgAAoCe+nXhCAACIlsGdeEIAAHAFxZ14QgAAWHTInXhCAABA48udeEIAAChSz514QgAAEMHSnXhCAAD4L9adeEIAAOCe2Z14QgAAyA3dnXhCAACwfOCdeEIAAJjr4514QgAAgFrnnXhCAABoyeqdeEIAAFA47p14QgAAOKfxnXhCAAAgFvWdeEIAAAiF+J14QgAA8PP7nXhCAADYYv+deEIAAMDRAp54QgAAqEAGnnhCAACQrwmeeEIAAHgeDZ54QgAAYI0QnnhCAABI/BOeeEIAADBrF554QgAAGNoannhCAAAASR6eeEIAAOi3IZ54QgAA0CYlnnhCAAC4lSieeEIAAKAELJ54QgAAiHMvnnhCAABw4jKeeEIAAFhRNp54QgAAQMA5nnhCAAAoLz2eeEIAABCeQJ54QgAA+AxEnnhCAADge0eeeEIAAMjqSp54QgAAsFlOnnhCAACYyFGeeEIAAIA3VZ54QgAAaKZYnnhCAABQFVyeeEIAADiEX554QgAAIPNinnhCAAAIYmaeeEIAAPDQaZ54QgAA2D9tnnhCAADArnCeeEIAAKgddJ54QgAAkIx3nnhCAAB4+3qeeEIAAGBqfp54QgAASNmBnnhCAAAwSIWeeEIAABi3iJ54QgAAACaMnnhCAADolI+eeEIAANADk554QgAAuHKWnnhCAACg4ZmeeEIAAIhQnZ54QgAAcL+gnnhCAABYLqSeeEIAAECdp554QgAAKAyrnnhCAAAQe66eeEIAAPjpsZ54QgAA4Fi1nnhCAADIx7ieeEIAALA2vJ54QgAAmKW/nnhCAACAFMOeeEIAAGiDxp54QgAAUPLJnnhCAAA4Yc2eeEIAACDQ0J54QgAACD/UnnhCAADwrdeeeEIAANgc2554QgAAwIvennhCAACo+uGeeEIAAJBp5Z54QgAAeNjonnhCAABgR+yeeEIAAEi27554QgAAMCXznnhCAAAYlPaeeEIAAAAD+p54QgAA6HH9nnhCAADQ4ACfeEIAALhPBJ94QgAAoL4Hn3hCAACILQufeEIAAHCcDp94QgAAWAsSn3hCAABAehWfeEIAACjpGJ94QgAAEFgcn3hCAAD4xh+feEIAAOA1I594QgAAyKQmn3hCAACwEyqfeEIAAJiCLZ94QgAAgPEwn3hCAABoYDSfeEIAAFDPN594QgAAOD47n3hCAAAgrT6feEIAAAgcQp94QgAA8IpFn3hCAADY+UifeEIAAMBoTJ94QgAAqNdPn3hCAACQRlOfeEIAAHi1Vp94QgAAYCRan3hCAABIk12feEIAADACYZ94QgAAGHFkn3hCAAAA4GefeEIAAOhOa594QgAA0L1un3hCAAC4LHKfeEIAAKCbdZ94QgAAiAp5n3hCAABweXyfeEIAAFjof594QgAAQFeDn3hCAAAoxoafeEIAABA1ip94QgAA+KONn3hCAADgEpGfeEIAAMiBlJ94QgAAsPCXn3hCAACYX5ufeEIAAIDOnp94QgAAaD2in3hCAABQrKWfeEIAADgbqZ94QgAAIIqsn3hCAAAI+a+feEIAAPBns594QgAA2Na2n3hCAADARbqfeEIAAKi0vZ94QgAAkCPBn3hCAAB4ksSfeEIAAGAByJ94QgAASHDLn3hCAAAw386feEIAABhO0p94QgAAAL3Vn3hCAADoK9mfeEIAANCa3J94QgAAuAngn3hCAACgeOOfeEIAAIjn5p94QgAAcFbqn3hCAABYxe2feEIAAEA08Z94QgAAKKP0n3hCAAAQEvifeEIAAPiA+594QgAA4O/+n3hCAADIXgKgeEIAALDNBaB4QgAAmDwJoHhCAACAqwygeEIAAGgaEKB4QgAAUIkToHhCAAA4+BageEIAACBnGqB4QgAACNYdoHhCAADwRCGgeEIAANizJKB4QgAAwCIooHhCAACokSugeEIAAJAAL6B4QgAAeG8yoHhCAABg3jWgeEIAAEhNOaB4QgAAMLw8oHhCAAAYK0CgeEIAAACaQ6B4QgAA6AhHoHhCAADQd0qgeEIAALjmTaB4QgAAoFVRoHhCAACIxFSgeEIAAHAzWKB4QgAAWKJboHhCAABAEV+geEIAACiAYqB4QgAAEO9loHhCAAD4XWmgeEIAAODMbKB4QgAAyDtwoHhCAACwqnOgeEIAAJgZd6B4QgAAgIh6oHhCAABo932geEIAAFBmgaB4QgAAONWEoHhCAAAgRIigeEIAAAizi6B4QgAA8CGPoHhCAADYkJKgeEIAAMD/laB4QgAAqG6ZoHhCAACQ3ZygeEIAAHhMoKB4QgAAYLujoHhCAABIKqegeEIAADCZqqB4QgAAGAiuoHhCAAAAd7GgeEIAAOjltKB4QgAA0FS4oHhCAAC4w7ugeEIAAKAyv6B4QgAAiKHCoHhCAABwEMageEIAAFh/yaB4QgAAQO7MoHhCAAAoXdCgeEIAABDM06B4QgAA+DrXoHhCAADgqdqgeEIAAMgY3qB4QgAAsIfhoHhCAACY9uSgeEIAAIBl6KB4QgAAaNTroHhCAABQQ++geEIAADiy8qB4QgAAICH2oHhCAAAIkPmgeEIAAPD+/KB4QgAA2G0AoXhCAADA3AOheEIAAKhLB6F4QgAAkLoKoXhCAAB4KQ6heEIAAGCYEaF4QgAASAcVoXhCAAAwdhiheEIAABjlG6F4QgAAAFQfoXhCAADowiKheEIAANAxJqF4QgAAuKApoXhCAACgDy2heEIAAIh+MKF4QgAAcO0zoXhCAABYXDeheEIAAEDLOqF4QgAAKDo+oXhCAAAQqUGheEIAAPgXRaF4QgAA4IZIoXhCAADI9UuheEIAALBkT6F4QgAAmNNSoXhCAACAQlaheEIAAGixWaF4QgAAUCBdoXhCAAA4j2CheEIAACD+Y6F4QgAACG1noXhCAADw22qheEIAANhKbqF4QgAAwLlxoXhCAACoKHWheEIAAJCXeKF4QgAAeAZ8oXhCAABgdX+heEIAAEjkgqF4QgAAMFOGoXhCAAAYwomheEIAAAAxjaF4QgAA6J+QoXhCAADQDpSheEIAALh9l6F4QgAAoOyaoXhCAACIW56heEIAAHDKoaF4QgAAWDmloXhCAABAqKiheEIAACgXrKF4QgAAEIavoXhCAAD49LKheEIAAOBjtqF4QgAAyNK5oXhCAACwQb2heEIAAJiwwKF4QgAAgB/EoXhCAABojseheEIAAFD9yqF4QgAAOGzOoXhCAAAg29GheEIAAAhK1aF4QgAA8LjYoXhCAADYJ9yheEIAAMCW36F4QgAAqAXjoXhCAACQdOaheEIAAHjj6aF4QgAAYFLtoXhCAABIwfCheEIAADAw9KF4QgAAGJ/3oXhCAAAADvuheEIAAOh8/qF4QgAA0OsBonhCAAC4WgWieEIAAKDJCKJ4QgAAiDgMonhCAABwpw+ieEIAAFgWE6J4QgAAQIUWonhCAAAo9BmieEIAABBjHaJ4QgAA+NEgonhCAADgQCSieEIAAMivJ6J4QgAAsB4ronhCAACYjS6ieEIAAID8MaJ4QgAAaGs1onhCAABQ2jiieEIAADhJPKJ4QgAAILg/onhCAAAIJ0OieEIAAPCVRqJ4QgAA2ARKonhCAADAc02ieEIAAKjiUKJ4QgAAkFFUonhCAAB4wFeieEIAAGAvW6J4QgAASJ5eonhCAAAwDWKieEIAABh8ZaJ4QgAAAOtoonhCAADoWWyieEIAANDIb6J4QgAAuDdzonhCAACgpnaieEIAAIgVeqJ4QgAAcIR9onhCAABY84CieEIAAEBihKJ4QgAAKNGHonhCAAAQQIuieEIAAPiujqJ4QgAA4B2SonhCAADIjJWieEIAALD7mKJ4QgAAmGqconhCAACA2Z+ieEIAAGhIo6J4QgAAULemonhCAAA4JqqieEIAACCVraJ4QgAACASxonhCAADwcrSieEIAANjht6J4QgAAwFC7onhCAACov76ieEIAAJAuwqJ4QgAAeJ3FonhCAABgDMmieEIAAEh7zKJ4QgAAMOrPonhCAAAYWdOieEIAAADI1qJ4QgAA6DbaonhCAADQpd2ieEIAALgU4aJ4QgAAoIPkonhCAACI8ueieEIAAHBh66J4QgAAWNDuonhCAABAP/KieEIAACiu9aJ4QgAAEB35onhCAAD4i/yieEIAAOD6/6J4QgAAyGkDo3hCAACw2AajeEIAAJhHCqN4QgAAgLYNo3hCAABoJRGjeEIAAFCUFKN4QgAAOAMYo3hCAAAgchujeEIAAAjhHqN4QgAA8E8io3hCAADYviWjeEIAAMAtKaN4QgAAqJwso3hCAACQCzCjeEIAAHh6M6N4QgAAYOk2o3hCAABIWDqjeEIAADDHPaN4QgAAGDZBo3hCAAAApUSjeEIAAOgTSKN4QgAA0IJLo3hCAAC48U6jeEIAAKBgUqN4QgAAiM9Vo3hCAABwPlmjeEIAAFitXKN4QgAAQBxgo3hCAAAoi2OjeEIAABD6ZqN4QgAA+Ghqo3hCAADg122jeEIAAMhGcaN4QgAAsLV0o3hCAACYJHijeEIAAICTe6N4QgAAaAJ/o3hCAABQcYKjeEIAADjghaN4QgAAIE+Jo3hCAAAIvoyjeEIAAPAskKN4QgAA2JuTo3hCAADACpejeEIAAKh5mqN4QgAAkOido3hCAAB4V6GjeEIAAGDGpKN4QgAASDWoo3hCAAAwpKujeEIAABgTr6N4QgAAAIKyo3hCAADo8LWjeEIAANBfuaN4QgAAuM68o3hCAACgPcCjeEIAAIisw6N4QgAAcBvHo3hCAABYisqjeEIAAED5zaN4QgAAKGjRo3hCAAAQ19SjeEIAAPhF2KN4QgAA4LTbo3hCAADII9+jeEIAALCS4qN4QgAAmAHmo3hCAACAcOmjeEIAAGjf7KN4QgAAUE7wo3hCAAA4vfOjeEIAACAs96N4QgAACJv6o3hCAADwCf6jeEIAANh4AaR4QgAAwOcEpHhCAACoVgikeEIAAJDFC6R4QgAAeDQPpHhCAABgoxKkeEIAAEgSFqR4QgAAMIEZpHhCAAAY8BykeEIAAABfIKR4QgAA6M0jpHhCAADQPCekeEIAALirKqR4QgAAoBoupHhCAACIiTGkeEIAAHD4NKR4QgAAWGc4pHhCAABA1jukeEIAAChFP6R4QgAAELRCpHhCAAD4IkakeEIAAOCRSaR4QgAAyABNpHhCAACwb1CkeEIAAJjeU6R4QgAAgE1XpHhCAABovFqkeEIAAFArXqR4QgAAOJphpHhCAAAgCWWkeEIAAAh4aKR4QgAA8OZrpHhCAADYVW+keEIAAMDEcqR4QgAAqDN2pHhCAACQonmkeEIAAHgRfaR4QgAAYICApHhCAABI74OkeEIAADBeh6R4QgAAGM2KpHhCAAAAPI6keEIAAOiqkaR4QgAA0BmVpHhCAAC4iJikeEIAAKD3m6R4QgAAiGafpHhCAABw1aKkeEIAAFhEpqR4QgAAQLOppHhCAAAoIq2keEIAABCRsKR4QgAA+P+zpHhCAADgbrekeEIAAMjduqR4QgAAsEy+pHhCAACYu8GkeEIAAIAqxaR4QgAAaJnIpHhCAABQCMykeEIAADh3z6R4QgAAIObSpHhCAAAIVdakeEIAAPDD2aR4QgAA2DLdpHhCAADAoeCkeEIAAKgQ5KR4QgAAkH/npHhCAAB47uqkeEIAAGBd7qR4QgAASMzxpHhCAAAwO/WkeEIAABiq+KR4QgAAABn8pHhCAADoh/+keEIAAND2AqV4QgAAuGUGpXhCAACg1AmleEIAAIhDDaV4QgAAcLIQpXhCAABYIRSleEIAAECQF6V4QgAAKP8apXhCAAAQbh6leEIAAPjcIaV4QgAA4EslpXhCAADIuiileEIAALApLKV4QgAAmJgvpXhCAACABzOleEIAAGh2NqV4QgAAUOU5pXhCAAA4VD2leEIAACDDQKV4QgAACDJEpXhCAADwoEeleEIAANgPS6V4QgAAwH5OpXhCAACo7VGleEIAAJBcVaV4QgAAeMtYpXhCAABgOlyleEIAAEipX6V4QgAAMBhjpXhCAAAYh2aleEIAAAD2aaV4QgAA6GRtpXhCAADQ03CleEIAALhCdKV4QgAAoLF3pXhCAACIIHuleEIAAHCPfqV4QgAAWP6BpXhCAABAbYWleEIAACjciKV4QgAAEEuMpXhCAAD4uY+leEIAAOAok6V4QgAAyJeWpXhCAACwBpqleEIAAJh1naV4QgAAgOSgpXhCAABoU6SleEIAAFDCp6V4QgAAODGrpXhCAAAgoK6leEIAAAgPsqV4QgAA8H21pXhCAADY7LileEIAAMBbvKV4QgAAqMq/pXhCAACQOcOleEIAAHioxqV4QgAAYBfKpXhCAABIhs2leEIAADD10KV4QgAAGGTUpXhCAAAA09eleEIAAOhB26V4QgAA0LDepXhCAAC4H+KleEIAAKCO5aV4QgAAiP3opXhCAABwbOyleEIAAFjb76V4QgAAQErzpXhCAAAoufaleEIAABAo+qV4QgAA+Jb9pXhCAADgBQGmeEIAAMh0BKZ4QgAAsOMHpnhCAACYUgumeEIAAIDBDqZ4QgAAaDASpnhCAABQnxWmeEIAADgOGaZ4QgAAIH0cpnhCAAAI7B+meEIAAPBaI6Z4QgAA2MkmpnhCAADAOCqmeEIAAKinLaZ4QgAAkBYxpnhCAAB4hTSmeEIAAGD0N6Z4QgAASGM7pnhCAAAw0j6meEIAABhBQqZ4QgAAALBFpnhCAADoHkmmeEIAANCNTKZ4QgAAuPxPpnhCAACga1OmeEIAAIjaVqZ4QgAAcElapnhCAABYuF2meEIAAEAnYaZ4QgAAKJZkpnhCAAAQBWimeEIAAPhza6Z4QgAA4OJupnhCAADIUXKmeEIAALDAdaZ4QgAAmC95pnhCAACAnnymeEIAAGgNgKZ4QgAAUHyDpnhCAAA464ameEIAACBaiqZ4QgAACMmNpnhCAADwN5GmeEIAANimlKZ4QgAAwBWYpnhCAACohJumeEIAAJDznqZ4QgAAeGKipnhCAABg0aWmeEIAAEhAqaZ4QgAAMK+spnhCAAAYHrCmeEIAAACNs6Z4QgAA6Pu2pnhCAADQarqmeEIAALjZvaZ4QgAAoEjBpnhCAACIt8SmeEIAAHAmyKZ4QgAAWJXLpnhCAABABM+meEIAAChz0qZ4QgAAEOLVpnhCAAD4UNmmeEIAAOC/3KZ4QgAAyC7gpnhCAACwneOmeEIAAJgM56Z4QgAAgHvqpnhCAABo6u2meEIAAFBZ8aZ4QgAAOMj0pnhCAAAgN/imeEIAAAim+6Z4QgAA8BT/pnhCAADYgwKneEIAAMDyBad4QgAAqGEJp3hCAACQ0AyneEIAAHg/EKd4QgAAYK4Tp3hCAABIHReneEIAADCMGqd4QgAAGPsdp3hCAAAAaiGneEIAAOjYJKd4QgAA0Ecop3hCAAC4tiuneEIAAKAlL6d4QgAAiJQyp3hCAABwAzaneEIAAFhyOad4QgAAQOE8p3hCAAAoUECneEIAABC/Q6d4QgAA+C1Hp3hCAADgnEqneEIAAMgLTqd4QgAAsHpRp3hCAACY6VSneEIAAIBYWKd4QgAAaMdbp3hCAABQNl+neEIAADilYqd4QgAAIBRmp3hCAAAIg2mneEIAAPDxbKd4QgAA2GBwp3hCAADAz3OneEIAAKg+d6d4QgAAkK16p3hCAAB4HH6neEIAAGCLgad4QgAASPqEp3hCAAAwaYineEIAABjYi6d4QgAAAEePp3hCAADotZKneEIAANAklqd4QgAAuJOZp3hCAACgAp2neEIAAIhxoKd4QgAAcOCjp3hCAABYT6eneEIAAEC+qqd4QgAAKC2up3hCAAAQnLGneEIAAPgKtad4QgAA4Hm4p3hCAADI6LuneEIAALBXv6d4QgAAmMbCp3hCAACANcaneEIAAGikyad4QgAAUBPNp3hCAAA4gtCneEIAACDx06d4QgAACGDXp3hCAADwztqneEIAANg93qd4QgAAwKzhp3hCAACoG+WneEIAAJCK6Kd4QgAAePnrp3hCAABgaO+neEIAAEjX8qd4QgAAMEb2p3hCAAAYtfmneEIAAAAk/ad4QgAA6JIAqHhCAADQAQSoeEIAALhwB6h4QgAAoN8KqHhCAACITg6oeEIAAHC9Eah4QgAAWCwVqHhCAABAmxioeEIAACgKHKh4QgAAEHkfqHhCAAD45yKoeEIAAOBWJqh4QgAAyMUpqHhCAACwNC2oeEIAAJijMKh4QgAAgBI0qHhCAABogTeoeEIAAFDwOqh4QgAAOF8+qHhCAAAgzkGoeEIAAAg9Rah4QgAA8KtIqHhCAADYGkyoeEIAAMCJT6h4QgAAqPhSqHhCAACQZ1aoeEIAAHjWWah4QgAAYEVdqHhCAABItGCoeEIAADAjZKh4QgAAGJJnqHhCAAAAAWuoeEIAAOhvbqh4QgAA0N5xqHhCAAC4TXWoeEIAAKC8eKh4QgAAiCt8qHhCAABwmn+oeEIAAFgJg6h4QgAAQHiGqHhCAAAo54moeEIAABBWjah4QgAA+MSQqHhCAADgM5SoeEIAAMiil6h4QgAAsBGbqHhCAACYgJ6oeEIAAIDvoah4QgAAaF6lqHhCAABQzaioeEIAADg8rKh4QgAAIKuvqHhCAAAIGrOoeEIAAPCItqh4QgAA2Pe5qHhCAADAZr2oeEIAAKjVwKh4QgAAkETEqHhCAAB4s8eoeEIAAGAiy6h4QgAASJHOqHhCAAAwANKoeEIAABhv1ah4QgAAAN7YqHhCAADoTNyoeEIAANC736h4QgAAuCrjqHhCAACgmeaoeEIAAIgI6qh4QgAAcHftqHhCAABY5vCoeEIAAEBV9Kh4QgAAKMT3qHhCAAAQM/uoeEIAAPih/qh4QgAA4BACqXhCAADIfwWpeEIAALDuCKl4QgAAmF0MqXhCAACAzA+peEIAAGg7E6l4QgAAUKoWqXhCAAA4GRqpeEIAACCIHal4QgAACPcgqXhCAADwZSSpeEIAANjUJ6l4QgAAwEMrqXhCAACosi6peEIAAJAhMql4QgAAeJA1qXhCAABg/zipeEIAAEhuPKl4QgAAMN0/qXhCAAAYTEOpeEIAAAC7Rql4QgAA6ClKqXhCAADQmE2peEIAALgHUal4QgAAoHZUqXhCAACI5VepeEIAAHBUW6l4QgAAWMNeqXhCAABAMmKpeEIAACihZal4QgAAEBBpqXhCAAD4fmypeEIAAODtb6l4QgAAyFxzqXhCAACwy3apeEIAAJg6eql4QgAAgKl9qXhCAABoGIGpeEIAAFCHhKl4QgAAOPaHqXhCAAAgZYupeEIAAAjUjql4QgAA8EKSqXhCAADYsZWpeEIAAMAgmal4QgAAqI+cqXhCAACQ/p+peEIAAHhto6l4QgAAYNymqXhCAABIS6qpeEIAADC6ral4QgAAGCmxqXhCAAAAmLSpeEIAAOgGuKl4QgAA0HW7qXhCAAC45L6peEIAAKBTwql4QgAAiMLFqXhCAABwMcmpeEIAAFigzKl4QgAAQA/QqXhCAAAoftOpeEIAABDt1ql4QgAA+FvaqXhCAADgyt2peEIAAMg54al4QgAAsKjkqXhCAACYF+ipeEIAAICG66l4QgAAaPXuqXhCAABQZPKpeEIAADjT9al4QgAAIEL5qXhCAAAIsfypeEIAAPAfAKp4QgAA2I4DqnhCAADA/QaqeEIAAKhsCqp4QgAAkNsNqnhCAAB4ShGqeEIAAGC5FKp4QgAASCgYqnhCAAAwlxuqeEIAABgGH6p4QgAAAHUiqnhCAADo4yWqeEIAANBSKap4QgAAuMEsqnhCAACgMDCqeEIAAIifM6p4QgAAcA43qnhCAABYfTqqeEIAAEDsPap4QgAAKFtBqnhCAAAQykSqeEIAAPg4SKp4QgAA4KdLqnhCAADIFk+qeEIAALCFUqp4QgAAmPRVqnhCAACAY1mqeEIAAGjSXKp4QgAAUEFgqnhCAAA4sGOqeEIAACAfZ6p4QgAACI5qqnhCAADw/G2qeEIAANhrcap4QgAAwNp0qnhCAACoSXiqeEIAAJC4e6p4QgAAeCd/qnhCAABgloKqeEIAAEgFhqp4QgAAMHSJqnhCAAAY44yqeEIAAABSkKp4QgAA6MCTqnhCAADQL5eqeEIAALiemqp4QgAAoA2eqnhCAACIfKGqeEIAAHDrpKp4QgAAWFqoqnhCAABAyauqeEIAACg4r6p4QgAAEKeyqnhCAAD4FbaqeEIAAOCEuap4QgAAyPO8qnhCAACwYsCqeEIAAJjRw6p4QgAAgEDHqnhCAABor8qqeEIAAFAezqp4QgAAOI3RqnhCAAAg/NSqeEIAAAhr2Kp4QgAA8NnbqnhCAADYSN+qeEIAAMC34qp4QgAAqCbmqnhCAACQlemqeEIAAHgE7ap4QgAAYHPwqnhCAABI4vOqeEIAADBR96p4QgAAGMD6qnhCAAAAL/6qeEIAAOidAat4QgAA0AwFq3hCAAC4ewireEIAAKDqC6t4QgAAiFkPq3hCAABwyBKreEIAAFg3Fqt4QgAAQKYZq3hCAAAoFR2reEIAABCEIKt4QgAA+PIjq3hCAADgYSereEIAAMjQKqt4QgAAsD8uq3hCAACYrjGreEIAAIAdNat4QgAAaIw4q3hCAABQ+zureEIAADhqP6t4QgAAINlCq3hCAAAISEareEIAAPC2Sat4QgAA2CVNq3hCAADAlFCreEIAAKgDVKt4QgAAkHJXq3hCAAB44VqreEIAAGBQXqt4QgAASL9hq3hCAAAwLmWreEIAABidaKt4QgAAAAxsq3hCAADoem+reEIAANDpcqt4QgAAuFh2q3hCAACgx3mreEIAAIg2fat4QgAAcKWAq3hCAABYFISreEIAAECDh6t4QgAAKPKKq3hCAAAQYY6reEIAAPjPkat4QgAA4D6Vq3hCAADIrZireEIAALAcnKt4QgAAmIufq3hCAACA+qKreEIAAGhppqt4QgAAUNipq3hCAAA4R62reEIAACC2sKt4QgAACCW0q3hCAADwk7ereEIAANgCu6t4QgAAwHG+q3hCAACo4MGreEIAAJBPxat4QgAAeL7Iq3hCAABgLcyreEIAAEicz6t4QgAAMAvTq3hCAAAYetareEIAAADp2at4QgAA6Ffdq3hCAADQxuCreEIAALg15Kt4QgAAoKTnq3hCAACIE+ureEIAAHCC7qt4QgAAWPHxq3hCAABAYPWreEIAACjP+Kt4QgAAED78q3hCAAD4rP+reEIAAOAbA6x4QgAAyIoGrHhCAACw+QmseEIAAJhoDax4QgAAgNcQrHhCAABoRhSseEIAAFC1F6x4QgAAOCQbrHhCAAAgkx6seEIAAAgCIqx4QgAA8HAlrHhCAADY3yiseEIAAMBOLKx4QgAAqL0vrHhCAACQLDOseEIAAHibNqx4QgAAYAo6rHhCAABIeT2seEIAADDoQKx4QgAAGFdErHhCAAAAxkeseEIAAOg0S6x4QgAA0KNOrHhCAAC4ElKseEIAAKCBVax4QgAAiPBYrHhCAABwX1yseEIAAFjOX6x4QgAAQD1jrHhCAAAorGaseEIAABAbaqx4QgAA+IltrHhCAADg+HCseEIAAMhndKx4QgAAsNZ3rHhCAACYRXuseEIAAIC0fqx4QgAAaCOCrHhCAABQkoWseEIAADgBiax4QgAAIHCMrHhCAAAI34+seEIAAPBNk6x4QgAA2LyWrHhCAADAK5qseEIAAKianax4QgAAkAmhrHhCAAB4eKSseEIAAGDnp6x4QgAASFarrHhCAAAwxa6seEIAABg0sqx4QgAAAKO1rHhCAADoEbmseEIAANCAvKx4QgAAuO+/rHhCAACgXsOseEIAAIjNxqx4QgAAcDzKrHhCAABYq82seEIAAEAa0ax4QgAAKInUrHhCAAAQ+NeseEIAAPhm26x4QgAA4NXerHhCAADIROKseEIAALCz5ax4QgAAmCLprHhCAACAkeyseEIAAGgA8Kx4QgAAUG/zrHhCAAA43vaseEIAACBN+qx4QgAACLz9rHhCAADwKgGteEIAANiZBK14QgAAwAgIrXhCAACodwuteEIAAJDmDq14QgAAeFUSrXhCAABgxBWteEIAAEgzGa14QgAAMKIcrXhCAAAYESCteEIAAACAI614QgAA6O4mrXhCAADQXSqteEIAALjMLa14QgAAoDsxrXhCAACIqjSteEIAAHAZOK14QgAAWIg7rXhCAABA9z6teEIAAChmQq14QgAAENVFrXhCAAD4Q0mteEIAAOCyTK14QgAAyCFQrXhCAACwkFOteEIAAJj/Vq14QgAAgG5arXhCAABo3V2teEIAAFBMYa14QgAAOLtkrXhCAAAgKmiteEIAAAiZa614QgAA8AdvrXhCAADYdnKteEIAAMDlda14QgAAqFR5rXhCAACQw3yteEIAAHgygK14QgAAYKGDrXhCAABIEIeteEIAADB/iq14QgAAGO6NrXhC\",\"dtype\":\"float64\",\"order\":\"little\",\"shape\":[2856]},\"order_number\":[66,35,22,6,11,21,94,252,447,653,751,738,720,718,725,830,746,585,475,387,260,197,164,108,74,34,29,24,27,32,85,326,591,892,960,974,934,947,980,1011,879,771,593,463,380,303,222,158,58,40,20,13,22,34,73,287,620,880,1012,954,881,894,923,875,816,705,553,390,310,227,166,117,68,41,21,24,16,31,71,245,550,729,840,845,809,792,859,854,804,651,505,395,275,229,154,118,58,32,22,17,14,27,89,203,502,678,774,771,749,733,800,798,743,616,478,402,312,213,174,108,76,38,25,16,12,27,71,222,505,697,756,772,738,770,733,764,761,633,484,416,296,177,176,126,52,41,23,17,13,22,71,240,476,671,797,773,776,806,834,764,746,623,516,390,307,209,157,110,75,42,26,6,17,29,81,229,461,668,801,777,763,850,793,810,815,639,540,388,309,249,201,107,64,33,33,12,15,28,73,261,516,795,866,825,821,829,859,782,784,657,471,389,343,217,218,117,71,32,20,15,21,30,103,293,600,850,1043,985,923,953,1006,904,870,719,562,436,354,248,200,138,77,46,25,18,14,27,90,301,530,922,948,927,900,880,882,875,901,711,533,413,320,214,162,124,53,41,26,15,17,28,97,246,502,759,798,795,818,781,852,874,838,695,524,413,311,226,171,122,82,42,23,13,19,26,92,265,537,689,871,837,823,810,855,890,814,676,560,444,305,201,178,127,50,42,22,16,19,27,80,238,498,755,864,838,827,779,786,837,837,684,495,422,311,272,189,119,80,30,29,14,17,34,88,286,517,786,896,828,835,887,886,865,891,719,541,419,286,250,200,126,78,39,25,16,16,30,79,288,554,821,887,893,869,913,883,907,875,740,551,416,339,263,181,131,72,61,21,23,28,35,127,329,673,1085,1162,1094,1083,1032,1010,1058,1044,763,587,471,381,258,220,134,84,42,35,21,14,42,107,327,592,924,1081,981,898,938,915,921,899,721,572,439,305,232,182,122,74,39,22,13,22,37,85,248,487,782,805,864,850,856,820,848,834,700,584,441,311,230,179,117,92,30,25,18,13,36,88,244,554,749,811,887,861,867,831,920,790,700,571,466,333,248,182,115,80,49,15,11,22,29,106,246,563,778,885,970,841,872,860,925,837,705,531,426,319,247,178,132,66,40,29,11,23,28,95,266,525,804,894,902,900,880,855,901,890,674,520,404,369,251,172,133,70,46,23,10,17,25,93,274,574,896,1004,943,919,836,937,963,896,738,602,482,357,281,214,141,82,40,26,27,18,37,124,333,705,1097,1274,1203,1081,1055,1107,1057,977,810,645,486,368,299,230,143,88,48,24,21,21,45,95,302,639,972,1032,987,952,984,932,993,908,763,607,453,328,235,183,131,76,53,19,21,23,34,89,266,523,768,888,934,903,863,853,868,858,703,532,422,324,253,201,127,73,39,23,19,10,33,96,285,528,773,884,904,875,847,935,979,890,695,610,408,331,245,193,119,71,42,20,13,16,30,101,296,563,781,894,860,828,947,881,911,862,752,602,465,341,266,191,111,65,35,22,18,17,29,115,297,541,792,937,949,840,885,929,915,874,737,590,422,371,243,224,133,74,42,26,14,14,28,109,294,582,867,976,963,943,1050,1042,995,991,779,629,446,400,260,223,160,95,45,23,25,21,38,99,372,728,1168,1276,1179,1115,1199,1143,1181,1069,847,614,478,403,314,237,173,135,74,41,40,21,61,149,506,996,1446,1628,1715,1520,1591,1608,1654,1562,1283,1001,803,596,469,345,252,82,36,27,23,21,35,104,293,639,851,902,926,897,931,906,952,900,773,614,459,354,262,223,126,75,54,24,24,17,39,88,318,589,855,950,1024,952,984,968,1004,962,807,645,501,343,261,196,121,85,36,23,12,20,26,103,297,560,793,976,986,952,927,935,977,1000,773,628,488,331,256,205,146,77,46,24,22,23,35,93,315,611,847,957,1011,947,955,969,1018,974,821,657,536,405,292,214,144,97,38,35,16,25,35,93,325,640,980,1082,1028,977,1078,1092,1016,1074,872,707,534,409,314,271,165,85,40,31,19,20,49,135,412,848,1339,1443,1304,1179,1207,1172,1293,1160,986,714,560,394,316,239,170,102,48,30,27,25,36,113,321,681,993,1075,1070,1016,1012,1033,1042,982,812,644,515,340,281,189,143,70,42,22,21,13,37,113,334,600,881,982,989,955,885,990,992,900,804,614,492,365,271,184,146,89,38,25,20,20,32,99,309,634,898,1032,952,984,954,993,958,976,857,632,475,359,234,178,129,85,39,24,24,22,34,93,301,580,867,972,945,966,947,978,1049,969,827,679,497,397,267,219,160,73,42,27,33,18,30,119,330,672,920,1021,1032,974,1041,1024,1058,1011,852,708,476,399,292,235,129,91,52,32,11,25,43,96,359,646,990,1145,1079,1013,1157,1103,1112,1052,913,714,532,453,311,260,184,87,57,41,22,31,43,120,394,906,1334,1467,1425,1284,1335,1231,1278,1166,1003,767,551,423,318,252,185,93,51,29,20,30,41,116,318,687,996,1141,1083,1077,1030,1092,1034,994,882,733,523,390,283,215,132,70,30,41,22,19,50,111,306,634,832,924,1012,938,1001,947,983,996,809,629,515,394,288,198,135,85,46,25,18,15,36,100,323,631,902,980,1045,1009,1020,1005,983,985,845,691,493,395,275,200,147,92,35,28,19,25,30,110,332,634,875,1017,1019,987,1006,982,977,1019,810,644,513,396,281,229,153,89,40,30,20,13,44,96,357,618,945,1103,1079,1098,1094,1136,1101,1021,887,712,535,414,253,208,161,87,52,37,30,22,46,116,322,683,1030,1152,1168,1111,1155,1140,1114,1128,947,723,522,403,327,232,179,97,51,41,20,22,43,137,421,880,1454,1554,1437,1373,1307,1337,1314,1240,957,752,584,459,372,273,132,84,49,25,27,23,34,136,363,703,1027,1175,1075,1035,1041,1054,991,1001,893,645,465,405,266,207,149,68,48,41,16,19,30,106,323,620,896,1008,993,928,992,999,917,954,872,613,530,387,244,203,140,78,32,32,19,27,29,101,311,613,888,1062,1025,1007,976,968,973,963,849,701,495,362,257,172,143,97,56,34,16,14,37,106,314,618,878,1051,1017,943,977,970,1000,947,914,649,497,348,287,218,131,96,45,33,33,23,44,105,339,619,885,1037,1048,1058,1020,1019,1065,1015,890,694,556,393,274,238,145,90,47,23,17,14,38,112,373,708,997,1121,1140,1141,1070,1106,1115,1157,868,742,540,434,303,252,188,98,59,30,19,16,53,130,435,900,1379,1543,1423,1298,1281,1331,1301,1234,1059,744,510,428,343,274,170,106,55,23,17,29,33,114,364,754,1083,1133,1144,1095,1064,1043,1050,996,855,664,503,337,250,211,118,77,43,37,28,14,34,90,312,633,834,912,964,939,973,970,942,987,773,630,450,338,277,193,132,233,136,96,62,39,84,272,822,1547,2329,2659,2911,2770,2812,2950,2978,2823,2389,1940,1496,1060,818,610,403,91,56,30,23,14,39,94,305,648,927,1057,990,1046,1009,1022,1086,1054,900,647,525,345,270,210,144,97,60,36,24,17,49,94,387,708,995,1151,1155,1113,1217,1199,1172,1182,943,782,542,445,305,259,167,97,57,38,19,23,36,113,399,717,1137,1251,1178,1187,1223,1240,1230,1169,997,839,591,449,375,287,194,104,59,22,25,26,41,158,476,1011,1511,1685,1497,1506,1477,1457,1440,1375,1067,856,556,457,373,277,162,106,46,46,24,21,49,122,435,744,1122,1301,1236,1161,1179,1147,1120,1120,940,711,559,407,267,209,155,83,46,29,27,25,37,104,335,647,884,1002,997,983,1013,997,1040,1049,829,710,549,400,301,203,139,86,44,23,23,27,31,128,314,593,890,1027,1040,959,953,997,1042,1011,902,654,474,344,257,247,145,84,55,30,19,19,33,110,361,660,940,1029,1006,1035,1072,1051,1088,1045,928,704,552,395,320,210,159,108,51,38,28,27,35,152,420,707,984,1178,1203,1134,1137,1206,1221,1149,1014,773,568,426,321,250,148,105,61,34,29,24,49,144,422,760,1127,1273,1220,1223,1249,1287,1215,1254,1078,820,625,432,357,280,196,113,57,31,27,39,47,192,516,1037,1606,1730,1621,1533,1458,1472,1488,1372,1170,894,666,476,372,302,184,118,46,40,28,28,35,133,441,723,1159,1324,1293,1210,1217,1203,1214,1178,892,725,516,392,285,210,143,78,62,34,24,21,45,117,355,657,897,1053,1082,978,1052,1072,951,1026,901,719,542,380,258,243,149,69,53,42,23,20,33,128,370,681,908,992,984,991,1043,1012,1027,1055,898,719,497,349,252,224,147,90,49,29,16,21,37,119,347,664,893,1022,1102,1031,1040,1097,1076,1119,908,755,564,392,334,254,150,92,51,43,20,22,38,155,401,726,1055,1120,1202,1175,1164,1215,1233,1195,1057,766,625,453,375,245,173,107,56,34,29,22,50,129,398,775,1143,1288,1267,1167,1272,1336,1244,1277,1055,855,671,468,366,301,217,112,76,35,34,27,51,155,481,1143,1586,1870,1689,1602,1625,1538,1562,1441,1195,922,710,518,378,296,205,103,62,30,21,38,44,118,400,807,1174,1345,1298,1223,1232,1205,1210,1172,1007,764,564,416,321,266,164,95,42,31,27,26,38,98,324,631,871,977,1049,1003,1074,981,1098,1003,905,678,559,388,289,242,140,73,44,33,19,35,39,106,312,636,948,1008,1048,918,1063,1029,1050,1083,864,719,498,353,281,227,158,90,71,24,30,13,46,135,334,635,989,1062,1026,1016,1092,1177,1089,1055,922,725,609,372,304,236,163,78,52,34,22,28,44,116,377,735,1015,1185,1141,1185,1191,1181,1184,1139,968,778,636,442,319,284,179,105,52,49,34,29,44,114,369,785,1104,1293,1264,1174,1244,1243,1297,1270,1029,847,643,483,390,286,231,126,76,44,32,27,61,147,518,1118,1689,1756,1741,1603,1610,1632,1567,1434,1158,922,679,528,368,308,186,125,45,33,29,20,44,130,416,760,1110,1235,1258,1143,1225,1185,1242,1121,956,747,525,375,298,223,161,85,56,34,19,25,37,114,342,603,896,1042,1017,986,953,1010,977,990,786,682,516,336,282,208,147,81,47,34,21,34,27,120,309,595,868,905,947,863,934,929,932,887,745,596,506,370,261,211,141,72,47,28,17,20,34,101,289,571,817,934,875,901,875,970,918,960,808,636,532,369,277,215,130,418,234,140,124,110,167,493,1392,2919,4326,5111,5340,5361,5491,5646,5715,5477,4692,3723,2873,2071,1467,1163,793,106,45,31,26,23,37,133,369,705,1030,1209,1258,1248,1298,1302,1272,1168,1004,842,600,477,380,310,224,118,64,46,29,31,56,183,483,1176,1747,1921,1890,1770,1755,1738,1656,1570,1248,891,685,476,442,344,218,99,57,30,25,18,46,114,423,794,1182,1340,1343,1208,1258,1246,1238,1128,973,807,642,375,338,228,155,90,61,26,25,28,30,121,296,637,901,1083,1049,948,929,958,986,1021,850,672,519,369,274,237,154,72,39,28,33,18,34,118,314,636,906,938,871,879,915,995,966,918,820,668,486,365,253,206,135,83,50,37,32,25,42,102,334,582,799,913,980,966,947,990,939,947,854,728,531,375,303,204,140,81,52,46,34,25,33,94,319,599,858,1018,988,951,964,1011,1032,1054,883,751,529,374,305,234,159,99,56,39,27,23,36,110,368,757,1045,1243,1201,1274,1263,1210,1295,1256,1091,833,644,513,395,307,204,126,70,43,21,29,75,173,533,1177,1837,2004,1866,1668,1708,1807,1697,1495,1228,922,716,470,452,288,235,122,61,48,30,28,50,133,442,808,1181,1316,1303,1304,1219,1249,1228,1213,1041,814,588,425,310,233,162,82,64,28,19,23,45,102,342,635,951,1022,1026,1031,999,1051,992,1019,866,702,567,392,307,204,144,74,58,34,34,27,30,110,339,617,869,924,984,996,984,960,976,909,789,673,550,367,265,217,140,85,44,37,30,23,38,110,333,678,886,1004,1051,941,1006,985,1040,970,870,716,537,359,258,189,154,77,44,33,27,29,38,125,345,615,933,986,932,925,1078,1040,1046,1045,906,774,595,426,301,246,178,92,63,37,22,22,47,113,404,775,1107,1288,1292,1226,1309,1287,1311,1257,1110,883,665,532,391,356,190,149,72,42,36,41,61,193,599,1196,1886,2068,1980,1792,1879,1851,1747,1636,1352,1011,749,530,462,346,242,121,73,31,34,20,47,164,449,847,1219,1376,1336,1265,1234,1324,1229,1208,982,771,628,392,319,231,189,90,60,33,22,25,53,140,374,682,881,1060,1021,991,972,1027,1041,1016,894,757,566,385,267,208,128,95,47,36,30,17,44,117,319,631,849,976,963,942,943,998,985,890,826,703,524,337,239,216,145,97,48,27,25,17,39,124,323,575,805,944,958,871,962,1021,1068,1013,859,724,525,370,296,242,142,80,54,35,19,28,46,120,351,624,911,965,1015,934,977,1010,1081,1045,943,719,601,397,282,246,178,87,66,26,41,31,53,156,375,805,1051,1166,1239,1220,1150,1254,1236,1275,1098,859,649,466,377,342,196,114,80,41,25,39,45,182,601,1250,1916,1968,1886,1774,1730,1767,1684,1596,1314,959,768,529,438,339,181,119,61,68,25,34,48,145,456,807,1126,1244,1241,1170,1143,1158,1166,1168,924,781,572,401,289,226,162,83,54,35,22,23,35,129,344,573,797,920,905,934,896,888,989,883,793,606,465,346,208,173,127,76,38,20,14,22,47,114,315,579,739,809,774,816,834,821,845,791,644,558,449,304,190,163,109,66,29,16,16,15,25,88,295,498,623,695,693,604,673,699,671,643,552,467,327,242,177,102,73]},\"selected\":{\"id\":\"2454\"},\"selection_policy\":{\"id\":\"2479\"}},\"id\":\"2453\",\"type\":\"ColumnDataSource\"},{\"attributes\":{},\"id\":\"2444\",\"type\":\"ResetTool\"},{\"attributes\":{\"line_color\":\"#30a2da\",\"line_width\":2,\"tags\":[\"apply_ranges\"],\"x\":{\"field\":\"date\"},\"y\":{\"field\":\"order_number\"}},\"id\":\"2461\",\"type\":\"Line\"},{\"attributes\":{},\"id\":\"2464\",\"type\":\"AllLabels\"},{\"attributes\":{\"months\":[0,1,2,3,4,5,6,7,8,9,10,11]},\"id\":\"2489\",\"type\":\"MonthsTicker\"},{\"attributes\":{\"axis_label\":\"order_number\",\"coordinates\":null,\"formatter\":{\"id\":\"2466\"},\"group\":null,\"major_label_policy\":{\"id\":\"2467\"},\"ticker\":{\"id\":\"2437\"}},\"id\":\"2436\",\"type\":\"LinearAxis\"},{\"attributes\":{\"source\":{\"id\":\"2453\"}},\"id\":\"2460\",\"type\":\"CDSView\"},{\"attributes\":{\"line_color\":\"#30a2da\",\"line_width\":2,\"tags\":[\"apply_ranges\"],\"x\":{\"field\":\"date\"},\"y\":{\"field\":\"order_number\"}},\"id\":\"2456\",\"type\":\"Line\"},{\"attributes\":{\"months\":[0,2,4,6,8,10]},\"id\":\"2490\",\"type\":\"MonthsTicker\"},{\"attributes\":{\"coordinates\":null,\"group\":null,\"text\":\"Number of orders in the last 120 days\",\"text_color\":\"black\",\"text_font_size\":\"12pt\"},\"id\":\"2424\",\"type\":\"Title\"},{\"attributes\":{\"end\":1695855600000.0,\"reset_end\":1695855600000.0,\"reset_start\":1685577600000.0,\"start\":1685577600000.0,\"tags\":[[[\"date\",\"date\",null]],[]]},\"id\":\"2418\",\"type\":\"Range1d\"},{\"attributes\":{},\"id\":\"2463\",\"type\":\"DatetimeTickFormatter\"},{\"attributes\":{\"axis\":{\"id\":\"2432\"},\"coordinates\":null,\"grid_line_color\":null,\"group\":null,\"ticker\":null},\"id\":\"2435\",\"type\":\"Grid\"},{\"attributes\":{},\"id\":\"2454\",\"type\":\"Selection\"},{\"attributes\":{\"days\":[1,4,7,10,13,16,19,22,25,28]},\"id\":\"2486\",\"type\":\"DaysTicker\"},{\"attributes\":{\"axis\":{\"id\":\"2436\"},\"coordinates\":null,\"dimension\":1,\"grid_line_color\":null,\"group\":null,\"ticker\":null},\"id\":\"2439\",\"type\":\"Grid\"},{\"attributes\":{\"coordinates\":null,\"data_source\":{\"id\":\"2453\"},\"glyph\":{\"id\":\"2456\"},\"group\":null,\"hover_glyph\":null,\"muted_glyph\":{\"id\":\"2458\"},\"nonselection_glyph\":{\"id\":\"2457\"},\"selection_glyph\":{\"id\":\"2461\"},\"view\":{\"id\":\"2460\"}},\"id\":\"2459\",\"type\":\"GlyphRenderer\"},{\"attributes\":{\"months\":[0,4,8]},\"id\":\"2491\",\"type\":\"MonthsTicker\"},{\"attributes\":{},\"id\":\"2431\",\"type\":\"LinearScale\"},{\"attributes\":{\"active_drag\":{\"id\":\"2441\"},\"active_scroll\":{\"id\":\"2442\"},\"tools\":[{\"id\":\"2422\"},{\"id\":\"2440\"},{\"id\":\"2441\"},{\"id\":\"2442\"},{\"id\":\"2443\"},{\"id\":\"2444\"}]},\"id\":\"2446\",\"type\":\"Toolbar\"},{\"attributes\":{},\"id\":\"2440\",\"type\":\"SaveTool\"},{\"attributes\":{},\"id\":\"2441\",\"type\":\"PanTool\"},{\"attributes\":{\"children\":[{\"id\":\"2423\"}],\"height\":300,\"margin\":[0,0,0,0],\"name\":\"Row02050\",\"sizing_mode\":\"fixed\",\"tags\":[\"embedded\"],\"width\":700},\"id\":\"2417\",\"type\":\"Row\"},{\"attributes\":{},\"id\":\"2437\",\"type\":\"BasicTicker\"},{\"attributes\":{\"overlay\":{\"id\":\"2445\"}},\"id\":\"2443\",\"type\":\"BoxZoomTool\"},{\"attributes\":{\"below\":[{\"id\":\"2432\"}],\"center\":[{\"id\":\"2435\"},{\"id\":\"2439\"}],\"height\":300,\"left\":[{\"id\":\"2436\"}],\"margin\":[5,5,5,5],\"min_border_bottom\":10,\"min_border_left\":10,\"min_border_right\":10,\"min_border_top\":10,\"output_backend\":\"webgl\",\"renderers\":[{\"id\":\"2459\"}],\"sizing_mode\":\"fixed\",\"title\":{\"id\":\"2424\"},\"toolbar\":{\"id\":\"2446\"},\"width\":700,\"x_range\":{\"id\":\"2418\"},\"x_scale\":{\"id\":\"2430\"},\"y_range\":{\"id\":\"2419\"},\"y_scale\":{\"id\":\"2431\"}},\"id\":\"2423\",\"subtype\":\"Figure\",\"type\":\"Plot\"},{\"attributes\":{\"bottom_units\":\"screen\",\"coordinates\":null,\"fill_alpha\":0.5,\"fill_color\":\"lightgrey\",\"group\":null,\"left_units\":\"screen\",\"level\":\"overlay\",\"line_alpha\":1.0,\"line_color\":\"black\",\"line_dash\":[4,4],\"line_width\":2,\"right_units\":\"screen\",\"syncable\":false,\"top_units\":\"screen\"},\"id\":\"2445\",\"type\":\"BoxAnnotation\"},{\"attributes\":{\"base\":24,\"mantissas\":[1,2,4,6,8,12],\"max_interval\":43200000.0,\"min_interval\":3600000.0,\"num_minor_ticks\":0},\"id\":\"2484\",\"type\":\"AdaptiveTicker\"},{\"attributes\":{},\"id\":\"2442\",\"type\":\"WheelZoomTool\"},{\"attributes\":{},\"id\":\"2467\",\"type\":\"AllLabels\"},{\"attributes\":{\"base\":60,\"mantissas\":[1,2,5,10,15,20,30],\"max_interval\":1800000.0,\"min_interval\":1000.0,\"num_minor_ticks\":0},\"id\":\"2483\",\"type\":\"AdaptiveTicker\"},{\"attributes\":{\"line_alpha\":0.1,\"line_color\":\"#30a2da\",\"line_width\":2,\"tags\":[\"apply_ranges\"],\"x\":{\"field\":\"date\"},\"y\":{\"field\":\"order_number\"}},\"id\":\"2457\",\"type\":\"Line\"},{\"attributes\":{\"mantissas\":[1,2,5],\"max_interval\":500.0,\"num_minor_ticks\":0},\"id\":\"2482\",\"type\":\"AdaptiveTicker\"},{\"attributes\":{\"num_minor_ticks\":5,\"tickers\":[{\"id\":\"2482\"},{\"id\":\"2483\"},{\"id\":\"2484\"},{\"id\":\"2485\"},{\"id\":\"2486\"},{\"id\":\"2487\"},{\"id\":\"2488\"},{\"id\":\"2489\"},{\"id\":\"2490\"},{\"id\":\"2491\"},{\"id\":\"2492\"},{\"id\":\"2493\"}]},\"id\":\"2433\",\"type\":\"DatetimeTicker\"},{\"attributes\":{\"months\":[0,6]},\"id\":\"2492\",\"type\":\"MonthsTicker\"},{\"attributes\":{},\"id\":\"2479\",\"type\":\"UnionRenderers\"},{\"attributes\":{},\"id\":\"2466\",\"type\":\"BasicTickFormatter\"}],\"root_ids\":[\"2417\"]},\"title\":\"Bokeh Application\",\"version\":\"2.4.3\"}};\n",
       "    var render_items = [{\"docid\":\"29651352-9b49-4bba-8aaa-46e8d03c09c2\",\"root_ids\":[\"2417\"],\"roots\":{\"2417\":\"5fa773cc-243e-44c9-9a5b-8c50ecd92e8c\"}}];\n",
       "    root.Bokeh.embed.embed_items_notebook(docs_json, render_items);\n",
       "    for (const render_item of render_items) {\n",
       "      for (const root_id of render_item.root_ids) {\n",
       "\tconst id_el = document.getElementById(root_id)\n",
       "\tif (id_el.children.length && (id_el.children[0].className === 'bk-root')) {\n",
       "\t  const root_el = id_el.children[0]\n",
       "\t  root_el.id = root_el.id + '-rendered'\n",
       "\t}\n",
       "      }\n",
       "    }\n",
       "  }\n",
       "  if (root.Bokeh !== undefined && root.Bokeh.Panel !== undefined) {\n",
       "    embed_document(root);\n",
       "  } else {\n",
       "    var attempts = 0;\n",
       "    var timer = setInterval(function(root) {\n",
       "      if (root.Bokeh !== undefined && root.Bokeh.Panel !== undefined) {\n",
       "        clearInterval(timer);\n",
       "        embed_document(root);\n",
       "      } else if (document.readyState == \"complete\") {\n",
       "        attempts++;\n",
       "        if (attempts > 200) {\n",
       "          clearInterval(timer);\n",
       "          console.log(\"Bokeh: ERROR: Unable to run BokehJS code because BokehJS library is missing\");\n",
       "        }\n",
       "      }\n",
       "    }, 25, root)\n",
       "  }\n",
       "})(window);</script>"
      ],
      "text/plain": [
       ":Curve   [date]   (order_number)"
      ]
     },
     "execution_count": 57,
     "metadata": {
      "application/vnd.holoviews_exec.v0+json": {
       "id": "2417"
      }
     },
     "output_type": "execute_result"
    }
   ],
   "source": [
    "df_ = df.groupby(\"date\").order_number.count().reset_index()\n",
    "df_[\"date\"] = pd.to_datetime(df_[\"date\"])\n",
    "df_ = df_[(df_[\"date\"].dt.date < date.today()) & (df_[\"date\"].dt.date > date.today() - timedelta(days=120))]\n",
    "df_.hvplot(y=\"order_number\", x=\"date\", title=\"Number of orders in the last 120 days\")"
   ]
  },
  {
   "cell_type": "code",
   "execution_count": 59,
   "id": "ce82792f",
   "metadata": {},
   "outputs": [
    {
     "data": {},
     "metadata": {},
     "output_type": "display_data"
    },
    {
     "data": {
      "application/vnd.holoviews_exec.v0+json": "",
      "text/html": [
       "<div id='2720'>\n",
       "  <div class=\"bk-root\" id=\"b8eeb356-ceea-43c2-bbad-ed8cc28da9a7\" data-root-id=\"2720\"></div>\n",
       "</div>\n",
       "<script type=\"application/javascript\">(function(root) {\n",
       "  function embed_document(root) {\n",
       "    var docs_json = {\"e9fb2a59-0bfe-43ab-94a1-ebed63b6de3a\":{\"defs\":[{\"extends\":null,\"module\":null,\"name\":\"ReactiveHTML1\",\"overrides\":[],\"properties\":[]},{\"extends\":null,\"module\":null,\"name\":\"FlexBox1\",\"overrides\":[],\"properties\":[{\"default\":\"flex-start\",\"kind\":null,\"name\":\"align_content\"},{\"default\":\"flex-start\",\"kind\":null,\"name\":\"align_items\"},{\"default\":\"row\",\"kind\":null,\"name\":\"flex_direction\"},{\"default\":\"wrap\",\"kind\":null,\"name\":\"flex_wrap\"},{\"default\":\"flex-start\",\"kind\":null,\"name\":\"justify_content\"}]},{\"extends\":null,\"module\":null,\"name\":\"GridStack1\",\"overrides\":[],\"properties\":[{\"default\":\"warn\",\"kind\":null,\"name\":\"mode\"},{\"default\":null,\"kind\":null,\"name\":\"ncols\"},{\"default\":null,\"kind\":null,\"name\":\"nrows\"},{\"default\":true,\"kind\":null,\"name\":\"allow_resize\"},{\"default\":true,\"kind\":null,\"name\":\"allow_drag\"},{\"default\":[],\"kind\":null,\"name\":\"state\"}]},{\"extends\":null,\"module\":null,\"name\":\"click1\",\"overrides\":[],\"properties\":[{\"default\":\"\",\"kind\":null,\"name\":\"terminal_output\"},{\"default\":\"\",\"kind\":null,\"name\":\"debug_name\"},{\"default\":0,\"kind\":null,\"name\":\"clears\"}]},{\"extends\":null,\"module\":null,\"name\":\"NotificationAreaBase1\",\"overrides\":[],\"properties\":[{\"default\":\"bottom-right\",\"kind\":null,\"name\":\"position\"},{\"default\":0,\"kind\":null,\"name\":\"_clear\"}]},{\"extends\":null,\"module\":null,\"name\":\"NotificationArea1\",\"overrides\":[],\"properties\":[{\"default\":[],\"kind\":null,\"name\":\"notifications\"},{\"default\":\"bottom-right\",\"kind\":null,\"name\":\"position\"},{\"default\":0,\"kind\":null,\"name\":\"_clear\"},{\"default\":[{\"background\":\"#ffc107\",\"icon\":{\"className\":\"fas fa-exclamation-triangle\",\"color\":\"white\",\"tagName\":\"i\"},\"type\":\"warning\"},{\"background\":\"#007bff\",\"icon\":{\"className\":\"fas fa-info-circle\",\"color\":\"white\",\"tagName\":\"i\"},\"type\":\"info\"}],\"kind\":null,\"name\":\"types\"}]},{\"extends\":null,\"module\":null,\"name\":\"Notification\",\"overrides\":[],\"properties\":[{\"default\":null,\"kind\":null,\"name\":\"background\"},{\"default\":3000,\"kind\":null,\"name\":\"duration\"},{\"default\":null,\"kind\":null,\"name\":\"icon\"},{\"default\":\"\",\"kind\":null,\"name\":\"message\"},{\"default\":null,\"kind\":null,\"name\":\"notification_type\"},{\"default\":false,\"kind\":null,\"name\":\"_destroyed\"}]},{\"extends\":null,\"module\":null,\"name\":\"TemplateActions1\",\"overrides\":[],\"properties\":[{\"default\":0,\"kind\":null,\"name\":\"open_modal\"},{\"default\":0,\"kind\":null,\"name\":\"close_modal\"}]},{\"extends\":null,\"module\":null,\"name\":\"MaterialTemplateActions1\",\"overrides\":[],\"properties\":[{\"default\":0,\"kind\":null,\"name\":\"open_modal\"},{\"default\":0,\"kind\":null,\"name\":\"close_modal\"}]}],\"roots\":{\"references\":[{\"attributes\":{},\"id\":\"2734\",\"type\":\"LinearScale\"},{\"attributes\":{\"coordinates\":null,\"group\":null,\"text\":\"Last 7 days average\",\"text_color\":\"black\",\"text_font_size\":\"12pt\"},\"id\":\"2727\",\"type\":\"Title\"},{\"attributes\":{},\"id\":\"2736\",\"type\":\"CategoricalTicker\"},{\"attributes\":{},\"id\":\"2733\",\"type\":\"CategoricalScale\"},{\"attributes\":{\"axis\":{\"id\":\"2735\"},\"coordinates\":null,\"grid_line_color\":null,\"group\":null,\"ticker\":null},\"id\":\"2737\",\"type\":\"Grid\"},{\"attributes\":{\"axis_label\":\"date\",\"coordinates\":null,\"formatter\":{\"id\":\"2765\"},\"group\":null,\"major_label_policy\":{\"id\":\"2766\"},\"ticker\":{\"id\":\"2736\"}},\"id\":\"2735\",\"type\":\"CategoricalAxis\"},{\"attributes\":{},\"id\":\"2768\",\"type\":\"BasicTickFormatter\"},{\"attributes\":{\"callback\":null,\"renderers\":[{\"id\":\"2761\"}],\"tags\":[\"hv_created\"],\"tooltips\":[[\"date\",\"@{date}\"],[\"order_number\",\"@{order_number}\"]]},\"id\":\"2725\",\"type\":\"HoverTool\"},{\"attributes\":{\"below\":[{\"id\":\"2735\"}],\"center\":[{\"id\":\"2737\"},{\"id\":\"2741\"}],\"height\":300,\"left\":[{\"id\":\"2738\"}],\"margin\":[5,5,5,5],\"min_border_bottom\":10,\"min_border_left\":10,\"min_border_right\":10,\"min_border_top\":10,\"output_backend\":\"webgl\",\"renderers\":[{\"id\":\"2761\"}],\"sizing_mode\":\"fixed\",\"title\":{\"id\":\"2727\"},\"toolbar\":{\"id\":\"2748\"},\"width\":700,\"x_range\":{\"id\":\"2721\"},\"x_scale\":{\"id\":\"2733\"},\"y_range\":{\"id\":\"2722\"},\"y_scale\":{\"id\":\"2734\"}},\"id\":\"2726\",\"subtype\":\"Figure\",\"type\":\"Plot\"},{\"attributes\":{\"axis_label\":\"order_number\",\"coordinates\":null,\"formatter\":{\"id\":\"2768\"},\"group\":null,\"major_label_policy\":{\"id\":\"2769\"},\"ticker\":{\"id\":\"2739\"}},\"id\":\"2738\",\"type\":\"LinearAxis\"},{\"attributes\":{},\"id\":\"2769\",\"type\":\"AllLabels\"},{\"attributes\":{\"axis\":{\"id\":\"2738\"},\"coordinates\":null,\"dimension\":1,\"grid_line_color\":null,\"group\":null,\"ticker\":null},\"id\":\"2741\",\"type\":\"Grid\"},{\"attributes\":{},\"id\":\"2739\",\"type\":\"BasicTicker\"},{\"attributes\":{\"fill_color\":{\"value\":\"#30a2da\"},\"hatch_color\":{\"value\":\"#30a2da\"},\"tags\":[\"apply_ranges\"],\"top\":{\"field\":\"order_number\"},\"width\":{\"value\":0.8},\"x\":{\"field\":\"date\"}},\"id\":\"2758\",\"type\":\"VBar\"},{\"attributes\":{},\"id\":\"2744\",\"type\":\"WheelZoomTool\"},{\"attributes\":{},\"id\":\"2743\",\"type\":\"PanTool\"},{\"attributes\":{},\"id\":\"2781\",\"type\":\"UnionRenderers\"},{\"attributes\":{},\"id\":\"2742\",\"type\":\"SaveTool\"},{\"attributes\":{\"overlay\":{\"id\":\"2747\"}},\"id\":\"2745\",\"type\":\"BoxZoomTool\"},{\"attributes\":{},\"id\":\"2746\",\"type\":\"ResetTool\"},{\"attributes\":{\"bottom\":{\"value\":0},\"fill_alpha\":{\"value\":1.0},\"fill_color\":{\"value\":\"#30a2da\"},\"hatch_alpha\":{\"value\":1.0},\"hatch_color\":{\"value\":\"#30a2da\"},\"hatch_scale\":{\"value\":12.0},\"hatch_weight\":{\"value\":1.0},\"line_alpha\":{\"value\":1.0},\"line_cap\":{\"value\":\"butt\"},\"line_color\":{\"value\":\"black\"},\"line_dash\":{\"value\":[]},\"line_dash_offset\":{\"value\":0},\"line_join\":{\"value\":\"bevel\"},\"line_width\":{\"value\":1},\"tags\":[\"apply_ranges\"],\"top\":{\"field\":\"order_number\"},\"width\":{\"value\":0.8},\"x\":{\"field\":\"date\"}},\"id\":\"2763\",\"type\":\"VBar\"},{\"attributes\":{\"children\":[{\"id\":\"2726\"}],\"height\":300,\"margin\":[0,0,0,0],\"name\":\"Row02258\",\"sizing_mode\":\"fixed\",\"tags\":[\"embedded\"],\"width\":700},\"id\":\"2720\",\"type\":\"Row\"},{\"attributes\":{\"bottom_units\":\"screen\",\"coordinates\":null,\"fill_alpha\":0.5,\"fill_color\":\"lightgrey\",\"group\":null,\"left_units\":\"screen\",\"level\":\"overlay\",\"line_alpha\":1.0,\"line_color\":\"black\",\"line_dash\":[4,4],\"line_width\":2,\"right_units\":\"screen\",\"syncable\":false,\"top_units\":\"screen\"},\"id\":\"2747\",\"type\":\"BoxAnnotation\"},{\"attributes\":{\"active_drag\":{\"id\":\"2743\"},\"active_scroll\":{\"id\":\"2744\"},\"tools\":[{\"id\":\"2725\"},{\"id\":\"2742\"},{\"id\":\"2743\"},{\"id\":\"2744\"},{\"id\":\"2745\"},{\"id\":\"2746\"}]},\"id\":\"2748\",\"type\":\"Toolbar\"},{\"attributes\":{},\"id\":\"2766\",\"type\":\"AllLabels\"},{\"attributes\":{},\"id\":\"2756\",\"type\":\"Selection\"},{\"attributes\":{\"coordinates\":null,\"data_source\":{\"id\":\"2755\"},\"glyph\":{\"id\":\"2758\"},\"group\":null,\"hover_glyph\":null,\"muted_glyph\":{\"id\":\"2760\"},\"nonselection_glyph\":{\"id\":\"2759\"},\"selection_glyph\":{\"id\":\"2763\"},\"view\":{\"id\":\"2762\"}},\"id\":\"2761\",\"type\":\"GlyphRenderer\"},{\"attributes\":{\"factors\":[\"2023-09-21\",\"2023-09-22\",\"2023-09-23\",\"2023-09-24\",\"2023-09-25\",\"2023-09-26\",\"2023-09-27\"],\"tags\":[[[\"date\",\"date\",null]],[]]},\"id\":\"2721\",\"type\":\"FactorRange\"},{\"attributes\":{\"fill_alpha\":{\"value\":0.2},\"fill_color\":{\"value\":\"#30a2da\"},\"hatch_alpha\":{\"value\":0.2},\"hatch_color\":{\"value\":\"#30a2da\"},\"line_alpha\":{\"value\":0.2},\"tags\":[\"apply_ranges\"],\"top\":{\"field\":\"order_number\"},\"width\":{\"value\":0.8},\"x\":{\"field\":\"date\"}},\"id\":\"2760\",\"type\":\"VBar\"},{\"attributes\":{},\"id\":\"2765\",\"type\":\"CategoricalTickFormatter\"},{\"attributes\":{\"end\":15366.699999999999,\"reset_end\":15366.699999999999,\"reset_start\":0.0,\"tags\":[[[\"order_number\",\"order_number\",null]],{\"autorange\":false,\"invert_yaxis\":false}]},\"id\":\"2722\",\"type\":\"Range1d\"},{\"attributes\":{\"data\":{\"date\":[\"2023-09-21\",\"2023-09-22\",\"2023-09-23\",\"2023-09-24\",\"2023-09-25\",\"2023-09-26\",\"2023-09-27\"],\"order_number\":{\"__ndarray__\":\"AAAAAABPyUBmZmZm5jPJQDMzMzMzicxAZmZmZmaTzUAzMzMzsz7NQDMzMzOzO8xAzczMzMyGyUA=\",\"dtype\":\"float64\",\"order\":\"little\",\"shape\":[7]}},\"selected\":{\"id\":\"2756\"},\"selection_policy\":{\"id\":\"2781\"}},\"id\":\"2755\",\"type\":\"ColumnDataSource\"},{\"attributes\":{\"source\":{\"id\":\"2755\"}},\"id\":\"2762\",\"type\":\"CDSView\"},{\"attributes\":{\"fill_alpha\":{\"value\":0.1},\"fill_color\":{\"value\":\"#30a2da\"},\"hatch_alpha\":{\"value\":0.1},\"hatch_color\":{\"value\":\"#30a2da\"},\"line_alpha\":{\"value\":0.1},\"tags\":[\"apply_ranges\"],\"top\":{\"field\":\"order_number\"},\"width\":{\"value\":0.8},\"x\":{\"field\":\"date\"}},\"id\":\"2759\",\"type\":\"VBar\"}],\"root_ids\":[\"2720\"]},\"title\":\"Bokeh Application\",\"version\":\"2.4.3\"}};\n",
       "    var render_items = [{\"docid\":\"e9fb2a59-0bfe-43ab-94a1-ebed63b6de3a\",\"root_ids\":[\"2720\"],\"roots\":{\"2720\":\"b8eeb356-ceea-43c2-bbad-ed8cc28da9a7\"}}];\n",
       "    root.Bokeh.embed.embed_items_notebook(docs_json, render_items);\n",
       "    for (const render_item of render_items) {\n",
       "      for (const root_id of render_item.root_ids) {\n",
       "\tconst id_el = document.getElementById(root_id)\n",
       "\tif (id_el.children.length && (id_el.children[0].className === 'bk-root')) {\n",
       "\t  const root_el = id_el.children[0]\n",
       "\t  root_el.id = root_el.id + '-rendered'\n",
       "\t}\n",
       "      }\n",
       "    }\n",
       "  }\n",
       "  if (root.Bokeh !== undefined && root.Bokeh.Panel !== undefined) {\n",
       "    embed_document(root);\n",
       "  } else {\n",
       "    var attempts = 0;\n",
       "    var timer = setInterval(function(root) {\n",
       "      if (root.Bokeh !== undefined && root.Bokeh.Panel !== undefined) {\n",
       "        clearInterval(timer);\n",
       "        embed_document(root);\n",
       "      } else if (document.readyState == \"complete\") {\n",
       "        attempts++;\n",
       "        if (attempts > 200) {\n",
       "          clearInterval(timer);\n",
       "          console.log(\"Bokeh: ERROR: Unable to run BokehJS code because BokehJS library is missing\");\n",
       "        }\n",
       "      }\n",
       "    }, 25, root)\n",
       "  }\n",
       "})(window);</script>"
      ],
      "text/plain": [
       ":Bars   [date]   (order_number)"
      ]
     },
     "execution_count": 59,
     "metadata": {
      "application/vnd.holoviews_exec.v0+json": {
       "id": "2720"
      }
     },
     "output_type": "execute_result"
    }
   ],
   "source": [
    "df_ = df.groupby(\"date\").order_number.count().reset_index()\n",
    "df_[\"date\"] = pd.to_datetime(df_[\"date\"])\n",
    "df_ = df_.resample(\"1d\", on=\"date\").sum().fillna(0).rolling(window=5, min_periods=1).mean().reset_index()\n",
    "df_ = df_[(df_[\"date\"].dt.date < date.today()) & (df_[\"date\"].dt.date > date.today() - timedelta(days=8))]\n",
    "df_[\"date\"] = df_[\"date\"].astype(str)\n",
    "df_.hvplot.bar(y=\"order_number\", x=\"date\", title=\"Last 7 days average\")"
   ]
  },
  {
   "cell_type": "markdown",
   "id": "99ab4461",
   "metadata": {},
   "source": [
    "# Plots on products"
   ]
  },
  {
   "cell_type": "code",
   "execution_count": 21,
   "id": "f2bd8bdb",
   "metadata": {},
   "outputs": [
    {
     "name": "stderr",
     "output_type": "stream",
     "text": [
      "100%|██████████| 3214874/3214874 [00:02<00:00, 1074499.95it/s]\n"
     ]
    }
   ],
   "source": [
    "l = df[\"product_id\"].to_list()\n",
    "l = [item for sublist in tqdm(l) for item in sublist]"
   ]
  },
  {
   "cell_type": "code",
   "execution_count": 30,
   "id": "e1d591ac",
   "metadata": {},
   "outputs": [
    {
     "data": {
      "text/html": [
       "<div>\n",
       "<style scoped>\n",
       "    .dataframe tbody tr th:only-of-type {\n",
       "        vertical-align: middle;\n",
       "    }\n",
       "\n",
       "    .dataframe tbody tr th {\n",
       "        vertical-align: top;\n",
       "    }\n",
       "\n",
       "    .dataframe thead th {\n",
       "        text-align: right;\n",
       "    }\n",
       "</style>\n",
       "<table border=\"1\" class=\"dataframe\">\n",
       "  <thead>\n",
       "    <tr style=\"text-align: right;\">\n",
       "      <th></th>\n",
       "      <th>product_id</th>\n",
       "      <th>count</th>\n",
       "      <th>product_name</th>\n",
       "      <th>aisle_id</th>\n",
       "      <th>department_id</th>\n",
       "      <th>aisle</th>\n",
       "      <th>department</th>\n",
       "    </tr>\n",
       "  </thead>\n",
       "  <tbody>\n",
       "    <tr>\n",
       "      <th>0</th>\n",
       "      <td>24852</td>\n",
       "      <td>472565</td>\n",
       "      <td>Banana</td>\n",
       "      <td>24</td>\n",
       "      <td>4</td>\n",
       "      <td>fresh fruits</td>\n",
       "      <td>produce</td>\n",
       "    </tr>\n",
       "    <tr>\n",
       "      <th>1</th>\n",
       "      <td>13176</td>\n",
       "      <td>379450</td>\n",
       "      <td>Bag of Organic Bananas</td>\n",
       "      <td>24</td>\n",
       "      <td>4</td>\n",
       "      <td>fresh fruits</td>\n",
       "      <td>produce</td>\n",
       "    </tr>\n",
       "    <tr>\n",
       "      <th>2</th>\n",
       "      <td>21137</td>\n",
       "      <td>264683</td>\n",
       "      <td>Organic Strawberries</td>\n",
       "      <td>24</td>\n",
       "      <td>4</td>\n",
       "      <td>fresh fruits</td>\n",
       "      <td>produce</td>\n",
       "    </tr>\n",
       "    <tr>\n",
       "      <th>3</th>\n",
       "      <td>47209</td>\n",
       "      <td>213584</td>\n",
       "      <td>Organic Hass Avocado</td>\n",
       "      <td>24</td>\n",
       "      <td>4</td>\n",
       "      <td>fresh fruits</td>\n",
       "      <td>produce</td>\n",
       "    </tr>\n",
       "    <tr>\n",
       "      <th>4</th>\n",
       "      <td>47766</td>\n",
       "      <td>176815</td>\n",
       "      <td>Organic Avocado</td>\n",
       "      <td>24</td>\n",
       "      <td>4</td>\n",
       "      <td>fresh fruits</td>\n",
       "      <td>produce</td>\n",
       "    </tr>\n",
       "    <tr>\n",
       "      <th>...</th>\n",
       "      <td>...</td>\n",
       "      <td>...</td>\n",
       "      <td>...</td>\n",
       "      <td>...</td>\n",
       "      <td>...</td>\n",
       "      <td>...</td>\n",
       "      <td>...</td>\n",
       "    </tr>\n",
       "    <tr>\n",
       "      <th>49672</th>\n",
       "      <td>17113</td>\n",
       "      <td>2</td>\n",
       "      <td>Nutrish Naturally Delish Chicken Paw Pie Wet D...</td>\n",
       "      <td>40</td>\n",
       "      <td>8</td>\n",
       "      <td>dog food care</td>\n",
       "      <td>pets</td>\n",
       "    </tr>\n",
       "    <tr>\n",
       "      <th>49673</th>\n",
       "      <td>38931</td>\n",
       "      <td>2</td>\n",
       "      <td>Select Roasted Lamb with Vegetables &amp; Barley D...</td>\n",
       "      <td>40</td>\n",
       "      <td>8</td>\n",
       "      <td>dog food care</td>\n",
       "      <td>pets</td>\n",
       "    </tr>\n",
       "    <tr>\n",
       "      <th>49674</th>\n",
       "      <td>49487</td>\n",
       "      <td>1</td>\n",
       "      <td>Vitality Chicken Breasts with Flaxseed &amp; Vitam...</td>\n",
       "      <td>40</td>\n",
       "      <td>8</td>\n",
       "      <td>dog food care</td>\n",
       "      <td>pets</td>\n",
       "    </tr>\n",
       "    <tr>\n",
       "      <th>49675</th>\n",
       "      <td>32464</td>\n",
       "      <td>1</td>\n",
       "      <td>Flavor Snacks</td>\n",
       "      <td>40</td>\n",
       "      <td>8</td>\n",
       "      <td>dog food care</td>\n",
       "      <td>pets</td>\n",
       "    </tr>\n",
       "    <tr>\n",
       "      <th>49676</th>\n",
       "      <td>30068</td>\n",
       "      <td>1</td>\n",
       "      <td>Dynostix Rawhide Chew With Meat</td>\n",
       "      <td>40</td>\n",
       "      <td>8</td>\n",
       "      <td>dog food care</td>\n",
       "      <td>pets</td>\n",
       "    </tr>\n",
       "  </tbody>\n",
       "</table>\n",
       "<p>49677 rows × 7 columns</p>\n",
       "</div>"
      ],
      "text/plain": [
       "       product_id   count                                       product_name  \\\n",
       "0           24852  472565                                             Banana   \n",
       "1           13176  379450                             Bag of Organic Bananas   \n",
       "2           21137  264683                               Organic Strawberries   \n",
       "3           47209  213584                               Organic Hass Avocado   \n",
       "4           47766  176815                                    Organic Avocado   \n",
       "...           ...     ...                                                ...   \n",
       "49672       17113       2  Nutrish Naturally Delish Chicken Paw Pie Wet D...   \n",
       "49673       38931       2  Select Roasted Lamb with Vegetables & Barley D...   \n",
       "49674       49487       1  Vitality Chicken Breasts with Flaxseed & Vitam...   \n",
       "49675       32464       1                                      Flavor Snacks   \n",
       "49676       30068       1                    Dynostix Rawhide Chew With Meat   \n",
       "\n",
       "       aisle_id  department_id          aisle department  \n",
       "0            24              4   fresh fruits    produce  \n",
       "1            24              4   fresh fruits    produce  \n",
       "2            24              4   fresh fruits    produce  \n",
       "3            24              4   fresh fruits    produce  \n",
       "4            24              4   fresh fruits    produce  \n",
       "...         ...            ...            ...        ...  \n",
       "49672        40              8  dog food care       pets  \n",
       "49673        40              8  dog food care       pets  \n",
       "49674        40              8  dog food care       pets  \n",
       "49675        40              8  dog food care       pets  \n",
       "49676        40              8  dog food care       pets  \n",
       "\n",
       "[49677 rows x 7 columns]"
      ]
     },
     "execution_count": 30,
     "metadata": {},
     "output_type": "execute_result"
    }
   ],
   "source": [
    "df_product_occurrence = pd.DataFrame(l, columns=[\"product_id\"])\n",
    "df_product_occurrence = df_product_occurrence.value_counts().reset_index()\n",
    "df_product_occurrence = df_product_occurrence.rename(columns={0:\"count\"})\n",
    "df_product_occurrence = df_product_occurrence.merge(df_products.compute(), on=[\"product_id\"])\n",
    "df_product_occurrence = df_product_occurrence.merge(df_aisles.compute(), on=[\"aisle_id\"])\n",
    "df_product_occurrence = df_product_occurrence.merge(df_departments.compute(), on=[\"department_id\"])\n",
    "df_product_occurrence"
   ]
  },
  {
   "cell_type": "code",
   "execution_count": 31,
   "id": "8e9538c2",
   "metadata": {},
   "outputs": [
    {
     "data": {},
     "metadata": {},
     "output_type": "display_data"
    },
    {
     "data": {
      "application/vnd.holoviews_exec.v0+json": "",
      "text/html": [
       "<div id='1884'>\n",
       "  <div class=\"bk-root\" id=\"8bb20476-2bf9-4502-bdb1-416cb1165e43\" data-root-id=\"1884\"></div>\n",
       "</div>\n",
       "<script type=\"application/javascript\">(function(root) {\n",
       "  function embed_document(root) {\n",
       "    var docs_json = {\"3b547084-f872-477f-8011-c50b74411178\":{\"defs\":[{\"extends\":null,\"module\":null,\"name\":\"ReactiveHTML1\",\"overrides\":[],\"properties\":[]},{\"extends\":null,\"module\":null,\"name\":\"FlexBox1\",\"overrides\":[],\"properties\":[{\"default\":\"flex-start\",\"kind\":null,\"name\":\"align_content\"},{\"default\":\"flex-start\",\"kind\":null,\"name\":\"align_items\"},{\"default\":\"row\",\"kind\":null,\"name\":\"flex_direction\"},{\"default\":\"wrap\",\"kind\":null,\"name\":\"flex_wrap\"},{\"default\":\"flex-start\",\"kind\":null,\"name\":\"justify_content\"}]},{\"extends\":null,\"module\":null,\"name\":\"GridStack1\",\"overrides\":[],\"properties\":[{\"default\":\"warn\",\"kind\":null,\"name\":\"mode\"},{\"default\":null,\"kind\":null,\"name\":\"ncols\"},{\"default\":null,\"kind\":null,\"name\":\"nrows\"},{\"default\":true,\"kind\":null,\"name\":\"allow_resize\"},{\"default\":true,\"kind\":null,\"name\":\"allow_drag\"},{\"default\":[],\"kind\":null,\"name\":\"state\"}]},{\"extends\":null,\"module\":null,\"name\":\"click1\",\"overrides\":[],\"properties\":[{\"default\":\"\",\"kind\":null,\"name\":\"terminal_output\"},{\"default\":\"\",\"kind\":null,\"name\":\"debug_name\"},{\"default\":0,\"kind\":null,\"name\":\"clears\"}]},{\"extends\":null,\"module\":null,\"name\":\"NotificationAreaBase1\",\"overrides\":[],\"properties\":[{\"default\":\"bottom-right\",\"kind\":null,\"name\":\"position\"},{\"default\":0,\"kind\":null,\"name\":\"_clear\"}]},{\"extends\":null,\"module\":null,\"name\":\"NotificationArea1\",\"overrides\":[],\"properties\":[{\"default\":[],\"kind\":null,\"name\":\"notifications\"},{\"default\":\"bottom-right\",\"kind\":null,\"name\":\"position\"},{\"default\":0,\"kind\":null,\"name\":\"_clear\"},{\"default\":[{\"background\":\"#ffc107\",\"icon\":{\"className\":\"fas fa-exclamation-triangle\",\"color\":\"white\",\"tagName\":\"i\"},\"type\":\"warning\"},{\"background\":\"#007bff\",\"icon\":{\"className\":\"fas fa-info-circle\",\"color\":\"white\",\"tagName\":\"i\"},\"type\":\"info\"}],\"kind\":null,\"name\":\"types\"}]},{\"extends\":null,\"module\":null,\"name\":\"Notification\",\"overrides\":[],\"properties\":[{\"default\":null,\"kind\":null,\"name\":\"background\"},{\"default\":3000,\"kind\":null,\"name\":\"duration\"},{\"default\":null,\"kind\":null,\"name\":\"icon\"},{\"default\":\"\",\"kind\":null,\"name\":\"message\"},{\"default\":null,\"kind\":null,\"name\":\"notification_type\"},{\"default\":false,\"kind\":null,\"name\":\"_destroyed\"}]},{\"extends\":null,\"module\":null,\"name\":\"TemplateActions1\",\"overrides\":[],\"properties\":[{\"default\":0,\"kind\":null,\"name\":\"open_modal\"},{\"default\":0,\"kind\":null,\"name\":\"close_modal\"}]},{\"extends\":null,\"module\":null,\"name\":\"MaterialTemplateActions1\",\"overrides\":[],\"properties\":[{\"default\":0,\"kind\":null,\"name\":\"open_modal\"},{\"default\":0,\"kind\":null,\"name\":\"close_modal\"}]}],\"roots\":{\"references\":[{\"attributes\":{\"fill_color\":{\"value\":\"#30a2da\"},\"hatch_color\":{\"value\":\"#30a2da\"},\"tags\":[\"apply_ranges\"],\"top\":{\"field\":\"count\"},\"width\":{\"value\":0.8},\"x\":{\"field\":\"product_name\"}},\"id\":\"1922\",\"type\":\"VBar\"},{\"attributes\":{},\"id\":\"1908\",\"type\":\"WheelZoomTool\"},{\"attributes\":{},\"id\":\"1907\",\"type\":\"PanTool\"},{\"attributes\":{},\"id\":\"1906\",\"type\":\"SaveTool\"},{\"attributes\":{},\"id\":\"1932\",\"type\":\"BasicTickFormatter\"},{\"attributes\":{},\"id\":\"1933\",\"type\":\"AllLabels\"},{\"attributes\":{\"factors\":[\"Banana\",\"Bag of Organic Bananas\",\"Organic Strawberries\",\"Organic Hass Avocado\",\"Organic Avocado\"],\"tags\":[[[\"product_name\",\"product_name\",null]],[]]},\"id\":\"1885\",\"type\":\"FactorRange\"},{\"attributes\":{\"overlay\":{\"id\":\"1911\"}},\"id\":\"1909\",\"type\":\"BoxZoomTool\"},{\"attributes\":{},\"id\":\"1910\",\"type\":\"ResetTool\"},{\"attributes\":{\"bottom_units\":\"screen\",\"coordinates\":null,\"fill_alpha\":0.5,\"fill_color\":\"lightgrey\",\"group\":null,\"left_units\":\"screen\",\"level\":\"overlay\",\"line_alpha\":1.0,\"line_color\":\"black\",\"line_dash\":[4,4],\"line_width\":2,\"right_units\":\"screen\",\"syncable\":false,\"top_units\":\"screen\"},\"id\":\"1911\",\"type\":\"BoxAnnotation\"},{\"attributes\":{\"fill_alpha\":{\"value\":0.2},\"fill_color\":{\"value\":\"#30a2da\"},\"hatch_alpha\":{\"value\":0.2},\"hatch_color\":{\"value\":\"#30a2da\"},\"line_alpha\":{\"value\":0.2},\"tags\":[\"apply_ranges\"],\"top\":{\"field\":\"count\"},\"width\":{\"value\":0.8},\"x\":{\"field\":\"product_name\"}},\"id\":\"1924\",\"type\":\"VBar\"},{\"attributes\":{\"coordinates\":null,\"data_source\":{\"id\":\"1919\"},\"glyph\":{\"id\":\"1922\"},\"group\":null,\"hover_glyph\":null,\"muted_glyph\":{\"id\":\"1924\"},\"nonselection_glyph\":{\"id\":\"1923\"},\"selection_glyph\":{\"id\":\"1927\"},\"view\":{\"id\":\"1926\"}},\"id\":\"1925\",\"type\":\"GlyphRenderer\"},{\"attributes\":{\"bottom\":{\"value\":0},\"fill_alpha\":{\"value\":1.0},\"fill_color\":{\"value\":\"#30a2da\"},\"hatch_alpha\":{\"value\":1.0},\"hatch_color\":{\"value\":\"#30a2da\"},\"hatch_scale\":{\"value\":12.0},\"hatch_weight\":{\"value\":1.0},\"line_alpha\":{\"value\":1.0},\"line_cap\":{\"value\":\"butt\"},\"line_color\":{\"value\":\"black\"},\"line_dash\":{\"value\":[]},\"line_dash_offset\":{\"value\":0},\"line_join\":{\"value\":\"bevel\"},\"line_width\":{\"value\":1},\"tags\":[\"apply_ranges\"],\"top\":{\"field\":\"count\"},\"width\":{\"value\":0.8},\"x\":{\"field\":\"product_name\"}},\"id\":\"1927\",\"type\":\"VBar\"},{\"attributes\":{},\"id\":\"1920\",\"type\":\"Selection\"},{\"attributes\":{\"end\":502140.0,\"reset_end\":502140.0,\"reset_start\":0.0,\"tags\":[[[\"count\",\"count\",null]],{\"autorange\":false,\"invert_yaxis\":false}]},\"id\":\"1886\",\"type\":\"Range1d\"},{\"attributes\":{},\"id\":\"1898\",\"type\":\"LinearScale\"},{\"attributes\":{\"callback\":null,\"renderers\":[{\"id\":\"1925\"}],\"tags\":[\"hv_created\"],\"tooltips\":[[\"product_name\",\"@{product_name}\"],[\"count\",\"@{count}\"]]},\"id\":\"1889\",\"type\":\"HoverTool\"},{\"attributes\":{\"active_drag\":{\"id\":\"1907\"},\"active_scroll\":{\"id\":\"1908\"},\"tools\":[{\"id\":\"1889\"},{\"id\":\"1906\"},{\"id\":\"1907\"},{\"id\":\"1908\"},{\"id\":\"1909\"},{\"id\":\"1910\"}]},\"id\":\"1912\",\"type\":\"Toolbar\"},{\"attributes\":{\"children\":[{\"id\":\"1890\"}],\"height\":300,\"margin\":[0,0,0,0],\"name\":\"Row01634\",\"sizing_mode\":\"fixed\",\"tags\":[\"embedded\"],\"width\":700},\"id\":\"1884\",\"type\":\"Row\"},{\"attributes\":{},\"id\":\"1897\",\"type\":\"CategoricalScale\"},{\"attributes\":{},\"id\":\"1930\",\"type\":\"AllLabels\"},{\"attributes\":{},\"id\":\"1900\",\"type\":\"CategoricalTicker\"},{\"attributes\":{},\"id\":\"1929\",\"type\":\"CategoricalTickFormatter\"},{\"attributes\":{\"coordinates\":null,\"group\":null,\"text\":\"Top 5 products\",\"text_color\":\"black\",\"text_font_size\":\"12pt\"},\"id\":\"1891\",\"type\":\"Title\"},{\"attributes\":{\"data\":{\"count\":[472565,379450,264683,213584,176815],\"product_name\":[\"Banana\",\"Bag of Organic Bananas\",\"Organic Strawberries\",\"Organic Hass Avocado\",\"Organic Avocado\"]},\"selected\":{\"id\":\"1920\"},\"selection_policy\":{\"id\":\"1945\"}},\"id\":\"1919\",\"type\":\"ColumnDataSource\"},{\"attributes\":{\"below\":[{\"id\":\"1899\"}],\"center\":[{\"id\":\"1901\"},{\"id\":\"1905\"}],\"height\":300,\"left\":[{\"id\":\"1902\"}],\"margin\":[5,5,5,5],\"min_border_bottom\":10,\"min_border_left\":10,\"min_border_right\":10,\"min_border_top\":10,\"output_backend\":\"webgl\",\"renderers\":[{\"id\":\"1925\"}],\"sizing_mode\":\"fixed\",\"title\":{\"id\":\"1891\"},\"toolbar\":{\"id\":\"1912\"},\"width\":700,\"x_range\":{\"id\":\"1885\"},\"x_scale\":{\"id\":\"1897\"},\"y_range\":{\"id\":\"1886\"},\"y_scale\":{\"id\":\"1898\"}},\"id\":\"1890\",\"subtype\":\"Figure\",\"type\":\"Plot\"},{\"attributes\":{\"axis\":{\"id\":\"1899\"},\"coordinates\":null,\"grid_line_color\":null,\"group\":null,\"ticker\":null},\"id\":\"1901\",\"type\":\"Grid\"},{\"attributes\":{},\"id\":\"1945\",\"type\":\"UnionRenderers\"},{\"attributes\":{\"axis_label\":\"product_name\",\"coordinates\":null,\"formatter\":{\"id\":\"1929\"},\"group\":null,\"major_label_policy\":{\"id\":\"1930\"},\"ticker\":{\"id\":\"1900\"}},\"id\":\"1899\",\"type\":\"CategoricalAxis\"},{\"attributes\":{\"fill_alpha\":{\"value\":0.1},\"fill_color\":{\"value\":\"#30a2da\"},\"hatch_alpha\":{\"value\":0.1},\"hatch_color\":{\"value\":\"#30a2da\"},\"line_alpha\":{\"value\":0.1},\"tags\":[\"apply_ranges\"],\"top\":{\"field\":\"count\"},\"width\":{\"value\":0.8},\"x\":{\"field\":\"product_name\"}},\"id\":\"1923\",\"type\":\"VBar\"},{\"attributes\":{},\"id\":\"1903\",\"type\":\"BasicTicker\"},{\"attributes\":{\"source\":{\"id\":\"1919\"}},\"id\":\"1926\",\"type\":\"CDSView\"},{\"attributes\":{\"axis_label\":\"count\",\"coordinates\":null,\"formatter\":{\"id\":\"1932\"},\"group\":null,\"major_label_policy\":{\"id\":\"1933\"},\"ticker\":{\"id\":\"1903\"}},\"id\":\"1902\",\"type\":\"LinearAxis\"},{\"attributes\":{\"axis\":{\"id\":\"1902\"},\"coordinates\":null,\"dimension\":1,\"grid_line_color\":null,\"group\":null,\"ticker\":null},\"id\":\"1905\",\"type\":\"Grid\"}],\"root_ids\":[\"1884\"]},\"title\":\"Bokeh Application\",\"version\":\"2.4.3\"}};\n",
       "    var render_items = [{\"docid\":\"3b547084-f872-477f-8011-c50b74411178\",\"root_ids\":[\"1884\"],\"roots\":{\"1884\":\"8bb20476-2bf9-4502-bdb1-416cb1165e43\"}}];\n",
       "    root.Bokeh.embed.embed_items_notebook(docs_json, render_items);\n",
       "    for (const render_item of render_items) {\n",
       "      for (const root_id of render_item.root_ids) {\n",
       "\tconst id_el = document.getElementById(root_id)\n",
       "\tif (id_el.children.length && (id_el.children[0].className === 'bk-root')) {\n",
       "\t  const root_el = id_el.children[0]\n",
       "\t  root_el.id = root_el.id + '-rendered'\n",
       "\t}\n",
       "      }\n",
       "    }\n",
       "  }\n",
       "  if (root.Bokeh !== undefined && root.Bokeh.Panel !== undefined) {\n",
       "    embed_document(root);\n",
       "  } else {\n",
       "    var attempts = 0;\n",
       "    var timer = setInterval(function(root) {\n",
       "      if (root.Bokeh !== undefined && root.Bokeh.Panel !== undefined) {\n",
       "        clearInterval(timer);\n",
       "        embed_document(root);\n",
       "      } else if (document.readyState == \"complete\") {\n",
       "        attempts++;\n",
       "        if (attempts > 200) {\n",
       "          clearInterval(timer);\n",
       "          console.log(\"Bokeh: ERROR: Unable to run BokehJS code because BokehJS library is missing\");\n",
       "        }\n",
       "      }\n",
       "    }, 25, root)\n",
       "  }\n",
       "})(window);</script>"
      ],
      "text/plain": [
       ":Bars   [product_name]   (count)"
      ]
     },
     "execution_count": 31,
     "metadata": {
      "application/vnd.holoviews_exec.v0+json": {
       "id": "1884"
      }
     },
     "output_type": "execute_result"
    }
   ],
   "source": [
    "df_product_occurrence[0:5].hvplot.bar(y=\"count\", x=\"product_name\", title=\"Top 5 products\")"
   ]
  },
  {
   "cell_type": "code",
   "execution_count": 32,
   "id": "8d92f936",
   "metadata": {},
   "outputs": [
    {
     "data": {},
     "metadata": {},
     "output_type": "display_data"
    },
    {
     "data": {
      "application/vnd.holoviews_exec.v0+json": "",
      "text/html": [
       "<div id='1999'>\n",
       "  <div class=\"bk-root\" id=\"f88dc67a-4b06-4246-a21c-86851e6ab989\" data-root-id=\"1999\"></div>\n",
       "</div>\n",
       "<script type=\"application/javascript\">(function(root) {\n",
       "  function embed_document(root) {\n",
       "    var docs_json = {\"a58932f6-94f5-4c0e-88bd-b50acf5e46cd\":{\"defs\":[{\"extends\":null,\"module\":null,\"name\":\"ReactiveHTML1\",\"overrides\":[],\"properties\":[]},{\"extends\":null,\"module\":null,\"name\":\"FlexBox1\",\"overrides\":[],\"properties\":[{\"default\":\"flex-start\",\"kind\":null,\"name\":\"align_content\"},{\"default\":\"flex-start\",\"kind\":null,\"name\":\"align_items\"},{\"default\":\"row\",\"kind\":null,\"name\":\"flex_direction\"},{\"default\":\"wrap\",\"kind\":null,\"name\":\"flex_wrap\"},{\"default\":\"flex-start\",\"kind\":null,\"name\":\"justify_content\"}]},{\"extends\":null,\"module\":null,\"name\":\"GridStack1\",\"overrides\":[],\"properties\":[{\"default\":\"warn\",\"kind\":null,\"name\":\"mode\"},{\"default\":null,\"kind\":null,\"name\":\"ncols\"},{\"default\":null,\"kind\":null,\"name\":\"nrows\"},{\"default\":true,\"kind\":null,\"name\":\"allow_resize\"},{\"default\":true,\"kind\":null,\"name\":\"allow_drag\"},{\"default\":[],\"kind\":null,\"name\":\"state\"}]},{\"extends\":null,\"module\":null,\"name\":\"click1\",\"overrides\":[],\"properties\":[{\"default\":\"\",\"kind\":null,\"name\":\"terminal_output\"},{\"default\":\"\",\"kind\":null,\"name\":\"debug_name\"},{\"default\":0,\"kind\":null,\"name\":\"clears\"}]},{\"extends\":null,\"module\":null,\"name\":\"NotificationAreaBase1\",\"overrides\":[],\"properties\":[{\"default\":\"bottom-right\",\"kind\":null,\"name\":\"position\"},{\"default\":0,\"kind\":null,\"name\":\"_clear\"}]},{\"extends\":null,\"module\":null,\"name\":\"NotificationArea1\",\"overrides\":[],\"properties\":[{\"default\":[],\"kind\":null,\"name\":\"notifications\"},{\"default\":\"bottom-right\",\"kind\":null,\"name\":\"position\"},{\"default\":0,\"kind\":null,\"name\":\"_clear\"},{\"default\":[{\"background\":\"#ffc107\",\"icon\":{\"className\":\"fas fa-exclamation-triangle\",\"color\":\"white\",\"tagName\":\"i\"},\"type\":\"warning\"},{\"background\":\"#007bff\",\"icon\":{\"className\":\"fas fa-info-circle\",\"color\":\"white\",\"tagName\":\"i\"},\"type\":\"info\"}],\"kind\":null,\"name\":\"types\"}]},{\"extends\":null,\"module\":null,\"name\":\"Notification\",\"overrides\":[],\"properties\":[{\"default\":null,\"kind\":null,\"name\":\"background\"},{\"default\":3000,\"kind\":null,\"name\":\"duration\"},{\"default\":null,\"kind\":null,\"name\":\"icon\"},{\"default\":\"\",\"kind\":null,\"name\":\"message\"},{\"default\":null,\"kind\":null,\"name\":\"notification_type\"},{\"default\":false,\"kind\":null,\"name\":\"_destroyed\"}]},{\"extends\":null,\"module\":null,\"name\":\"TemplateActions1\",\"overrides\":[],\"properties\":[{\"default\":0,\"kind\":null,\"name\":\"open_modal\"},{\"default\":0,\"kind\":null,\"name\":\"close_modal\"}]},{\"extends\":null,\"module\":null,\"name\":\"MaterialTemplateActions1\",\"overrides\":[],\"properties\":[{\"default\":0,\"kind\":null,\"name\":\"open_modal\"},{\"default\":0,\"kind\":null,\"name\":\"close_modal\"}]}],\"roots\":{\"references\":[{\"attributes\":{\"coordinates\":null,\"group\":null,\"text\":\"Top 5 aisles\",\"text_color\":\"black\",\"text_font_size\":\"12pt\"},\"id\":\"2006\",\"type\":\"Title\"},{\"attributes\":{},\"id\":\"2015\",\"type\":\"CategoricalTicker\"},{\"attributes\":{\"axis\":{\"id\":\"2014\"},\"coordinates\":null,\"grid_line_color\":null,\"group\":null,\"ticker\":null},\"id\":\"2016\",\"type\":\"Grid\"},{\"attributes\":{},\"id\":\"2047\",\"type\":\"BasicTickFormatter\"},{\"attributes\":{},\"id\":\"2060\",\"type\":\"UnionRenderers\"},{\"attributes\":{},\"id\":\"2013\",\"type\":\"LinearScale\"},{\"attributes\":{\"axis_label\":\"count\",\"coordinates\":null,\"formatter\":{\"id\":\"2047\"},\"group\":null,\"major_label_policy\":{\"id\":\"2048\"},\"ticker\":{\"id\":\"2018\"}},\"id\":\"2017\",\"type\":\"LinearAxis\"},{\"attributes\":{\"axis\":{\"id\":\"2017\"},\"coordinates\":null,\"dimension\":1,\"grid_line_color\":null,\"group\":null,\"ticker\":null},\"id\":\"2020\",\"type\":\"Grid\"},{\"attributes\":{},\"id\":\"2048\",\"type\":\"AllLabels\"},{\"attributes\":{},\"id\":\"2018\",\"type\":\"BasicTicker\"},{\"attributes\":{\"fill_color\":{\"value\":\"#30a2da\"},\"hatch_color\":{\"value\":\"#30a2da\"},\"tags\":[\"apply_ranges\"],\"top\":{\"field\":\"count\"},\"width\":{\"value\":0.8},\"x\":{\"field\":\"aisle\"}},\"id\":\"2037\",\"type\":\"VBar\"},{\"attributes\":{},\"id\":\"2023\",\"type\":\"WheelZoomTool\"},{\"attributes\":{},\"id\":\"2022\",\"type\":\"PanTool\"},{\"attributes\":{},\"id\":\"2021\",\"type\":\"SaveTool\"},{\"attributes\":{\"overlay\":{\"id\":\"2026\"}},\"id\":\"2024\",\"type\":\"BoxZoomTool\"},{\"attributes\":{\"factors\":[\"fresh fruits\",\"fresh vegetables\",\"packaged vegetables fruits\",\"yogurt\",\"packaged cheese\"],\"tags\":[[[\"aisle\",\"aisle\",null]],[]]},\"id\":\"2000\",\"type\":\"FactorRange\"},{\"attributes\":{},\"id\":\"2025\",\"type\":\"ResetTool\"},{\"attributes\":{\"bottom_units\":\"screen\",\"coordinates\":null,\"fill_alpha\":0.5,\"fill_color\":\"lightgrey\",\"group\":null,\"left_units\":\"screen\",\"level\":\"overlay\",\"line_alpha\":1.0,\"line_color\":\"black\",\"line_dash\":[4,4],\"line_width\":2,\"right_units\":\"screen\",\"syncable\":false,\"top_units\":\"screen\"},\"id\":\"2026\",\"type\":\"BoxAnnotation\"},{\"attributes\":{},\"id\":\"2045\",\"type\":\"AllLabels\"},{\"attributes\":{},\"id\":\"2035\",\"type\":\"Selection\"},{\"attributes\":{\"data\":{\"aisle\":[\"fresh fruits\",\"fresh vegetables\",\"packaged vegetables fruits\",\"yogurt\",\"packaged cheese\"],\"count\":[3642188,3418021,1765313,1452343,979763]},\"selected\":{\"id\":\"2035\"},\"selection_policy\":{\"id\":\"2060\"}},\"id\":\"2034\",\"type\":\"ColumnDataSource\"},{\"attributes\":{\"bottom\":{\"value\":0},\"fill_alpha\":{\"value\":1.0},\"fill_color\":{\"value\":\"#30a2da\"},\"hatch_alpha\":{\"value\":1.0},\"hatch_color\":{\"value\":\"#30a2da\"},\"hatch_scale\":{\"value\":12.0},\"hatch_weight\":{\"value\":1.0},\"line_alpha\":{\"value\":1.0},\"line_cap\":{\"value\":\"butt\"},\"line_color\":{\"value\":\"black\"},\"line_dash\":{\"value\":[]},\"line_dash_offset\":{\"value\":0},\"line_join\":{\"value\":\"bevel\"},\"line_width\":{\"value\":1},\"tags\":[\"apply_ranges\"],\"top\":{\"field\":\"count\"},\"width\":{\"value\":0.8},\"x\":{\"field\":\"aisle\"}},\"id\":\"2042\",\"type\":\"VBar\"},{\"attributes\":{\"coordinates\":null,\"data_source\":{\"id\":\"2034\"},\"glyph\":{\"id\":\"2037\"},\"group\":null,\"hover_glyph\":null,\"muted_glyph\":{\"id\":\"2039\"},\"nonselection_glyph\":{\"id\":\"2038\"},\"selection_glyph\":{\"id\":\"2042\"},\"view\":{\"id\":\"2041\"}},\"id\":\"2040\",\"type\":\"GlyphRenderer\"},{\"attributes\":{\"end\":3908430.5,\"reset_end\":3908430.5,\"reset_start\":0.0,\"tags\":[[[\"count\",\"count\",null]],{\"autorange\":false,\"invert_yaxis\":false}]},\"id\":\"2001\",\"type\":\"Range1d\"},{\"attributes\":{\"children\":[{\"id\":\"2005\"}],\"height\":300,\"margin\":[0,0,0,0],\"name\":\"Row01738\",\"sizing_mode\":\"fixed\",\"tags\":[\"embedded\"],\"width\":700},\"id\":\"1999\",\"type\":\"Row\"},{\"attributes\":{\"callback\":null,\"renderers\":[{\"id\":\"2040\"}],\"tags\":[\"hv_created\"],\"tooltips\":[[\"aisle\",\"@{aisle}\"],[\"count\",\"@{count}\"]]},\"id\":\"2004\",\"type\":\"HoverTool\"},{\"attributes\":{},\"id\":\"2044\",\"type\":\"CategoricalTickFormatter\"},{\"attributes\":{\"below\":[{\"id\":\"2014\"}],\"center\":[{\"id\":\"2016\"},{\"id\":\"2020\"}],\"height\":300,\"left\":[{\"id\":\"2017\"}],\"margin\":[5,5,5,5],\"min_border_bottom\":10,\"min_border_left\":10,\"min_border_right\":10,\"min_border_top\":10,\"output_backend\":\"webgl\",\"renderers\":[{\"id\":\"2040\"}],\"sizing_mode\":\"fixed\",\"title\":{\"id\":\"2006\"},\"toolbar\":{\"id\":\"2027\"},\"width\":700,\"x_range\":{\"id\":\"2000\"},\"x_scale\":{\"id\":\"2012\"},\"y_range\":{\"id\":\"2001\"},\"y_scale\":{\"id\":\"2013\"}},\"id\":\"2005\",\"subtype\":\"Figure\",\"type\":\"Plot\"},{\"attributes\":{\"fill_alpha\":{\"value\":0.2},\"fill_color\":{\"value\":\"#30a2da\"},\"hatch_alpha\":{\"value\":0.2},\"hatch_color\":{\"value\":\"#30a2da\"},\"line_alpha\":{\"value\":0.2},\"tags\":[\"apply_ranges\"],\"top\":{\"field\":\"count\"},\"width\":{\"value\":0.8},\"x\":{\"field\":\"aisle\"}},\"id\":\"2039\",\"type\":\"VBar\"},{\"attributes\":{\"fill_alpha\":{\"value\":0.1},\"fill_color\":{\"value\":\"#30a2da\"},\"hatch_alpha\":{\"value\":0.1},\"hatch_color\":{\"value\":\"#30a2da\"},\"line_alpha\":{\"value\":0.1},\"tags\":[\"apply_ranges\"],\"top\":{\"field\":\"count\"},\"width\":{\"value\":0.8},\"x\":{\"field\":\"aisle\"}},\"id\":\"2038\",\"type\":\"VBar\"},{\"attributes\":{},\"id\":\"2012\",\"type\":\"CategoricalScale\"},{\"attributes\":{\"axis_label\":\"aisle\",\"coordinates\":null,\"formatter\":{\"id\":\"2044\"},\"group\":null,\"major_label_policy\":{\"id\":\"2045\"},\"ticker\":{\"id\":\"2015\"}},\"id\":\"2014\",\"type\":\"CategoricalAxis\"},{\"attributes\":{\"active_drag\":{\"id\":\"2022\"},\"active_scroll\":{\"id\":\"2023\"},\"tools\":[{\"id\":\"2004\"},{\"id\":\"2021\"},{\"id\":\"2022\"},{\"id\":\"2023\"},{\"id\":\"2024\"},{\"id\":\"2025\"}]},\"id\":\"2027\",\"type\":\"Toolbar\"},{\"attributes\":{\"source\":{\"id\":\"2034\"}},\"id\":\"2041\",\"type\":\"CDSView\"}],\"root_ids\":[\"1999\"]},\"title\":\"Bokeh Application\",\"version\":\"2.4.3\"}};\n",
       "    var render_items = [{\"docid\":\"a58932f6-94f5-4c0e-88bd-b50acf5e46cd\",\"root_ids\":[\"1999\"],\"roots\":{\"1999\":\"f88dc67a-4b06-4246-a21c-86851e6ab989\"}}];\n",
       "    root.Bokeh.embed.embed_items_notebook(docs_json, render_items);\n",
       "    for (const render_item of render_items) {\n",
       "      for (const root_id of render_item.root_ids) {\n",
       "\tconst id_el = document.getElementById(root_id)\n",
       "\tif (id_el.children.length && (id_el.children[0].className === 'bk-root')) {\n",
       "\t  const root_el = id_el.children[0]\n",
       "\t  root_el.id = root_el.id + '-rendered'\n",
       "\t}\n",
       "      }\n",
       "    }\n",
       "  }\n",
       "  if (root.Bokeh !== undefined && root.Bokeh.Panel !== undefined) {\n",
       "    embed_document(root);\n",
       "  } else {\n",
       "    var attempts = 0;\n",
       "    var timer = setInterval(function(root) {\n",
       "      if (root.Bokeh !== undefined && root.Bokeh.Panel !== undefined) {\n",
       "        clearInterval(timer);\n",
       "        embed_document(root);\n",
       "      } else if (document.readyState == \"complete\") {\n",
       "        attempts++;\n",
       "        if (attempts > 200) {\n",
       "          clearInterval(timer);\n",
       "          console.log(\"Bokeh: ERROR: Unable to run BokehJS code because BokehJS library is missing\");\n",
       "        }\n",
       "      }\n",
       "    }, 25, root)\n",
       "  }\n",
       "})(window);</script>"
      ],
      "text/plain": [
       ":Bars   [aisle]   (count)"
      ]
     },
     "execution_count": 32,
     "metadata": {
      "application/vnd.holoviews_exec.v0+json": {
       "id": "1999"
      }
     },
     "output_type": "execute_result"
    }
   ],
   "source": [
    "df_top_aisles = pd.DataFrame(df_product_occurrence.groupby(\"aisle\")[\"count\"].sum()).reset_index()\n",
    "df_top_aisles = df_top_aisles.sort_values(\"count\", ascending=False)\n",
    "df_top_aisles[0:5].hvplot.bar(y=\"count\", x=\"aisle\", title=\"Top 5 aisles\")"
   ]
  },
  {
   "cell_type": "code",
   "execution_count": 33,
   "id": "0aa6655f",
   "metadata": {},
   "outputs": [
    {
     "data": {},
     "metadata": {},
     "output_type": "display_data"
    },
    {
     "data": {
      "application/vnd.holoviews_exec.v0+json": "",
      "text/html": [
       "<div id='2114'>\n",
       "  <div class=\"bk-root\" id=\"f3374614-5472-41e3-ab4f-a3abbe89c572\" data-root-id=\"2114\"></div>\n",
       "</div>\n",
       "<script type=\"application/javascript\">(function(root) {\n",
       "  function embed_document(root) {\n",
       "    var docs_json = {\"e5900f33-bfed-4674-8e7f-413e65ca74f1\":{\"defs\":[{\"extends\":null,\"module\":null,\"name\":\"ReactiveHTML1\",\"overrides\":[],\"properties\":[]},{\"extends\":null,\"module\":null,\"name\":\"FlexBox1\",\"overrides\":[],\"properties\":[{\"default\":\"flex-start\",\"kind\":null,\"name\":\"align_content\"},{\"default\":\"flex-start\",\"kind\":null,\"name\":\"align_items\"},{\"default\":\"row\",\"kind\":null,\"name\":\"flex_direction\"},{\"default\":\"wrap\",\"kind\":null,\"name\":\"flex_wrap\"},{\"default\":\"flex-start\",\"kind\":null,\"name\":\"justify_content\"}]},{\"extends\":null,\"module\":null,\"name\":\"GridStack1\",\"overrides\":[],\"properties\":[{\"default\":\"warn\",\"kind\":null,\"name\":\"mode\"},{\"default\":null,\"kind\":null,\"name\":\"ncols\"},{\"default\":null,\"kind\":null,\"name\":\"nrows\"},{\"default\":true,\"kind\":null,\"name\":\"allow_resize\"},{\"default\":true,\"kind\":null,\"name\":\"allow_drag\"},{\"default\":[],\"kind\":null,\"name\":\"state\"}]},{\"extends\":null,\"module\":null,\"name\":\"click1\",\"overrides\":[],\"properties\":[{\"default\":\"\",\"kind\":null,\"name\":\"terminal_output\"},{\"default\":\"\",\"kind\":null,\"name\":\"debug_name\"},{\"default\":0,\"kind\":null,\"name\":\"clears\"}]},{\"extends\":null,\"module\":null,\"name\":\"NotificationAreaBase1\",\"overrides\":[],\"properties\":[{\"default\":\"bottom-right\",\"kind\":null,\"name\":\"position\"},{\"default\":0,\"kind\":null,\"name\":\"_clear\"}]},{\"extends\":null,\"module\":null,\"name\":\"NotificationArea1\",\"overrides\":[],\"properties\":[{\"default\":[],\"kind\":null,\"name\":\"notifications\"},{\"default\":\"bottom-right\",\"kind\":null,\"name\":\"position\"},{\"default\":0,\"kind\":null,\"name\":\"_clear\"},{\"default\":[{\"background\":\"#ffc107\",\"icon\":{\"className\":\"fas fa-exclamation-triangle\",\"color\":\"white\",\"tagName\":\"i\"},\"type\":\"warning\"},{\"background\":\"#007bff\",\"icon\":{\"className\":\"fas fa-info-circle\",\"color\":\"white\",\"tagName\":\"i\"},\"type\":\"info\"}],\"kind\":null,\"name\":\"types\"}]},{\"extends\":null,\"module\":null,\"name\":\"Notification\",\"overrides\":[],\"properties\":[{\"default\":null,\"kind\":null,\"name\":\"background\"},{\"default\":3000,\"kind\":null,\"name\":\"duration\"},{\"default\":null,\"kind\":null,\"name\":\"icon\"},{\"default\":\"\",\"kind\":null,\"name\":\"message\"},{\"default\":null,\"kind\":null,\"name\":\"notification_type\"},{\"default\":false,\"kind\":null,\"name\":\"_destroyed\"}]},{\"extends\":null,\"module\":null,\"name\":\"TemplateActions1\",\"overrides\":[],\"properties\":[{\"default\":0,\"kind\":null,\"name\":\"open_modal\"},{\"default\":0,\"kind\":null,\"name\":\"close_modal\"}]},{\"extends\":null,\"module\":null,\"name\":\"MaterialTemplateActions1\",\"overrides\":[],\"properties\":[{\"default\":0,\"kind\":null,\"name\":\"open_modal\"},{\"default\":0,\"kind\":null,\"name\":\"close_modal\"}]}],\"roots\":{\"references\":[{\"attributes\":{},\"id\":\"2163\",\"type\":\"AllLabels\"},{\"attributes\":{},\"id\":\"2162\",\"type\":\"BasicTickFormatter\"},{\"attributes\":{\"end\":10203576.9,\"reset_end\":10203576.9,\"reset_start\":0.0,\"tags\":[[[\"count\",\"count\",null]],{\"autorange\":false,\"invert_yaxis\":false}]},\"id\":\"2116\",\"type\":\"Range1d\"},{\"attributes\":{\"coordinates\":null,\"data_source\":{\"id\":\"2149\"},\"glyph\":{\"id\":\"2152\"},\"group\":null,\"hover_glyph\":null,\"muted_glyph\":{\"id\":\"2154\"},\"nonselection_glyph\":{\"id\":\"2153\"},\"selection_glyph\":{\"id\":\"2157\"},\"view\":{\"id\":\"2156\"}},\"id\":\"2155\",\"type\":\"GlyphRenderer\"},{\"attributes\":{\"fill_alpha\":{\"value\":0.1},\"fill_color\":{\"value\":\"#30a2da\"},\"hatch_alpha\":{\"value\":0.1},\"hatch_color\":{\"value\":\"#30a2da\"},\"line_alpha\":{\"value\":0.1},\"tags\":[\"apply_ranges\"],\"top\":{\"field\":\"count\"},\"width\":{\"value\":0.8},\"x\":{\"field\":\"department\"}},\"id\":\"2153\",\"type\":\"VBar\"},{\"attributes\":{},\"id\":\"2159\",\"type\":\"CategoricalTickFormatter\"},{\"attributes\":{\"active_drag\":{\"id\":\"2137\"},\"active_scroll\":{\"id\":\"2138\"},\"tools\":[{\"id\":\"2119\"},{\"id\":\"2136\"},{\"id\":\"2137\"},{\"id\":\"2138\"},{\"id\":\"2139\"},{\"id\":\"2140\"}]},\"id\":\"2142\",\"type\":\"Toolbar\"},{\"attributes\":{\"children\":[{\"id\":\"2120\"}],\"height\":300,\"margin\":[0,0,0,0],\"name\":\"Row01842\",\"sizing_mode\":\"fixed\",\"tags\":[\"embedded\"],\"width\":700},\"id\":\"2114\",\"type\":\"Row\"},{\"attributes\":{},\"id\":\"2133\",\"type\":\"BasicTicker\"},{\"attributes\":{\"callback\":null,\"renderers\":[{\"id\":\"2155\"}],\"tags\":[\"hv_created\"],\"tooltips\":[[\"department\",\"@{department}\"],[\"count\",\"@{count}\"]]},\"id\":\"2119\",\"type\":\"HoverTool\"},{\"attributes\":{},\"id\":\"2127\",\"type\":\"CategoricalScale\"},{\"attributes\":{\"source\":{\"id\":\"2149\"}},\"id\":\"2156\",\"type\":\"CDSView\"},{\"attributes\":{\"overlay\":{\"id\":\"2141\"}},\"id\":\"2139\",\"type\":\"BoxZoomTool\"},{\"attributes\":{\"factors\":[\"produce\",\"dairy eggs\",\"snacks\",\"beverages\",\"frozen\"],\"tags\":[[[\"department\",\"department\",null]],[]]},\"id\":\"2115\",\"type\":\"FactorRange\"},{\"attributes\":{\"data\":{\"count\":[9479291,5414016,2887550,2690129,2236432],\"department\":[\"produce\",\"dairy eggs\",\"snacks\",\"beverages\",\"frozen\"]},\"selected\":{\"id\":\"2150\"},\"selection_policy\":{\"id\":\"2175\"}},\"id\":\"2149\",\"type\":\"ColumnDataSource\"},{\"attributes\":{\"coordinates\":null,\"group\":null,\"text\":\"Top 5 departments\",\"text_color\":\"black\",\"text_font_size\":\"12pt\"},\"id\":\"2121\",\"type\":\"Title\"},{\"attributes\":{},\"id\":\"2128\",\"type\":\"LinearScale\"},{\"attributes\":{},\"id\":\"2160\",\"type\":\"AllLabels\"},{\"attributes\":{\"fill_color\":{\"value\":\"#30a2da\"},\"hatch_color\":{\"value\":\"#30a2da\"},\"tags\":[\"apply_ranges\"],\"top\":{\"field\":\"count\"},\"width\":{\"value\":0.8},\"x\":{\"field\":\"department\"}},\"id\":\"2152\",\"type\":\"VBar\"},{\"attributes\":{},\"id\":\"2175\",\"type\":\"UnionRenderers\"},{\"attributes\":{},\"id\":\"2136\",\"type\":\"SaveTool\"},{\"attributes\":{},\"id\":\"2137\",\"type\":\"PanTool\"},{\"attributes\":{\"axis\":{\"id\":\"2129\"},\"coordinates\":null,\"grid_line_color\":null,\"group\":null,\"ticker\":null},\"id\":\"2131\",\"type\":\"Grid\"},{\"attributes\":{\"axis_label\":\"count\",\"coordinates\":null,\"formatter\":{\"id\":\"2162\"},\"group\":null,\"major_label_policy\":{\"id\":\"2163\"},\"ticker\":{\"id\":\"2133\"}},\"id\":\"2132\",\"type\":\"LinearAxis\"},{\"attributes\":{\"axis_label\":\"department\",\"coordinates\":null,\"formatter\":{\"id\":\"2159\"},\"group\":null,\"major_label_policy\":{\"id\":\"2160\"},\"ticker\":{\"id\":\"2130\"}},\"id\":\"2129\",\"type\":\"CategoricalAxis\"},{\"attributes\":{\"below\":[{\"id\":\"2129\"}],\"center\":[{\"id\":\"2131\"},{\"id\":\"2135\"}],\"height\":300,\"left\":[{\"id\":\"2132\"}],\"margin\":[5,5,5,5],\"min_border_bottom\":10,\"min_border_left\":10,\"min_border_right\":10,\"min_border_top\":10,\"output_backend\":\"webgl\",\"renderers\":[{\"id\":\"2155\"}],\"sizing_mode\":\"fixed\",\"title\":{\"id\":\"2121\"},\"toolbar\":{\"id\":\"2142\"},\"width\":700,\"x_range\":{\"id\":\"2115\"},\"x_scale\":{\"id\":\"2127\"},\"y_range\":{\"id\":\"2116\"},\"y_scale\":{\"id\":\"2128\"}},\"id\":\"2120\",\"subtype\":\"Figure\",\"type\":\"Plot\"},{\"attributes\":{},\"id\":\"2138\",\"type\":\"WheelZoomTool\"},{\"attributes\":{},\"id\":\"2140\",\"type\":\"ResetTool\"},{\"attributes\":{\"fill_alpha\":{\"value\":0.2},\"fill_color\":{\"value\":\"#30a2da\"},\"hatch_alpha\":{\"value\":0.2},\"hatch_color\":{\"value\":\"#30a2da\"},\"line_alpha\":{\"value\":0.2},\"tags\":[\"apply_ranges\"],\"top\":{\"field\":\"count\"},\"width\":{\"value\":0.8},\"x\":{\"field\":\"department\"}},\"id\":\"2154\",\"type\":\"VBar\"},{\"attributes\":{},\"id\":\"2130\",\"type\":\"CategoricalTicker\"},{\"attributes\":{\"axis\":{\"id\":\"2132\"},\"coordinates\":null,\"dimension\":1,\"grid_line_color\":null,\"group\":null,\"ticker\":null},\"id\":\"2135\",\"type\":\"Grid\"},{\"attributes\":{},\"id\":\"2150\",\"type\":\"Selection\"},{\"attributes\":{\"bottom_units\":\"screen\",\"coordinates\":null,\"fill_alpha\":0.5,\"fill_color\":\"lightgrey\",\"group\":null,\"left_units\":\"screen\",\"level\":\"overlay\",\"line_alpha\":1.0,\"line_color\":\"black\",\"line_dash\":[4,4],\"line_width\":2,\"right_units\":\"screen\",\"syncable\":false,\"top_units\":\"screen\"},\"id\":\"2141\",\"type\":\"BoxAnnotation\"},{\"attributes\":{\"bottom\":{\"value\":0},\"fill_alpha\":{\"value\":1.0},\"fill_color\":{\"value\":\"#30a2da\"},\"hatch_alpha\":{\"value\":1.0},\"hatch_color\":{\"value\":\"#30a2da\"},\"hatch_scale\":{\"value\":12.0},\"hatch_weight\":{\"value\":1.0},\"line_alpha\":{\"value\":1.0},\"line_cap\":{\"value\":\"butt\"},\"line_color\":{\"value\":\"black\"},\"line_dash\":{\"value\":[]},\"line_dash_offset\":{\"value\":0},\"line_join\":{\"value\":\"bevel\"},\"line_width\":{\"value\":1},\"tags\":[\"apply_ranges\"],\"top\":{\"field\":\"count\"},\"width\":{\"value\":0.8},\"x\":{\"field\":\"department\"}},\"id\":\"2157\",\"type\":\"VBar\"}],\"root_ids\":[\"2114\"]},\"title\":\"Bokeh Application\",\"version\":\"2.4.3\"}};\n",
       "    var render_items = [{\"docid\":\"e5900f33-bfed-4674-8e7f-413e65ca74f1\",\"root_ids\":[\"2114\"],\"roots\":{\"2114\":\"f3374614-5472-41e3-ab4f-a3abbe89c572\"}}];\n",
       "    root.Bokeh.embed.embed_items_notebook(docs_json, render_items);\n",
       "    for (const render_item of render_items) {\n",
       "      for (const root_id of render_item.root_ids) {\n",
       "\tconst id_el = document.getElementById(root_id)\n",
       "\tif (id_el.children.length && (id_el.children[0].className === 'bk-root')) {\n",
       "\t  const root_el = id_el.children[0]\n",
       "\t  root_el.id = root_el.id + '-rendered'\n",
       "\t}\n",
       "      }\n",
       "    }\n",
       "  }\n",
       "  if (root.Bokeh !== undefined && root.Bokeh.Panel !== undefined) {\n",
       "    embed_document(root);\n",
       "  } else {\n",
       "    var attempts = 0;\n",
       "    var timer = setInterval(function(root) {\n",
       "      if (root.Bokeh !== undefined && root.Bokeh.Panel !== undefined) {\n",
       "        clearInterval(timer);\n",
       "        embed_document(root);\n",
       "      } else if (document.readyState == \"complete\") {\n",
       "        attempts++;\n",
       "        if (attempts > 200) {\n",
       "          clearInterval(timer);\n",
       "          console.log(\"Bokeh: ERROR: Unable to run BokehJS code because BokehJS library is missing\");\n",
       "        }\n",
       "      }\n",
       "    }, 25, root)\n",
       "  }\n",
       "})(window);</script>"
      ],
      "text/plain": [
       ":Bars   [department]   (count)"
      ]
     },
     "execution_count": 33,
     "metadata": {
      "application/vnd.holoviews_exec.v0+json": {
       "id": "2114"
      }
     },
     "output_type": "execute_result"
    }
   ],
   "source": [
    "df_top_departments = pd.DataFrame(df_product_occurrence.groupby(\"department\")[\"count\"].sum()).reset_index()\n",
    "df_top_departments = df_top_departments.sort_values(\"count\", ascending=False)\n",
    "df_top_departments[0:5].hvplot.bar(y=\"count\", x=\"department\", title=\"Top 5 departments\")"
   ]
  },
  {
   "cell_type": "code",
   "execution_count": null,
   "id": "b88a7852",
   "metadata": {},
   "outputs": [],
   "source": []
  }
 ],
 "metadata": {
  "kernelspec": {
   "display_name": "Python 3",
   "language": "python",
   "name": "python3"
  },
  "language_info": {
   "codemirror_mode": {
    "name": "ipython",
    "version": 3
   },
   "file_extension": ".py",
   "mimetype": "text/x-python",
   "name": "python",
   "nbconvert_exporter": "python",
   "pygments_lexer": "ipython3",
   "version": "3.9.17"
  }
 },
 "nbformat": 4,
 "nbformat_minor": 5
}
